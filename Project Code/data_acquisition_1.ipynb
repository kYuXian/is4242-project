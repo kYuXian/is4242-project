{
 "cells": [
  {
   "cell_type": "code",
   "execution_count": 1,
   "id": "44828feb",
   "metadata": {},
   "outputs": [],
   "source": [
    "import pandas as pd\n",
    "import numpy as np \n",
    "import requests\n",
    "import time\n",
    "import csv\n",
    "import json"
   ]
  },
  {
   "cell_type": "markdown",
   "id": "addb183a",
   "metadata": {},
   "source": [
    "**Reference materials:**\n",
    "\n",
    "Steam API: (200 calls per 5 minutes, 100,000 calls per day)\n",
    "\n",
    "https://partner.steamgames.com/doc/webapi_overview\n",
    "\n",
    "https://steamapi.xpaw.me/\n",
    "\n",
    "https://nik-davis.github.io/posts/2019/steam-data-collection/\n",
    "\n",
    "https://steamspy.com/api.php\n"
   ]
  },
  {
   "cell_type": "code",
   "execution_count": 2,
   "id": "2a295823",
   "metadata": {},
   "outputs": [],
   "source": [
    "def get_request(url, parameters=None, headers=None, print_url=True):\n",
    "    try:\n",
    "        response = requests.get(url=url, params=parameters, headers=headers)\n",
    "    except KeyboardInterrupt:\n",
    "        raise KeyboardInterrupt\n",
    "    except:\n",
    "        print(\"Error.\")\n",
    "        return\n",
    "    \n",
    "    if response:\n",
    "        if print_url:\n",
    "            print(response.url)\n",
    "            \n",
    "        # requests might return an empty string instead of a json object\n",
    "        if response.text == '':\n",
    "            return {}\n",
    "        else:\n",
    "            return response.json()\n",
    "    else:\n",
    "        # Recursively wait and try again\n",
    "        print('No response, waiting 10 seconds...')\n",
    "        time.sleep(10)\n",
    "        print('Retrying.')\n",
    "        return get_request(url, parameters)"
   ]
  },
  {
   "cell_type": "markdown",
   "id": "eda20fee",
   "metadata": {},
   "source": [
    "## Steam Web API\n",
    "\n",
    "We will get a list of Steam App IDs from the Steam Web API"
   ]
  },
  {
   "cell_type": "code",
   "execution_count": 3,
   "id": "23923ad8",
   "metadata": {},
   "outputs": [],
   "source": [
    "STEAM_WEB_API_KEY = open(\"../AUTH/STEAM_WEB_API_KEY.txt\").read()\n",
    "\n",
    "def get_steam_web_data(interface, method, version, parameters={}):\n",
    "    url = f\"https://api.steampowered.com/{interface}/{method}/{version}/\"\n",
    "    json_data = get_request(url, parameters={'key': STEAM_WEB_API_KEY, **parameters})\n",
    "    return json_data"
   ]
  },
  {
   "cell_type": "code",
   "execution_count": 4,
   "id": "02066433",
   "metadata": {},
   "outputs": [
    {
     "name": "stdout",
     "output_type": "stream",
     "text": [
      "https://api.steampowered.com/ISteamNews/GetNewsForApp/v2/?key=792AD82A8A06F3B2411A2A5711A9AD60&appid=570&format=json\n",
      "CPU times: total: 15.6 ms\n",
      "Wall time: 104 ms\n"
     ]
    },
    {
     "data": {
      "text/html": [
       "<div>\n",
       "<style scoped>\n",
       "    .dataframe tbody tr th:only-of-type {\n",
       "        vertical-align: middle;\n",
       "    }\n",
       "\n",
       "    .dataframe tbody tr th {\n",
       "        vertical-align: top;\n",
       "    }\n",
       "\n",
       "    .dataframe thead th {\n",
       "        text-align: right;\n",
       "    }\n",
       "</style>\n",
       "<table border=\"1\" class=\"dataframe\">\n",
       "  <thead>\n",
       "    <tr style=\"text-align: right;\">\n",
       "      <th></th>\n",
       "      <th>gid</th>\n",
       "      <th>title</th>\n",
       "      <th>url</th>\n",
       "      <th>is_external_url</th>\n",
       "      <th>author</th>\n",
       "      <th>contents</th>\n",
       "      <th>feedlabel</th>\n",
       "      <th>date</th>\n",
       "      <th>feedname</th>\n",
       "      <th>feed_type</th>\n",
       "      <th>appid</th>\n",
       "      <th>tags</th>\n",
       "    </tr>\n",
       "  </thead>\n",
       "  <tbody>\n",
       "    <tr>\n",
       "      <th>0</th>\n",
       "      <td>5125698536858982908</td>\n",
       "      <td>Dota 2 Update - 3/17/2023</td>\n",
       "      <td>https://steamstore-a.akamaihd.net/news/externa...</td>\n",
       "      <td>True</td>\n",
       "      <td>NathanKell</td>\n",
       "      <td>[h1]Gameplay Update[/h1]\\n\\n[b]Muerta:[/b]\\n[l...</td>\n",
       "      <td>Community Announcements</td>\n",
       "      <td>1679092843</td>\n",
       "      <td>steam_community_announcements</td>\n",
       "      <td>1</td>\n",
       "      <td>570</td>\n",
       "      <td>[patchnotes]</td>\n",
       "    </tr>\n",
       "    <tr>\n",
       "      <th>1</th>\n",
       "      <td>5125698536850978678</td>\n",
       "      <td>Dota 2 Update - 3/15/2023</td>\n",
       "      <td>https://steamstore-a.akamaihd.net/news/externa...</td>\n",
       "      <td>True</td>\n",
       "      <td>flynnch</td>\n",
       "      <td>[list]\\n[*] Fixed an issue where some players ...</td>\n",
       "      <td>Community Announcements</td>\n",
       "      <td>1678903122</td>\n",
       "      <td>steam_community_announcements</td>\n",
       "      <td>1</td>\n",
       "      <td>570</td>\n",
       "      <td>[patchnotes]</td>\n",
       "    </tr>\n",
       "    <tr>\n",
       "      <th>2</th>\n",
       "      <td>5070528810304321813</td>\n",
       "      <td>Bans for 46 players in cheating case hit Dota ...</td>\n",
       "      <td>https://steamstore-a.akamaihd.net/news/externa...</td>\n",
       "      <td>True</td>\n",
       "      <td>Jonathan Bolding</td>\n",
       "      <td>&lt;img src=\"https://cdn.mos.cms.futurecdn.net/JW...</td>\n",
       "      <td>PC Gamer</td>\n",
       "      <td>1678656643</td>\n",
       "      <td>PC Gamer</td>\n",
       "      <td>0</td>\n",
       "      <td>570</td>\n",
       "      <td>NaN</td>\n",
       "    </tr>\n",
       "    <tr>\n",
       "      <th>3</th>\n",
       "      <td>5070528810296818379</td>\n",
       "      <td>DPC Spring Tour Kickoff</td>\n",
       "      <td>https://steamstore-a.akamaihd.net/news/externa...</td>\n",
       "      <td>True</td>\n",
       "      <td>ericl_*****</td>\n",
       "      <td>[img]{STEAM_CLAN_IMAGE}/3703047/d5d396eb58a140...</td>\n",
       "      <td>Community Announcements</td>\n",
       "      <td>1678478729</td>\n",
       "      <td>steam_community_announcements</td>\n",
       "      <td>1</td>\n",
       "      <td>570</td>\n",
       "      <td>NaN</td>\n",
       "    </tr>\n",
       "    <tr>\n",
       "      <th>4</th>\n",
       "      <td>5070528810286421665</td>\n",
       "      <td>Dota 2's new ghostly gunslinger hero is live</td>\n",
       "      <td>https://steamstore-a.akamaihd.net/news/externa...</td>\n",
       "      <td>True</td>\n",
       "      <td>Andy Chalk</td>\n",
       "      <td>&lt;img src=\"https://cdn.mos.cms.futurecdn.net/SK...</td>\n",
       "      <td>PC Gamer</td>\n",
       "      <td>1678231724</td>\n",
       "      <td>PC Gamer</td>\n",
       "      <td>0</td>\n",
       "      <td>570</td>\n",
       "      <td>NaN</td>\n",
       "    </tr>\n",
       "  </tbody>\n",
       "</table>\n",
       "</div>"
      ],
      "text/plain": [
       "                   gid                                              title  \\\n",
       "0  5125698536858982908                          Dota 2 Update - 3/17/2023   \n",
       "1  5125698536850978678                          Dota 2 Update - 3/15/2023   \n",
       "2  5070528810304321813  Bans for 46 players in cheating case hit Dota ...   \n",
       "3  5070528810296818379                            DPC Spring Tour Kickoff   \n",
       "4  5070528810286421665       Dota 2's new ghostly gunslinger hero is live   \n",
       "\n",
       "                                                 url  is_external_url  \\\n",
       "0  https://steamstore-a.akamaihd.net/news/externa...             True   \n",
       "1  https://steamstore-a.akamaihd.net/news/externa...             True   \n",
       "2  https://steamstore-a.akamaihd.net/news/externa...             True   \n",
       "3  https://steamstore-a.akamaihd.net/news/externa...             True   \n",
       "4  https://steamstore-a.akamaihd.net/news/externa...             True   \n",
       "\n",
       "             author                                           contents  \\\n",
       "0        NathanKell  [h1]Gameplay Update[/h1]\\n\\n[b]Muerta:[/b]\\n[l...   \n",
       "1           flynnch  [list]\\n[*] Fixed an issue where some players ...   \n",
       "2  Jonathan Bolding  <img src=\"https://cdn.mos.cms.futurecdn.net/JW...   \n",
       "3       ericl_*****  [img]{STEAM_CLAN_IMAGE}/3703047/d5d396eb58a140...   \n",
       "4        Andy Chalk  <img src=\"https://cdn.mos.cms.futurecdn.net/SK...   \n",
       "\n",
       "                 feedlabel        date                       feedname  \\\n",
       "0  Community Announcements  1679092843  steam_community_announcements   \n",
       "1  Community Announcements  1678903122  steam_community_announcements   \n",
       "2                 PC Gamer  1678656643                       PC Gamer   \n",
       "3  Community Announcements  1678478729  steam_community_announcements   \n",
       "4                 PC Gamer  1678231724                       PC Gamer   \n",
       "\n",
       "   feed_type  appid          tags  \n",
       "0          1    570  [patchnotes]  \n",
       "1          1    570  [patchnotes]  \n",
       "2          0    570           NaN  \n",
       "3          1    570           NaN  \n",
       "4          0    570           NaN  "
      ]
     },
     "execution_count": 4,
     "metadata": {},
     "output_type": "execute_result"
    }
   ],
   "source": [
    "%%time \n",
    "\n",
    "# ISteamNews: GetNewsForApp\n",
    "# Get data from Steam News Hub\n",
    "parameters = { 'appid': 570, 'format':'json'}\n",
    "appnews = get_steam_web_data(\"ISteamNews\", \"GetNewsForApp\", \"v2\", parameters)['appnews']['newsitems']\n",
    "appnews_df = pd.DataFrame.from_dict(appnews)\n",
    "appnews_df.head()"
   ]
  },
  {
   "cell_type": "code",
   "execution_count": 5,
   "id": "9f2052c4",
   "metadata": {
    "scrolled": true
   },
   "outputs": [
    {
     "name": "stdout",
     "output_type": "stream",
     "text": [
      "https://api.steampowered.com/ISteamApps/GetAppList/v2/?key=792AD82A8A06F3B2411A2A5711A9AD60&format=json\n",
      "(159031, 2)\n",
      "CPU times: total: 109 ms\n",
      "Wall time: 686 ms\n"
     ]
    },
    {
     "data": {
      "text/html": [
       "<div>\n",
       "<style scoped>\n",
       "    .dataframe tbody tr th:only-of-type {\n",
       "        vertical-align: middle;\n",
       "    }\n",
       "\n",
       "    .dataframe tbody tr th {\n",
       "        vertical-align: top;\n",
       "    }\n",
       "\n",
       "    .dataframe thead th {\n",
       "        text-align: right;\n",
       "    }\n",
       "</style>\n",
       "<table border=\"1\" class=\"dataframe\">\n",
       "  <thead>\n",
       "    <tr style=\"text-align: right;\">\n",
       "      <th></th>\n",
       "      <th>appid</th>\n",
       "      <th>name</th>\n",
       "    </tr>\n",
       "  </thead>\n",
       "  <tbody>\n",
       "    <tr>\n",
       "      <th>0</th>\n",
       "      <td>1383152</td>\n",
       "      <td></td>\n",
       "    </tr>\n",
       "    <tr>\n",
       "      <th>1</th>\n",
       "      <td>1897482</td>\n",
       "      <td></td>\n",
       "    </tr>\n",
       "    <tr>\n",
       "      <th>2</th>\n",
       "      <td>2112761</td>\n",
       "      <td></td>\n",
       "    </tr>\n",
       "    <tr>\n",
       "      <th>3</th>\n",
       "      <td>1829051</td>\n",
       "      <td></td>\n",
       "    </tr>\n",
       "    <tr>\n",
       "      <th>4</th>\n",
       "      <td>1983382</td>\n",
       "      <td></td>\n",
       "    </tr>\n",
       "  </tbody>\n",
       "</table>\n",
       "</div>"
      ],
      "text/plain": [
       "     appid name\n",
       "0  1383152     \n",
       "1  1897482     \n",
       "2  2112761     \n",
       "3  1829051     \n",
       "4  1983382     "
      ]
     },
     "execution_count": 5,
     "metadata": {},
     "output_type": "execute_result"
    }
   ],
   "source": [
    "%%time \n",
    "\n",
    "# ISteamApps: GetAppList\n",
    "parameters = {'format':'json'}\n",
    "\n",
    "applist = get_steam_web_data(\"ISteamApps\", \"GetAppList\", \"v2\", parameters)['applist']['apps']\n",
    "applist_df = pd.DataFrame.from_dict(applist)\n",
    "print(applist_df.shape)\n",
    "applist_df.head()"
   ]
  },
  {
   "cell_type": "code",
   "execution_count": 6,
   "id": "0cdd773e",
   "metadata": {},
   "outputs": [
    {
     "data": {
      "text/plain": [
       "159001"
      ]
     },
     "execution_count": 6,
     "metadata": {},
     "output_type": "execute_result"
    }
   ],
   "source": [
    "# Remove rows with blank name\n",
    "applist_df.replace('', np.nan, inplace=True)\n",
    "appid_list = list(applist_df.dropna(how=\"any\")['appid'])\n",
    "\n",
    "# Convert ids to string\n",
    "appid_list = [str(x) for x in appid_list]\n",
    "len(appid_list)"
   ]
  },
  {
   "cell_type": "markdown",
   "id": "62ede8a0",
   "metadata": {},
   "source": [
    "## Data Parsing Functions"
   ]
  },
  {
   "cell_type": "code",
   "execution_count": 7,
   "id": "cedd6758",
   "metadata": {},
   "outputs": [],
   "source": [
    "# Get info about provided app id from steam store\n",
    "def get_steamstore_app_info(appid):\n",
    "    url = \"http://store.steampowered.com/api/appdetails\"\n",
    "    parameters = {\"appids\": appid}\n",
    "    json_data = get_request(url, parameters, print_url=False)\n",
    "    if json_data:\n",
    "        if json_data[str(appid)]['success']:\n",
    "            return json_data[str(appid)]['data']\n",
    "    else:\n",
    "        return\n",
    "\n",
    "# Returns list of values in the order specified by the columns\n",
    "def get_approw(approw, columns):\n",
    "    fields = []\n",
    "    for col in columns:\n",
    "        if col in approw:\n",
    "            fields.append(approw[col])\n",
    "        else:\n",
    "            fields.append(None)\n",
    "    return fields\n",
    "    \n",
    "# Get info about provided app id from steam spy \n",
    "def get_steamspy_app_info(appid):\n",
    "    url = \"https://steamspy.com/api.php\"\n",
    "    parameters = {\"request\": \"appdetails\", \"appid\": appid}\n",
    "    json_data = get_request(url, parameters, print_url=False)\n",
    "    return json_data\n",
    "\n",
    "def get_remaining_apps(file, ls):\n",
    "    if file.tell()==0:\n",
    "        return ls\n",
    "    \n",
    "    file.seek(0)\n",
    "    lines = file.readlines()\n",
    "    done_apps = set([line.split(',')[0].strip() for line in lines])\n",
    "    all_apps = set(ls)\n",
    "    return list(all_apps - done_apps)"
   ]
  },
  {
   "cell_type": "markdown",
   "id": "054ddb56",
   "metadata": {},
   "source": [
    "## Steam Store API"
   ]
  },
  {
   "cell_type": "code",
   "execution_count": 8,
   "id": "5419d4a6",
   "metadata": {},
   "outputs": [],
   "source": [
    "steam_store_columns = [\"steam_appid\", \"type\", \"name\", \"required_age\", \"is_free\", \n",
    "                       \"short_description\", \"supported_languages\", \"website\", \"developers\", \"publishers\"\n",
    "                       \"supported_languages\", \"platforms\", \"metacritic\", \"categories\", \"genres\", \n",
    "                       \"movies\", \"recommendations\", \"release_date\"]"
   ]
  },
  {
   "cell_type": "code",
   "execution_count": 9,
   "id": "8af58c0c",
   "metadata": {},
   "outputs": [
    {
     "name": "stdout",
     "output_type": "stream",
     "text": [
      "Count of apps not called:  119205\n"
     ]
    },
    {
     "ename": "KeyboardInterrupt",
     "evalue": "",
     "output_type": "error",
     "traceback": [
      "\u001b[1;31m---------------------------------------------------------------------------\u001b[0m",
      "\u001b[1;31mKeyboardInterrupt\u001b[0m                         Traceback (most recent call last)",
      "Cell \u001b[1;32mIn [2], line 3\u001b[0m, in \u001b[0;36mget_request\u001b[1;34m(url, parameters, headers, print_url)\u001b[0m\n\u001b[0;32m      2\u001b[0m \u001b[38;5;28;01mtry\u001b[39;00m:\n\u001b[1;32m----> 3\u001b[0m     response \u001b[38;5;241m=\u001b[39m \u001b[43mrequests\u001b[49m\u001b[38;5;241;43m.\u001b[39;49m\u001b[43mget\u001b[49m\u001b[43m(\u001b[49m\u001b[43murl\u001b[49m\u001b[38;5;241;43m=\u001b[39;49m\u001b[43murl\u001b[49m\u001b[43m,\u001b[49m\u001b[43m \u001b[49m\u001b[43mparams\u001b[49m\u001b[38;5;241;43m=\u001b[39;49m\u001b[43mparameters\u001b[49m\u001b[43m,\u001b[49m\u001b[43m \u001b[49m\u001b[43mheaders\u001b[49m\u001b[38;5;241;43m=\u001b[39;49m\u001b[43mheaders\u001b[49m\u001b[43m)\u001b[49m\n\u001b[0;32m      4\u001b[0m \u001b[38;5;28;01mexcept\u001b[39;00m \u001b[38;5;167;01mKeyboardInterrupt\u001b[39;00m:\n",
      "File \u001b[1;32m~\\AppData\\Roaming\\Python\\Python310\\site-packages\\requests\\api.py:73\u001b[0m, in \u001b[0;36mget\u001b[1;34m(url, params, **kwargs)\u001b[0m\n\u001b[0;32m     63\u001b[0m \u001b[39mr\u001b[39m\u001b[39m\"\"\"Sends a GET request.\u001b[39;00m\n\u001b[0;32m     64\u001b[0m \n\u001b[0;32m     65\u001b[0m \u001b[39m:param url: URL for the new :class:`Request` object.\u001b[39;00m\n\u001b[1;32m   (...)\u001b[0m\n\u001b[0;32m     70\u001b[0m \u001b[39m:rtype: requests.Response\u001b[39;00m\n\u001b[0;32m     71\u001b[0m \u001b[39m\"\"\"\u001b[39;00m\n\u001b[1;32m---> 73\u001b[0m \u001b[39mreturn\u001b[39;00m request(\u001b[39m\"\u001b[39m\u001b[39mget\u001b[39m\u001b[39m\"\u001b[39m, url, params\u001b[39m=\u001b[39mparams, \u001b[39m*\u001b[39m\u001b[39m*\u001b[39mkwargs)\n",
      "File \u001b[1;32m~\\AppData\\Roaming\\Python\\Python310\\site-packages\\requests\\api.py:59\u001b[0m, in \u001b[0;36mrequest\u001b[1;34m(method, url, **kwargs)\u001b[0m\n\u001b[0;32m     58\u001b[0m \u001b[39mwith\u001b[39;00m sessions\u001b[39m.\u001b[39mSession() \u001b[39mas\u001b[39;00m session:\n\u001b[1;32m---> 59\u001b[0m     \u001b[39mreturn\u001b[39;00m session\u001b[39m.\u001b[39mrequest(method\u001b[39m=\u001b[39mmethod, url\u001b[39m=\u001b[39murl, \u001b[39m*\u001b[39m\u001b[39m*\u001b[39mkwargs)\n",
      "File \u001b[1;32m~\\AppData\\Roaming\\Python\\Python310\\site-packages\\requests\\sessions.py:587\u001b[0m, in \u001b[0;36mSession.request\u001b[1;34m(self, method, url, params, data, headers, cookies, files, auth, timeout, allow_redirects, proxies, hooks, stream, verify, cert, json)\u001b[0m\n\u001b[0;32m    586\u001b[0m send_kwargs\u001b[39m.\u001b[39mupdate(settings)\n\u001b[1;32m--> 587\u001b[0m resp \u001b[39m=\u001b[39m \u001b[39mself\u001b[39m\u001b[39m.\u001b[39msend(prep, \u001b[39m*\u001b[39m\u001b[39m*\u001b[39msend_kwargs)\n\u001b[0;32m    589\u001b[0m \u001b[39mreturn\u001b[39;00m resp\n",
      "File \u001b[1;32m~\\AppData\\Roaming\\Python\\Python310\\site-packages\\requests\\sessions.py:723\u001b[0m, in \u001b[0;36mSession.send\u001b[1;34m(self, request, **kwargs)\u001b[0m\n\u001b[0;32m    722\u001b[0m     gen \u001b[39m=\u001b[39m \u001b[39mself\u001b[39m\u001b[39m.\u001b[39mresolve_redirects(r, request, \u001b[39m*\u001b[39m\u001b[39m*\u001b[39mkwargs)\n\u001b[1;32m--> 723\u001b[0m     history \u001b[39m=\u001b[39m [resp \u001b[39mfor\u001b[39;00m resp \u001b[39min\u001b[39;00m gen]\n\u001b[0;32m    724\u001b[0m \u001b[39melse\u001b[39;00m:\n",
      "File \u001b[1;32m~\\AppData\\Roaming\\Python\\Python310\\site-packages\\requests\\sessions.py:723\u001b[0m, in \u001b[0;36m<listcomp>\u001b[1;34m(.0)\u001b[0m\n\u001b[0;32m    722\u001b[0m     gen \u001b[39m=\u001b[39m \u001b[39mself\u001b[39m\u001b[39m.\u001b[39mresolve_redirects(r, request, \u001b[39m*\u001b[39m\u001b[39m*\u001b[39mkwargs)\n\u001b[1;32m--> 723\u001b[0m     history \u001b[39m=\u001b[39m [resp \u001b[39mfor\u001b[39;00m resp \u001b[39min\u001b[39;00m gen]\n\u001b[0;32m    724\u001b[0m \u001b[39melse\u001b[39;00m:\n",
      "File \u001b[1;32m~\\AppData\\Roaming\\Python\\Python310\\site-packages\\requests\\sessions.py:266\u001b[0m, in \u001b[0;36mSessionRedirectMixin.resolve_redirects\u001b[1;34m(self, resp, req, stream, timeout, verify, cert, proxies, yield_requests, **adapter_kwargs)\u001b[0m\n\u001b[0;32m    264\u001b[0m \u001b[39melse\u001b[39;00m:\n\u001b[1;32m--> 266\u001b[0m     resp \u001b[39m=\u001b[39m \u001b[39mself\u001b[39m\u001b[39m.\u001b[39msend(\n\u001b[0;32m    267\u001b[0m         req,\n\u001b[0;32m    268\u001b[0m         stream\u001b[39m=\u001b[39mstream,\n\u001b[0;32m    269\u001b[0m         timeout\u001b[39m=\u001b[39mtimeout,\n\u001b[0;32m    270\u001b[0m         verify\u001b[39m=\u001b[39mverify,\n\u001b[0;32m    271\u001b[0m         cert\u001b[39m=\u001b[39mcert,\n\u001b[0;32m    272\u001b[0m         proxies\u001b[39m=\u001b[39mproxies,\n\u001b[0;32m    273\u001b[0m         allow_redirects\u001b[39m=\u001b[39m\u001b[39mFalse\u001b[39;00m,\n\u001b[0;32m    274\u001b[0m         \u001b[39m*\u001b[39m\u001b[39m*\u001b[39madapter_kwargs,\n\u001b[0;32m    275\u001b[0m     )\n\u001b[0;32m    277\u001b[0m     extract_cookies_to_jar(\u001b[39mself\u001b[39m\u001b[39m.\u001b[39mcookies, prepared_request, resp\u001b[39m.\u001b[39mraw)\n",
      "File \u001b[1;32m~\\AppData\\Roaming\\Python\\Python310\\site-packages\\requests\\sessions.py:701\u001b[0m, in \u001b[0;36mSession.send\u001b[1;34m(self, request, **kwargs)\u001b[0m\n\u001b[0;32m    700\u001b[0m \u001b[39m# Send the request\u001b[39;00m\n\u001b[1;32m--> 701\u001b[0m r \u001b[39m=\u001b[39m adapter\u001b[39m.\u001b[39msend(request, \u001b[39m*\u001b[39m\u001b[39m*\u001b[39mkwargs)\n\u001b[0;32m    703\u001b[0m \u001b[39m# Total elapsed time of the request (approximately)\u001b[39;00m\n",
      "File \u001b[1;32m~\\AppData\\Roaming\\Python\\Python310\\site-packages\\requests\\adapters.py:489\u001b[0m, in \u001b[0;36mHTTPAdapter.send\u001b[1;34m(self, request, stream, timeout, verify, cert, proxies)\u001b[0m\n\u001b[0;32m    488\u001b[0m \u001b[39mif\u001b[39;00m \u001b[39mnot\u001b[39;00m chunked:\n\u001b[1;32m--> 489\u001b[0m     resp \u001b[39m=\u001b[39m conn\u001b[39m.\u001b[39;49murlopen(\n\u001b[0;32m    490\u001b[0m         method\u001b[39m=\u001b[39;49mrequest\u001b[39m.\u001b[39;49mmethod,\n\u001b[0;32m    491\u001b[0m         url\u001b[39m=\u001b[39;49murl,\n\u001b[0;32m    492\u001b[0m         body\u001b[39m=\u001b[39;49mrequest\u001b[39m.\u001b[39;49mbody,\n\u001b[0;32m    493\u001b[0m         headers\u001b[39m=\u001b[39;49mrequest\u001b[39m.\u001b[39;49mheaders,\n\u001b[0;32m    494\u001b[0m         redirect\u001b[39m=\u001b[39;49m\u001b[39mFalse\u001b[39;49;00m,\n\u001b[0;32m    495\u001b[0m         assert_same_host\u001b[39m=\u001b[39;49m\u001b[39mFalse\u001b[39;49;00m,\n\u001b[0;32m    496\u001b[0m         preload_content\u001b[39m=\u001b[39;49m\u001b[39mFalse\u001b[39;49;00m,\n\u001b[0;32m    497\u001b[0m         decode_content\u001b[39m=\u001b[39;49m\u001b[39mFalse\u001b[39;49;00m,\n\u001b[0;32m    498\u001b[0m         retries\u001b[39m=\u001b[39;49m\u001b[39mself\u001b[39;49m\u001b[39m.\u001b[39;49mmax_retries,\n\u001b[0;32m    499\u001b[0m         timeout\u001b[39m=\u001b[39;49mtimeout,\n\u001b[0;32m    500\u001b[0m     )\n\u001b[0;32m    502\u001b[0m \u001b[39m# Send the request.\u001b[39;00m\n\u001b[0;32m    503\u001b[0m \u001b[39melse\u001b[39;00m:\n",
      "File \u001b[1;32m~\\AppData\\Roaming\\Python\\Python310\\site-packages\\urllib3\\connectionpool.py:703\u001b[0m, in \u001b[0;36mHTTPConnectionPool.urlopen\u001b[1;34m(self, method, url, body, headers, retries, redirect, assert_same_host, timeout, pool_timeout, release_conn, chunked, body_pos, **response_kw)\u001b[0m\n\u001b[0;32m    702\u001b[0m \u001b[39m# Make the request on the httplib connection object.\u001b[39;00m\n\u001b[1;32m--> 703\u001b[0m httplib_response \u001b[39m=\u001b[39m \u001b[39mself\u001b[39;49m\u001b[39m.\u001b[39;49m_make_request(\n\u001b[0;32m    704\u001b[0m     conn,\n\u001b[0;32m    705\u001b[0m     method,\n\u001b[0;32m    706\u001b[0m     url,\n\u001b[0;32m    707\u001b[0m     timeout\u001b[39m=\u001b[39;49mtimeout_obj,\n\u001b[0;32m    708\u001b[0m     body\u001b[39m=\u001b[39;49mbody,\n\u001b[0;32m    709\u001b[0m     headers\u001b[39m=\u001b[39;49mheaders,\n\u001b[0;32m    710\u001b[0m     chunked\u001b[39m=\u001b[39;49mchunked,\n\u001b[0;32m    711\u001b[0m )\n\u001b[0;32m    713\u001b[0m \u001b[39m# If we're going to release the connection in ``finally:``, then\u001b[39;00m\n\u001b[0;32m    714\u001b[0m \u001b[39m# the response doesn't need to know about the connection. Otherwise\u001b[39;00m\n\u001b[0;32m    715\u001b[0m \u001b[39m# it will also try to release it and we'll have a double-release\u001b[39;00m\n\u001b[0;32m    716\u001b[0m \u001b[39m# mess.\u001b[39;00m\n",
      "File \u001b[1;32m~\\AppData\\Roaming\\Python\\Python310\\site-packages\\urllib3\\connectionpool.py:449\u001b[0m, in \u001b[0;36mHTTPConnectionPool._make_request\u001b[1;34m(self, conn, method, url, timeout, chunked, **httplib_request_kw)\u001b[0m\n\u001b[0;32m    445\u001b[0m         \u001b[39mexcept\u001b[39;00m \u001b[39mBaseException\u001b[39;00m \u001b[39mas\u001b[39;00m e:\n\u001b[0;32m    446\u001b[0m             \u001b[39m# Remove the TypeError from the exception chain in\u001b[39;00m\n\u001b[0;32m    447\u001b[0m             \u001b[39m# Python 3 (including for exceptions like SystemExit).\u001b[39;00m\n\u001b[0;32m    448\u001b[0m             \u001b[39m# Otherwise it looks like a bug in the code.\u001b[39;00m\n\u001b[1;32m--> 449\u001b[0m             six\u001b[39m.\u001b[39;49mraise_from(e, \u001b[39mNone\u001b[39;49;00m)\n\u001b[0;32m    450\u001b[0m \u001b[39mexcept\u001b[39;00m (SocketTimeout, BaseSSLError, SocketError) \u001b[39mas\u001b[39;00m e:\n",
      "File \u001b[1;32m<string>:3\u001b[0m, in \u001b[0;36mraise_from\u001b[1;34m(value, from_value)\u001b[0m\n",
      "File \u001b[1;32m~\\AppData\\Roaming\\Python\\Python310\\site-packages\\urllib3\\connectionpool.py:444\u001b[0m, in \u001b[0;36mHTTPConnectionPool._make_request\u001b[1;34m(self, conn, method, url, timeout, chunked, **httplib_request_kw)\u001b[0m\n\u001b[0;32m    443\u001b[0m \u001b[39mtry\u001b[39;00m:\n\u001b[1;32m--> 444\u001b[0m     httplib_response \u001b[39m=\u001b[39m conn\u001b[39m.\u001b[39;49mgetresponse()\n\u001b[0;32m    445\u001b[0m \u001b[39mexcept\u001b[39;00m \u001b[39mBaseException\u001b[39;00m \u001b[39mas\u001b[39;00m e:\n\u001b[0;32m    446\u001b[0m     \u001b[39m# Remove the TypeError from the exception chain in\u001b[39;00m\n\u001b[0;32m    447\u001b[0m     \u001b[39m# Python 3 (including for exceptions like SystemExit).\u001b[39;00m\n\u001b[0;32m    448\u001b[0m     \u001b[39m# Otherwise it looks like a bug in the code.\u001b[39;00m\n",
      "File \u001b[1;32mc:\\Program Files\\Python310\\lib\\http\\client.py:1374\u001b[0m, in \u001b[0;36mHTTPConnection.getresponse\u001b[1;34m(self)\u001b[0m\n\u001b[0;32m   1373\u001b[0m \u001b[39mtry\u001b[39;00m:\n\u001b[1;32m-> 1374\u001b[0m     response\u001b[39m.\u001b[39;49mbegin()\n\u001b[0;32m   1375\u001b[0m \u001b[39mexcept\u001b[39;00m \u001b[39mConnectionError\u001b[39;00m:\n",
      "File \u001b[1;32mc:\\Program Files\\Python310\\lib\\http\\client.py:318\u001b[0m, in \u001b[0;36mHTTPResponse.begin\u001b[1;34m(self)\u001b[0m\n\u001b[0;32m    317\u001b[0m \u001b[39mwhile\u001b[39;00m \u001b[39mTrue\u001b[39;00m:\n\u001b[1;32m--> 318\u001b[0m     version, status, reason \u001b[39m=\u001b[39m \u001b[39mself\u001b[39;49m\u001b[39m.\u001b[39;49m_read_status()\n\u001b[0;32m    319\u001b[0m     \u001b[39mif\u001b[39;00m status \u001b[39m!=\u001b[39m CONTINUE:\n",
      "File \u001b[1;32mc:\\Program Files\\Python310\\lib\\http\\client.py:279\u001b[0m, in \u001b[0;36mHTTPResponse._read_status\u001b[1;34m(self)\u001b[0m\n\u001b[0;32m    278\u001b[0m \u001b[39mdef\u001b[39;00m \u001b[39m_read_status\u001b[39m(\u001b[39mself\u001b[39m):\n\u001b[1;32m--> 279\u001b[0m     line \u001b[39m=\u001b[39m \u001b[39mstr\u001b[39m(\u001b[39mself\u001b[39;49m\u001b[39m.\u001b[39;49mfp\u001b[39m.\u001b[39;49mreadline(_MAXLINE \u001b[39m+\u001b[39;49m \u001b[39m1\u001b[39;49m), \u001b[39m\"\u001b[39m\u001b[39miso-8859-1\u001b[39m\u001b[39m\"\u001b[39m)\n\u001b[0;32m    280\u001b[0m     \u001b[39mif\u001b[39;00m \u001b[39mlen\u001b[39m(line) \u001b[39m>\u001b[39m _MAXLINE:\n",
      "File \u001b[1;32mc:\\Program Files\\Python310\\lib\\socket.py:705\u001b[0m, in \u001b[0;36mSocketIO.readinto\u001b[1;34m(self, b)\u001b[0m\n\u001b[0;32m    704\u001b[0m \u001b[39mtry\u001b[39;00m:\n\u001b[1;32m--> 705\u001b[0m     \u001b[39mreturn\u001b[39;00m \u001b[39mself\u001b[39;49m\u001b[39m.\u001b[39;49m_sock\u001b[39m.\u001b[39;49mrecv_into(b)\n\u001b[0;32m    706\u001b[0m \u001b[39mexcept\u001b[39;00m timeout:\n",
      "File \u001b[1;32mc:\\Program Files\\Python310\\lib\\ssl.py:1274\u001b[0m, in \u001b[0;36mSSLSocket.recv_into\u001b[1;34m(self, buffer, nbytes, flags)\u001b[0m\n\u001b[0;32m   1271\u001b[0m         \u001b[39mraise\u001b[39;00m \u001b[39mValueError\u001b[39;00m(\n\u001b[0;32m   1272\u001b[0m           \u001b[39m\"\u001b[39m\u001b[39mnon-zero flags not allowed in calls to recv_into() on \u001b[39m\u001b[39m%s\u001b[39;00m\u001b[39m\"\u001b[39m \u001b[39m%\u001b[39m\n\u001b[0;32m   1273\u001b[0m           \u001b[39mself\u001b[39m\u001b[39m.\u001b[39m\u001b[39m__class__\u001b[39m)\n\u001b[1;32m-> 1274\u001b[0m     \u001b[39mreturn\u001b[39;00m \u001b[39mself\u001b[39;49m\u001b[39m.\u001b[39;49mread(nbytes, buffer)\n\u001b[0;32m   1275\u001b[0m \u001b[39melse\u001b[39;00m:\n",
      "File \u001b[1;32mc:\\Program Files\\Python310\\lib\\ssl.py:1130\u001b[0m, in \u001b[0;36mSSLSocket.read\u001b[1;34m(self, len, buffer)\u001b[0m\n\u001b[0;32m   1129\u001b[0m \u001b[39mif\u001b[39;00m buffer \u001b[39mis\u001b[39;00m \u001b[39mnot\u001b[39;00m \u001b[39mNone\u001b[39;00m:\n\u001b[1;32m-> 1130\u001b[0m     \u001b[39mreturn\u001b[39;00m \u001b[39mself\u001b[39;49m\u001b[39m.\u001b[39;49m_sslobj\u001b[39m.\u001b[39;49mread(\u001b[39mlen\u001b[39;49m, buffer)\n\u001b[0;32m   1131\u001b[0m \u001b[39melse\u001b[39;00m:\n",
      "\u001b[1;31mKeyboardInterrupt\u001b[0m: ",
      "\nDuring handling of the above exception, another exception occurred:\n",
      "\u001b[1;31mKeyboardInterrupt\u001b[0m                         Traceback (most recent call last)",
      "Cell \u001b[1;32mIn [9], line 26\u001b[0m\n\u001b[0;32m     23\u001b[0m             appid \u001b[38;5;241m=\u001b[39m rem_app_list[i]\n\u001b[0;32m     25\u001b[0m             \u001b[38;5;66;03m# API Call\u001b[39;00m\n\u001b[1;32m---> 26\u001b[0m             approw \u001b[38;5;241m=\u001b[39m \u001b[43mget_steamstore_app_info\u001b[49m\u001b[43m(\u001b[49m\u001b[43mappid\u001b[49m\u001b[43m)\u001b[49m\n\u001b[0;32m     27\u001b[0m \u001b[38;5;66;03m#             api_count += 1\u001b[39;00m\n\u001b[0;32m     28\u001b[0m             \u001b[38;5;28;01mif\u001b[39;00m approw \u001b[38;5;241m==\u001b[39m \u001b[38;5;28;01mNone\u001b[39;00m: \n",
      "Cell \u001b[1;32mIn [7], line 5\u001b[0m, in \u001b[0;36mget_steamstore_app_info\u001b[1;34m(appid)\u001b[0m\n\u001b[0;32m      3\u001b[0m url \u001b[38;5;241m=\u001b[39m \u001b[38;5;124m\"\u001b[39m\u001b[38;5;124mhttp://store.steampowered.com/api/appdetails\u001b[39m\u001b[38;5;124m\"\u001b[39m\n\u001b[0;32m      4\u001b[0m parameters \u001b[38;5;241m=\u001b[39m {\u001b[38;5;124m\"\u001b[39m\u001b[38;5;124mappids\u001b[39m\u001b[38;5;124m\"\u001b[39m: appid}\n\u001b[1;32m----> 5\u001b[0m json_data \u001b[38;5;241m=\u001b[39m \u001b[43mget_request\u001b[49m\u001b[43m(\u001b[49m\u001b[43murl\u001b[49m\u001b[43m,\u001b[49m\u001b[43m \u001b[49m\u001b[43mparameters\u001b[49m\u001b[43m,\u001b[49m\u001b[43m \u001b[49m\u001b[43mprint_url\u001b[49m\u001b[38;5;241;43m=\u001b[39;49m\u001b[38;5;28;43;01mFalse\u001b[39;49;00m\u001b[43m)\u001b[49m\n\u001b[0;32m      6\u001b[0m \u001b[38;5;28;01mif\u001b[39;00m json_data:\n\u001b[0;32m      7\u001b[0m     \u001b[38;5;28;01mif\u001b[39;00m json_data[\u001b[38;5;28mstr\u001b[39m(appid)][\u001b[38;5;124m'\u001b[39m\u001b[38;5;124msuccess\u001b[39m\u001b[38;5;124m'\u001b[39m]:\n",
      "Cell \u001b[1;32mIn [2], line 5\u001b[0m, in \u001b[0;36mget_request\u001b[1;34m(url, parameters, headers, print_url)\u001b[0m\n\u001b[0;32m      3\u001b[0m     response \u001b[38;5;241m=\u001b[39m requests\u001b[38;5;241m.\u001b[39mget(url\u001b[38;5;241m=\u001b[39murl, params\u001b[38;5;241m=\u001b[39mparameters, headers\u001b[38;5;241m=\u001b[39mheaders)\n\u001b[0;32m      4\u001b[0m \u001b[38;5;28;01mexcept\u001b[39;00m \u001b[38;5;167;01mKeyboardInterrupt\u001b[39;00m:\n\u001b[1;32m----> 5\u001b[0m     \u001b[38;5;28;01mraise\u001b[39;00m \u001b[38;5;167;01mKeyboardInterrupt\u001b[39;00m\n\u001b[0;32m      6\u001b[0m \u001b[38;5;28;01mexcept\u001b[39;00m:\n\u001b[0;32m      7\u001b[0m     \u001b[38;5;28mprint\u001b[39m(\u001b[38;5;124m\"\u001b[39m\u001b[38;5;124mError.\u001b[39m\u001b[38;5;124m\"\u001b[39m)\n",
      "\u001b[1;31mKeyboardInterrupt\u001b[0m: "
     ]
    }
   ],
   "source": [
    "  \n",
    "# Write batches of apps to a csv file\n",
    "# Since Steam Store API only allows 200 api calls every 5 minutes, we wait for 5 minutes each time\n",
    "# api_count = 0\n",
    "batch_size = 200\n",
    "\n",
    "with open(\"../Data/steam_store_data.csv\", 'a+', newline='', encoding=\"utf-8\", errors='ignore') as f:\n",
    "    writer = csv.writer(f)\n",
    "    \n",
    "    begin = 0\n",
    "    \n",
    "    # Get remaining columns \n",
    "    rem_app_list = get_remaining_apps(f, appid_list)\n",
    "    print(\"Count of apps not called: \", len(rem_app_list))\n",
    "    \n",
    "    while begin < len(rem_app_list):\n",
    "        # Calculate end index of batch\n",
    "        end = min(begin + batch_size + 1, len(rem_app_list))\n",
    "        batch = []\n",
    "\n",
    "        # Iterate through app ids by batch\n",
    "        for i in range(begin, end):\n",
    "\n",
    "            appid = rem_app_list[i]\n",
    "\n",
    "            # API Call\n",
    "            approw = get_steamstore_app_info(appid)\n",
    "#             api_count += 1\n",
    "            if approw == None: \n",
    "                batch.append([appid])\n",
    "            else: \n",
    "                batch.append(get_approw(approw, steam_store_columns))\n",
    "\n",
    "        # Select columns and write to csv\n",
    "        writer.writerows(batch)\n",
    "        \n",
    "        # Since batch size is the api limit (200), we wait 5 minutes after each batch\n",
    "        print(\"Waiting 5 minutes for next available api call...\")\n",
    "        time.sleep(300)\n",
    "            \n",
    "        begin = end"
   ]
  },
  {
   "cell_type": "markdown",
   "id": "ad886d35",
   "metadata": {},
   "source": [
    "## Steam Spy API"
   ]
  },
  {
   "cell_type": "code",
   "execution_count": 9,
   "id": "7bd2066f",
   "metadata": {},
   "outputs": [],
   "source": [
    "steam_spy_columns = ['appid', 'name', 'developer', 'publisher', 'score_rank', \n",
    "                     \"positive\", \"negative\", \"userscore\", 'owners', 'average_forever', \n",
    "                     'average_2weeks', 'median_forever', 'median_2weeks', 'price', 'initialprice', \n",
    "                     'discount', 'ccu', 'languages',  'genre', 'tags']"
   ]
  },
  {
   "cell_type": "code",
   "execution_count": 10,
   "id": "ce26cefb",
   "metadata": {},
   "outputs": [
    {
     "name": "stdout",
     "output_type": "stream",
     "text": [
      "Count of apps not called:  5610\n"
     ]
    }
   ],
   "source": [
    "batch_size = 200\n",
    "\n",
    "# Write batches of apps to a csv file\n",
    "# No known limitations for the steam spy api\n",
    "with open(\"../Data/steam_spy_data.csv\", 'a+', newline='', encoding=\"utf-8\", errors='ignore') as f:\n",
    "    writer = csv.writer(f)\n",
    "    \n",
    "    begin = 0 \n",
    "    \n",
    "    # Get remaining columns \n",
    "    rem_app_list = get_remaining_apps(f, appid_list)\n",
    "    print(\"Count of apps not called: \", len(rem_app_list))\n",
    "    \n",
    "    while begin < len(rem_app_list):\n",
    "        # Calculate end index of batch\n",
    "        end = min(begin + batch_size + 1, len(rem_app_list))\n",
    "        batch = []\n",
    "\n",
    "        # Iterate through app ids by batch\n",
    "        for i in range(begin, end):\n",
    "\n",
    "            appid = rem_app_list[i]\n",
    "\n",
    "            # API Call\n",
    "            approw = get_steamspy_app_info(appid)\n",
    "            if approw == None: \n",
    "                continue\n",
    "\n",
    "            batch.append(get_approw(approw, steam_spy_columns))\n",
    "\n",
    "        # Select columns and write to csv\n",
    "        writer.writerows(batch)\n",
    "            \n",
    "        begin = end"
   ]
  },
  {
   "cell_type": "markdown",
   "id": "2f88476d",
   "metadata": {},
   "source": [
    "##### Add headers"
   ]
  },
  {
   "cell_type": "code",
   "execution_count": 17,
   "id": "5f86d1f1",
   "metadata": {},
   "outputs": [],
   "source": [
    "# Steam Store data\n",
    "steam1 = pd.read_csv(\"../Data/steam_store_data.csv\", header=None)\n",
    "steam1.columns = steam_store_columns\n",
    "steam1.to_csv(\"../Data/steam_store_data.csv\", header=True, index=False)\n",
    "\n",
    "# Steam Spy data\n",
    "steam2 = pd.read_csv(\"../Data/steam_spy_data.csv\", header=None)\n",
    "steam2.columns = steam_spy_columns\n",
    "steam2.to_csv(\"../Data/steam_spy_data.csv\", header=True, index=False)"
   ]
  },
  {
   "cell_type": "code",
   "execution_count": null,
   "id": "6e4878ef",
   "metadata": {},
   "outputs": [],
   "source": []
  }
 ],
 "metadata": {
  "kernelspec": {
   "display_name": "Python 3 (ipykernel)",
   "language": "python",
   "name": "python3"
  },
  "language_info": {
   "codemirror_mode": {
    "name": "ipython",
    "version": 3
   },
   "file_extension": ".py",
   "mimetype": "text/x-python",
   "name": "python",
   "nbconvert_exporter": "python",
   "pygments_lexer": "ipython3",
   "version": "3.10.6"
  },
  "vscode": {
   "interpreter": {
    "hash": "26de051ba29f2982a8de78e945f0abaf191376122a1563185a90213a26c5da77"
   }
  }
 },
 "nbformat": 4,
 "nbformat_minor": 5
}
