{
 "cells": [
  {
   "cell_type": "code",
   "execution_count": 3,
   "metadata": {},
   "outputs": [],
   "source": [
    "import numpy as np\n",
    "import pandas as pd\n",
    "import os\n",
    "pd.set_option('display.max_columns', None)\n",
    "pd.set_option('display.max_colwidth', 200)"
   ]
  },
  {
   "cell_type": "code",
   "execution_count": 4,
   "metadata": {},
   "outputs": [
    {
     "data": {
      "text/html": [
       "<div>\n",
       "<style scoped>\n",
       "    .dataframe tbody tr th:only-of-type {\n",
       "        vertical-align: middle;\n",
       "    }\n",
       "\n",
       "    .dataframe tbody tr th {\n",
       "        vertical-align: top;\n",
       "    }\n",
       "\n",
       "    .dataframe thead th {\n",
       "        text-align: right;\n",
       "    }\n",
       "</style>\n",
       "<table border=\"1\" class=\"dataframe\">\n",
       "  <thead>\n",
       "    <tr style=\"text-align: right;\">\n",
       "      <th></th>\n",
       "      <th>Unnamed: 0</th>\n",
       "      <th>type</th>\n",
       "      <th>name</th>\n",
       "      <th>steam_appid</th>\n",
       "      <th>required_age</th>\n",
       "      <th>is_free</th>\n",
       "      <th>dlc</th>\n",
       "      <th>developers</th>\n",
       "      <th>publishers</th>\n",
       "      <th>platforms</th>\n",
       "      <th>metacritic</th>\n",
       "      <th>categories</th>\n",
       "      <th>release_date</th>\n",
       "      <th>controller_support</th>\n",
       "      <th>price_overview</th>\n",
       "    </tr>\n",
       "  </thead>\n",
       "  <tbody>\n",
       "    <tr>\n",
       "      <th>0</th>\n",
       "      <td>0</td>\n",
       "      <td>game</td>\n",
       "      <td>Dota 2</td>\n",
       "      <td>570</td>\n",
       "      <td>0.0</td>\n",
       "      <td>True</td>\n",
       "      <td>[1241930, 652720]</td>\n",
       "      <td>['Valve']</td>\n",
       "      <td>['Valve']</td>\n",
       "      <td>{'windows': True, 'mac': True, 'linux': True}</td>\n",
       "      <td>{'score': 90, 'url': 'https://www.metacritic.com/game/pc/dota-2?ftag=MCD-06-10aaa1f'}</td>\n",
       "      <td>[{'id': 1, 'description': 'Multi-player'}, {'id': 9, 'description': 'Co-op'}, {'id': 29, 'description': 'Steam Trading Cards'}, {'id': 30, 'description': 'Steam Workshop'}, {'id': 40, 'description...</td>\n",
       "      <td>{'coming_soon': False, 'date': '9 Jul, 2013'}</td>\n",
       "      <td>NaN</td>\n",
       "      <td>NaN</td>\n",
       "    </tr>\n",
       "    <tr>\n",
       "      <th>1</th>\n",
       "      <td>1</td>\n",
       "      <td>game</td>\n",
       "      <td>Counter-Strike: Global Offensive</td>\n",
       "      <td>730</td>\n",
       "      <td>0.0</td>\n",
       "      <td>True</td>\n",
       "      <td>NaN</td>\n",
       "      <td>['Valve', 'Hidden Path Entertainment']</td>\n",
       "      <td>['Valve']</td>\n",
       "      <td>{'windows': True, 'mac': True, 'linux': True}</td>\n",
       "      <td>{'score': 83, 'url': 'https://www.metacritic.com/game/pc/counter-strike-global-offensive?ftag=MCD-06-10aaa1f'}</td>\n",
       "      <td>[{'id': 1, 'description': 'Multijugador'}, {'id': 22, 'description': 'Logros de Steam'}, {'id': 28, 'description': 'Compat. total con control'}, {'id': 29, 'description': 'Cromos de Steam'}, {'id'...</td>\n",
       "      <td>{'coming_soon': False, 'date': '21 AGO 2012'}</td>\n",
       "      <td>full</td>\n",
       "      <td>NaN</td>\n",
       "    </tr>\n",
       "    <tr>\n",
       "      <th>2</th>\n",
       "      <td>2</td>\n",
       "      <td>game</td>\n",
       "      <td>Apex Legends™</td>\n",
       "      <td>1172470</td>\n",
       "      <td>0.0</td>\n",
       "      <td>True</td>\n",
       "      <td>NaN</td>\n",
       "      <td>['Respawn Entertainment']</td>\n",
       "      <td>['Electronic Arts']</td>\n",
       "      <td>{'windows': True, 'mac': False, 'linux': False}</td>\n",
       "      <td>{'score': 88, 'url': 'https://www.metacritic.com/game/pc/apex-legends?ftag=MCD-06-10aaa1f'}</td>\n",
       "      <td>[{'id': 1, 'description': 'Multi-player'}, {'id': 49, 'description': 'PvP'}, {'id': 36, 'description': 'Online PvP'}, {'id': 9, 'description': 'Co-op'}, {'id': 38, 'description': 'Online Co-op'}, ...</td>\n",
       "      <td>{'coming_soon': False, 'date': '4 Nov, 2020'}</td>\n",
       "      <td>full</td>\n",
       "      <td>NaN</td>\n",
       "    </tr>\n",
       "    <tr>\n",
       "      <th>3</th>\n",
       "      <td>3</td>\n",
       "      <td>game</td>\n",
       "      <td>PUBG: BATTLEGROUNDS</td>\n",
       "      <td>578080</td>\n",
       "      <td>0.0</td>\n",
       "      <td>True</td>\n",
       "      <td>NaN</td>\n",
       "      <td>['KRAFTON, Inc.']</td>\n",
       "      <td>['KRAFTON, Inc.']</td>\n",
       "      <td>{'windows': True, 'mac': False, 'linux': False}</td>\n",
       "      <td>NaN</td>\n",
       "      <td>[{'id': 1, 'description': 'Multi-player'}, {'id': 49, 'description': 'PvP'}, {'id': 36, 'description': 'Online PvP'}, {'id': 15, 'description': 'Stats'}, {'id': 41, 'description': 'Remote Play on ...</td>\n",
       "      <td>{'coming_soon': False, 'date': '21 Dec, 2017'}</td>\n",
       "      <td>NaN</td>\n",
       "      <td>NaN</td>\n",
       "    </tr>\n",
       "    <tr>\n",
       "      <th>4</th>\n",
       "      <td>4</td>\n",
       "      <td>game</td>\n",
       "      <td>New World</td>\n",
       "      <td>1063730</td>\n",
       "      <td>0.0</td>\n",
       "      <td>False</td>\n",
       "      <td>NaN</td>\n",
       "      <td>['Amazon Games']</td>\n",
       "      <td>['Amazon Games']</td>\n",
       "      <td>{'windows': True, 'mac': False, 'linux': False}</td>\n",
       "      <td>{'score': 70, 'url': 'https://www.metacritic.com/game/pc/new-world?ftag=MCD-06-10aaa1f'}</td>\n",
       "      <td>[{'id': 1, 'description': 'Multi-player'}, {'id': 20, 'description': 'MMO'}, {'id': 49, 'description': 'PvP'}, {'id': 36, 'description': 'Online PvP'}, {'id': 9, 'description': 'Co-op'}, {'id': 38...</td>\n",
       "      <td>{'coming_soon': False, 'date': '28 Sep, 2021'}</td>\n",
       "      <td>NaN</td>\n",
       "      <td>{'currency': 'SGD', 'initial': 3400, 'final': 1700, 'discount_percent': 50, 'initial_formatted': 'S$34.00', 'final_formatted': 'S$17.00'}</td>\n",
       "    </tr>\n",
       "  </tbody>\n",
       "</table>\n",
       "</div>"
      ],
      "text/plain": [
       "   Unnamed: 0  type                              name  steam_appid  \\\n",
       "0           0  game                            Dota 2          570   \n",
       "1           1  game  Counter-Strike: Global Offensive          730   \n",
       "2           2  game                     Apex Legends™      1172470   \n",
       "3           3  game               PUBG: BATTLEGROUNDS       578080   \n",
       "4           4  game                         New World      1063730   \n",
       "\n",
       "  required_age is_free                dlc  \\\n",
       "0          0.0    True  [1241930, 652720]   \n",
       "1          0.0    True                NaN   \n",
       "2          0.0    True                NaN   \n",
       "3          0.0    True                NaN   \n",
       "4          0.0   False                NaN   \n",
       "\n",
       "                               developers           publishers  \\\n",
       "0                               ['Valve']            ['Valve']   \n",
       "1  ['Valve', 'Hidden Path Entertainment']            ['Valve']   \n",
       "2               ['Respawn Entertainment']  ['Electronic Arts']   \n",
       "3                       ['KRAFTON, Inc.']    ['KRAFTON, Inc.']   \n",
       "4                        ['Amazon Games']     ['Amazon Games']   \n",
       "\n",
       "                                         platforms  \\\n",
       "0    {'windows': True, 'mac': True, 'linux': True}   \n",
       "1    {'windows': True, 'mac': True, 'linux': True}   \n",
       "2  {'windows': True, 'mac': False, 'linux': False}   \n",
       "3  {'windows': True, 'mac': False, 'linux': False}   \n",
       "4  {'windows': True, 'mac': False, 'linux': False}   \n",
       "\n",
       "                                                                                                       metacritic  \\\n",
       "0                           {'score': 90, 'url': 'https://www.metacritic.com/game/pc/dota-2?ftag=MCD-06-10aaa1f'}   \n",
       "1  {'score': 83, 'url': 'https://www.metacritic.com/game/pc/counter-strike-global-offensive?ftag=MCD-06-10aaa1f'}   \n",
       "2                     {'score': 88, 'url': 'https://www.metacritic.com/game/pc/apex-legends?ftag=MCD-06-10aaa1f'}   \n",
       "3                                                                                                             NaN   \n",
       "4                        {'score': 70, 'url': 'https://www.metacritic.com/game/pc/new-world?ftag=MCD-06-10aaa1f'}   \n",
       "\n",
       "                                                                                                                                                                                                categories  \\\n",
       "0  [{'id': 1, 'description': 'Multi-player'}, {'id': 9, 'description': 'Co-op'}, {'id': 29, 'description': 'Steam Trading Cards'}, {'id': 30, 'description': 'Steam Workshop'}, {'id': 40, 'description...   \n",
       "1  [{'id': 1, 'description': 'Multijugador'}, {'id': 22, 'description': 'Logros de Steam'}, {'id': 28, 'description': 'Compat. total con control'}, {'id': 29, 'description': 'Cromos de Steam'}, {'id'...   \n",
       "2  [{'id': 1, 'description': 'Multi-player'}, {'id': 49, 'description': 'PvP'}, {'id': 36, 'description': 'Online PvP'}, {'id': 9, 'description': 'Co-op'}, {'id': 38, 'description': 'Online Co-op'}, ...   \n",
       "3  [{'id': 1, 'description': 'Multi-player'}, {'id': 49, 'description': 'PvP'}, {'id': 36, 'description': 'Online PvP'}, {'id': 15, 'description': 'Stats'}, {'id': 41, 'description': 'Remote Play on ...   \n",
       "4  [{'id': 1, 'description': 'Multi-player'}, {'id': 20, 'description': 'MMO'}, {'id': 49, 'description': 'PvP'}, {'id': 36, 'description': 'Online PvP'}, {'id': 9, 'description': 'Co-op'}, {'id': 38...   \n",
       "\n",
       "                                     release_date controller_support  \\\n",
       "0   {'coming_soon': False, 'date': '9 Jul, 2013'}                NaN   \n",
       "1   {'coming_soon': False, 'date': '21 AGO 2012'}               full   \n",
       "2   {'coming_soon': False, 'date': '4 Nov, 2020'}               full   \n",
       "3  {'coming_soon': False, 'date': '21 Dec, 2017'}                NaN   \n",
       "4  {'coming_soon': False, 'date': '28 Sep, 2021'}                NaN   \n",
       "\n",
       "                                                                                                                              price_overview  \n",
       "0                                                                                                                                        NaN  \n",
       "1                                                                                                                                        NaN  \n",
       "2                                                                                                                                        NaN  \n",
       "3                                                                                                                                        NaN  \n",
       "4  {'currency': 'SGD', 'initial': 3400, 'final': 1700, 'discount_percent': 50, 'initial_formatted': 'S$34.00', 'final_formatted': 'S$17.00'}  "
      ]
     },
     "execution_count": 4,
     "metadata": {},
     "output_type": "execute_result"
    }
   ],
   "source": [
    "df = pd.read_csv('../Data/Raw/steam_store_games_only.csv', keep_default_na=True)\n",
    "df.head()"
   ]
  },
  {
   "cell_type": "code",
   "execution_count": 5,
   "metadata": {},
   "outputs": [],
   "source": [
    "df.drop('Unnamed: 0', axis=1, inplace=True)"
   ]
  },
  {
   "cell_type": "code",
   "execution_count": 6,
   "metadata": {},
   "outputs": [
    {
     "name": "stdout",
     "output_type": "stream",
     "text": [
      "(61640, 14)\n"
     ]
    },
    {
     "data": {
      "text/plain": [
       "type                    182\n",
       "name                      7\n",
       "steam_appid               0\n",
       "required_age            182\n",
       "is_free                 182\n",
       "dlc                   51483\n",
       "developers              324\n",
       "publishers              182\n",
       "platforms               182\n",
       "metacritic            57783\n",
       "categories              964\n",
       "release_date            182\n",
       "controller_support    48445\n",
       "price_overview         8818\n",
       "dtype: int64"
      ]
     },
     "execution_count": 6,
     "metadata": {},
     "output_type": "execute_result"
    }
   ],
   "source": [
    "print(df.shape)\n",
    "df.isnull().sum()"
   ]
  },
  {
   "cell_type": "markdown",
   "metadata": {},
   "source": [
    "## Clean Data"
   ]
  },
  {
   "cell_type": "markdown",
   "metadata": {},
   "source": [
    "### type"
   ]
  },
  {
   "cell_type": "code",
   "execution_count": 7,
   "metadata": {},
   "outputs": [
    {
     "data": {
      "text/plain": [
       "array(['game', nan, 'hardware'], dtype=object)"
      ]
     },
     "execution_count": 7,
     "metadata": {},
     "output_type": "execute_result"
    }
   ],
   "source": [
    "df['type'].unique()"
   ]
  },
  {
   "cell_type": "code",
   "execution_count": 8,
   "metadata": {},
   "outputs": [
    {
     "data": {
      "text/plain": [
       "(61457, 14)"
      ]
     },
     "execution_count": 8,
     "metadata": {},
     "output_type": "execute_result"
    }
   ],
   "source": [
    "# Keep only rows with game type\n",
    "df = df[df['type'] == 'game']\n",
    "df.shape"
   ]
  },
  {
   "cell_type": "code",
   "execution_count": 9,
   "metadata": {},
   "outputs": [
    {
     "data": {
      "text/plain": [
       "type                      0\n",
       "name                      6\n",
       "steam_appid               0\n",
       "required_age              0\n",
       "is_free                   0\n",
       "dlc                   51300\n",
       "developers              141\n",
       "publishers                0\n",
       "platforms                 0\n",
       "metacritic            57600\n",
       "categories              782\n",
       "release_date              0\n",
       "controller_support    48263\n",
       "price_overview         8635\n",
       "dtype: int64"
      ]
     },
     "execution_count": 9,
     "metadata": {},
     "output_type": "execute_result"
    }
   ],
   "source": [
    "df.isnull().sum()"
   ]
  },
  {
   "cell_type": "markdown",
   "metadata": {},
   "source": [
    "### name"
   ]
  },
  {
   "cell_type": "code",
   "execution_count": 10,
   "metadata": {},
   "outputs": [
    {
     "data": {
      "text/plain": [
       "0"
      ]
     },
     "execution_count": 10,
     "metadata": {},
     "output_type": "execute_result"
    }
   ],
   "source": [
    "# Replace name with blank string \n",
    "df['name'] = df['name'].fillna('')\n",
    "df['name'].isnull().sum()"
   ]
  },
  {
   "cell_type": "markdown",
   "metadata": {},
   "source": [
    "### dlc"
   ]
  },
  {
   "cell_type": "code",
   "execution_count": 11,
   "metadata": {},
   "outputs": [
    {
     "data": {
      "text/plain": [
       "0    [1241930, 652720]\n",
       "1                   []\n",
       "2                   []\n",
       "3                   []\n",
       "4                   []\n",
       "Name: dlc, dtype: object"
      ]
     },
     "execution_count": 11,
     "metadata": {},
     "output_type": "execute_result"
    }
   ],
   "source": [
    "# Replace NaN with empty list\n",
    "df['dlc'] = df['dlc'].fillna('[]')\n",
    "df['dlc'][:5]"
   ]
  },
  {
   "cell_type": "markdown",
   "metadata": {},
   "source": [
    "### developers"
   ]
  },
  {
   "cell_type": "code",
   "execution_count": 12,
   "metadata": {},
   "outputs": [
    {
     "data": {
      "text/plain": [
       "0                                 ['Valve']\n",
       "1    ['Valve', 'Hidden Path Entertainment']\n",
       "2                 ['Respawn Entertainment']\n",
       "3                         ['KRAFTON, Inc.']\n",
       "4                          ['Amazon Games']\n",
       "Name: developers, dtype: object"
      ]
     },
     "execution_count": 12,
     "metadata": {},
     "output_type": "execute_result"
    }
   ],
   "source": [
    "# Replace NaN with empty list\n",
    "df['developers'] = df['developers'].fillna('[]')\n",
    "df['developers'][:5]"
   ]
  },
  {
   "cell_type": "markdown",
   "metadata": {},
   "source": [
    "### platforms"
   ]
  },
  {
   "cell_type": "code",
   "execution_count": 13,
   "metadata": {},
   "outputs": [
    {
     "data": {
      "text/plain": [
       "array([\"{'windows': True, 'mac': True, 'linux': True}\",\n",
       "       \"{'windows': True, 'mac': False, 'linux': False}\",\n",
       "       \"{'windows': True, 'mac': True, 'linux': False}\",\n",
       "       \"{'windows': True, 'mac': False, 'linux': True}\",\n",
       "       \"{'windows': False, 'mac': True, 'linux': False}\",\n",
       "       \"{'windows': False, 'mac': True, 'linux': True}\",\n",
       "       \"{'windows': False, 'mac': False, 'linux': True}\"], dtype=object)"
      ]
     },
     "execution_count": 13,
     "metadata": {},
     "output_type": "execute_result"
    }
   ],
   "source": [
    "# Since there are 3 fixed platforms, encode before train-test split\n",
    "\n",
    "def fix_platforms(x):\n",
    "    windows = 0\n",
    "    mac = 0\n",
    "    linux = 0\n",
    "    if type(x) == str:\n",
    "        data = eval(x)\n",
    "        if data['windows'] == True:\n",
    "            windows = 1\n",
    "        if data['mac'] == True:\n",
    "            mac = 1\n",
    "        if data['linux'] == True:\n",
    "            linux = 1\n",
    "    return windows, mac, linux\n",
    "        \n",
    "df['platforms'].unique()"
   ]
  },
  {
   "cell_type": "code",
   "execution_count": 14,
   "metadata": {},
   "outputs": [],
   "source": [
    "res = df['platforms'].apply(fix_platforms)"
   ]
  },
  {
   "cell_type": "code",
   "execution_count": 15,
   "metadata": {},
   "outputs": [
    {
     "data": {
      "text/html": [
       "<div>\n",
       "<style scoped>\n",
       "    .dataframe tbody tr th:only-of-type {\n",
       "        vertical-align: middle;\n",
       "    }\n",
       "\n",
       "    .dataframe tbody tr th {\n",
       "        vertical-align: top;\n",
       "    }\n",
       "\n",
       "    .dataframe thead th {\n",
       "        text-align: right;\n",
       "    }\n",
       "</style>\n",
       "<table border=\"1\" class=\"dataframe\">\n",
       "  <thead>\n",
       "    <tr style=\"text-align: right;\">\n",
       "      <th></th>\n",
       "      <th>type</th>\n",
       "      <th>name</th>\n",
       "      <th>steam_appid</th>\n",
       "      <th>required_age</th>\n",
       "      <th>is_free</th>\n",
       "      <th>dlc</th>\n",
       "      <th>developers</th>\n",
       "      <th>publishers</th>\n",
       "      <th>metacritic</th>\n",
       "      <th>categories</th>\n",
       "      <th>release_date</th>\n",
       "      <th>controller_support</th>\n",
       "      <th>price_overview</th>\n",
       "      <th>windows</th>\n",
       "      <th>mac</th>\n",
       "      <th>linux</th>\n",
       "    </tr>\n",
       "  </thead>\n",
       "  <tbody>\n",
       "    <tr>\n",
       "      <th>0</th>\n",
       "      <td>game</td>\n",
       "      <td>Dota 2</td>\n",
       "      <td>570</td>\n",
       "      <td>0.0</td>\n",
       "      <td>True</td>\n",
       "      <td>[1241930, 652720]</td>\n",
       "      <td>['Valve']</td>\n",
       "      <td>['Valve']</td>\n",
       "      <td>{'score': 90, 'url': 'https://www.metacritic.com/game/pc/dota-2?ftag=MCD-06-10aaa1f'}</td>\n",
       "      <td>[{'id': 1, 'description': 'Multi-player'}, {'id': 9, 'description': 'Co-op'}, {'id': 29, 'description': 'Steam Trading Cards'}, {'id': 30, 'description': 'Steam Workshop'}, {'id': 40, 'description...</td>\n",
       "      <td>{'coming_soon': False, 'date': '9 Jul, 2013'}</td>\n",
       "      <td>NaN</td>\n",
       "      <td>NaN</td>\n",
       "      <td>1</td>\n",
       "      <td>1</td>\n",
       "      <td>1</td>\n",
       "    </tr>\n",
       "  </tbody>\n",
       "</table>\n",
       "</div>"
      ],
      "text/plain": [
       "   type    name  steam_appid required_age is_free                dlc  \\\n",
       "0  game  Dota 2          570          0.0    True  [1241930, 652720]   \n",
       "\n",
       "  developers publishers  \\\n",
       "0  ['Valve']  ['Valve']   \n",
       "\n",
       "                                                                              metacritic  \\\n",
       "0  {'score': 90, 'url': 'https://www.metacritic.com/game/pc/dota-2?ftag=MCD-06-10aaa1f'}   \n",
       "\n",
       "                                                                                                                                                                                                categories  \\\n",
       "0  [{'id': 1, 'description': 'Multi-player'}, {'id': 9, 'description': 'Co-op'}, {'id': 29, 'description': 'Steam Trading Cards'}, {'id': 30, 'description': 'Steam Workshop'}, {'id': 40, 'description...   \n",
       "\n",
       "                                    release_date controller_support  \\\n",
       "0  {'coming_soon': False, 'date': '9 Jul, 2013'}                NaN   \n",
       "\n",
       "  price_overview  windows  mac  linux  \n",
       "0            NaN        1    1      1  "
      ]
     },
     "execution_count": 15,
     "metadata": {},
     "output_type": "execute_result"
    }
   ],
   "source": [
    "windows = []\n",
    "mac = []\n",
    "linux = []\n",
    "for tup in res:\n",
    "    windows.append(tup[0])\n",
    "    mac.append(tup[1])\n",
    "    linux.append(tup[2])\n",
    "df['windows'] = windows\n",
    "df['mac'] = mac\n",
    "df['linux'] = linux\n",
    "df = df.drop('platforms', axis = 1)\n",
    "df.loc[[0]]"
   ]
  },
  {
   "cell_type": "markdown",
   "metadata": {},
   "source": [
    "### metacritic"
   ]
  },
  {
   "cell_type": "code",
   "execution_count": 16,
   "metadata": {},
   "outputs": [],
   "source": [
    "# Leave NaN as is (impute after train test split)\n",
    "df['metacritic_score'] = df['metacritic'].apply(lambda x: eval(x)['score'] if not pd.isnull(x) else None)\n",
    "df['metacritic_url'] = df['metacritic'].apply(lambda x: eval(x)['url'] if not pd.isnull(x) else None)"
   ]
  },
  {
   "cell_type": "code",
   "execution_count": 17,
   "metadata": {},
   "outputs": [
    {
     "data": {
      "text/html": [
       "<div>\n",
       "<style scoped>\n",
       "    .dataframe tbody tr th:only-of-type {\n",
       "        vertical-align: middle;\n",
       "    }\n",
       "\n",
       "    .dataframe tbody tr th {\n",
       "        vertical-align: top;\n",
       "    }\n",
       "\n",
       "    .dataframe thead th {\n",
       "        text-align: right;\n",
       "    }\n",
       "</style>\n",
       "<table border=\"1\" class=\"dataframe\">\n",
       "  <thead>\n",
       "    <tr style=\"text-align: right;\">\n",
       "      <th></th>\n",
       "      <th>type</th>\n",
       "      <th>name</th>\n",
       "      <th>steam_appid</th>\n",
       "      <th>required_age</th>\n",
       "      <th>is_free</th>\n",
       "      <th>dlc</th>\n",
       "      <th>developers</th>\n",
       "      <th>publishers</th>\n",
       "      <th>categories</th>\n",
       "      <th>release_date</th>\n",
       "      <th>controller_support</th>\n",
       "      <th>price_overview</th>\n",
       "      <th>windows</th>\n",
       "      <th>mac</th>\n",
       "      <th>linux</th>\n",
       "      <th>metacritic_score</th>\n",
       "      <th>metacritic_url</th>\n",
       "    </tr>\n",
       "  </thead>\n",
       "  <tbody>\n",
       "    <tr>\n",
       "      <th>0</th>\n",
       "      <td>game</td>\n",
       "      <td>Dota 2</td>\n",
       "      <td>570</td>\n",
       "      <td>0.0</td>\n",
       "      <td>True</td>\n",
       "      <td>[1241930, 652720]</td>\n",
       "      <td>['Valve']</td>\n",
       "      <td>['Valve']</td>\n",
       "      <td>[{'id': 1, 'description': 'Multi-player'}, {'id': 9, 'description': 'Co-op'}, {'id': 29, 'description': 'Steam Trading Cards'}, {'id': 30, 'description': 'Steam Workshop'}, {'id': 40, 'description...</td>\n",
       "      <td>{'coming_soon': False, 'date': '9 Jul, 2013'}</td>\n",
       "      <td>NaN</td>\n",
       "      <td>NaN</td>\n",
       "      <td>1</td>\n",
       "      <td>1</td>\n",
       "      <td>1</td>\n",
       "      <td>90.0</td>\n",
       "      <td>https://www.metacritic.com/game/pc/dota-2?ftag=MCD-06-10aaa1f</td>\n",
       "    </tr>\n",
       "  </tbody>\n",
       "</table>\n",
       "</div>"
      ],
      "text/plain": [
       "   type    name  steam_appid required_age is_free                dlc  \\\n",
       "0  game  Dota 2          570          0.0    True  [1241930, 652720]   \n",
       "\n",
       "  developers publishers  \\\n",
       "0  ['Valve']  ['Valve']   \n",
       "\n",
       "                                                                                                                                                                                                categories  \\\n",
       "0  [{'id': 1, 'description': 'Multi-player'}, {'id': 9, 'description': 'Co-op'}, {'id': 29, 'description': 'Steam Trading Cards'}, {'id': 30, 'description': 'Steam Workshop'}, {'id': 40, 'description...   \n",
       "\n",
       "                                    release_date controller_support  \\\n",
       "0  {'coming_soon': False, 'date': '9 Jul, 2013'}                NaN   \n",
       "\n",
       "  price_overview  windows  mac  linux  metacritic_score  \\\n",
       "0            NaN        1    1      1              90.0   \n",
       "\n",
       "                                                  metacritic_url  \n",
       "0  https://www.metacritic.com/game/pc/dota-2?ftag=MCD-06-10aaa1f  "
      ]
     },
     "execution_count": 17,
     "metadata": {},
     "output_type": "execute_result"
    }
   ],
   "source": [
    "df.drop(['metacritic'], axis=1, inplace=True)\n",
    "df.loc[[0]]"
   ]
  },
  {
   "cell_type": "markdown",
   "metadata": {},
   "source": [
    "#### categories"
   ]
  },
  {
   "cell_type": "code",
   "execution_count": 18,
   "metadata": {},
   "outputs": [
    {
     "data": {
      "text/plain": [
       "{1: {'Multi-player', 'Multijoueur', 'Multijugador'},\n",
       " 9: {'Co-op', 'Cooperativos', 'Coopération'},\n",
       " 29: {'Cartes à échanger Steam', 'Cromos de Steam', 'Steam Trading Cards'},\n",
       " 30: {'Steam Workshop', 'Workshop Steam', 'Мастерская Steam'},\n",
       " 40: {'SteamVR Collectibles'},\n",
       " 35: {'Compras dentro de la aplicación', 'In-App Purchases'},\n",
       " 8: {'Antitriche Valve activée',\n",
       "  'Con sist. antitrampas de Valve',\n",
       "  'Valve Anti-Cheat enabled'},\n",
       " 22: {'Logros de Steam',\n",
       "  'Steam Achievements',\n",
       "  'Steam-Errungenschaften',\n",
       "  'Достижения Steam'},\n",
       " 28: {'Compat. total con control',\n",
       "  'Compat. total con mando',\n",
       "  'Full controller support',\n",
       "  'Контроллер (полностью)'},\n",
       " 15: {'Estadísticas', 'Stats'},\n",
       " 41: {'Remote Play on Phone', 'Remote Play para móviles'},\n",
       " 42: {'Remote Play on Tablet', 'Remote Play para tabletas'},\n",
       " 43: {'Remote Play on TV', 'Remote Play para TV'},\n",
       " 49: {'JcJ', 'PvP'},\n",
       " 36: {'JcJ en ligne', 'JcJ en línea', 'Online PvP'},\n",
       " 38: {'Cooperativos en línea', 'Coopération en ligne', 'Online Co-op'},\n",
       " 20: {'MMO'},\n",
       " 27: {'Cross-Platform Multiplayer'},\n",
       " 13: {'Captions available'},\n",
       " 18: {'Compat. contrôleurs partielle',\n",
       "  'Compat. parcial con mando',\n",
       "  'Partial Controller Support'},\n",
       " 17: {'Includes level editor',\n",
       "  'Incluye editor de niveles',\n",
       "  'Включает редактор уровней'},\n",
       " 14: {'Commentary available'},\n",
       " 2: {'Einzelspieler',\n",
       "  'Single-player',\n",
       "  'Solo',\n",
       "  'Un jugador',\n",
       "  'Для одного игрока'},\n",
       " 47: {'LAN PvP'},\n",
       " 48: {'LAN Co-op'},\n",
       " 23: {'Steam Cloud'},\n",
       " 16: {'Includes Source SDK'},\n",
       " 44: {'Remote Play Together'},\n",
       " 37: {'Shared/Split Screen PvP'},\n",
       " 39: {'Shared/Split Screen Co-op'},\n",
       " 24: {'Shared/Split Screen'},\n",
       " 53: {'Compatible con la RV', 'VR Supported'},\n",
       " 51: {'Steam Workshop'},\n",
       " 52: {'Tracked Controller Support'},\n",
       " 25: {'Marcadores de Steam', 'Steam Leaderboards'},\n",
       " 31: {'VR Support'},\n",
       " 32: {'Steam Turn Notifications'},\n",
       " 54: {'VR Only'},\n",
       " 19: {'Mods'},\n",
       " 6: {'Mods (require HL2)'}}"
      ]
     },
     "execution_count": 18,
     "metadata": {},
     "output_type": "execute_result"
    }
   ],
   "source": [
    "dic = {}\n",
    "for arr in df['categories'].values:\n",
    "    if type(arr) == str:\n",
    "        arr = eval(arr)\n",
    "        for data in arr:\n",
    "            if data[\"id\"] not in dic.keys():\n",
    "                dic[data[\"id\"]] = set([data['description']])\n",
    "            else:\n",
    "                dic[data[\"id\"]].add(data['description'])\n",
    "\n",
    "dic"
   ]
  },
  {
   "cell_type": "code",
   "execution_count": 19,
   "metadata": {},
   "outputs": [],
   "source": [
    "mapping = {1: 'Multi-player',\n",
    " 9: 'Co-op',\n",
    " 29: 'Steam Trading Cards',\n",
    " 30: 'Steam Workshop',\n",
    " 40: 'SteamVR Collectibles',\n",
    " 35: 'In-App Purchases',\n",
    " 8: 'Valve Anti-Cheat enabled',\n",
    " 22: 'Steam Achievements',\n",
    " 28: 'Full controller support',\n",
    " 15: 'Stats',\n",
    " 41: 'Remote Play on Phone',\n",
    " 42: 'Remote Play on Tablet',\n",
    " 43: 'Remote Play on TV',\n",
    " 49: 'PvP', \n",
    " 36: 'Online PvP',\n",
    " 38: 'Online Co-op', \n",
    " 20: 'MMO',\n",
    " 27: 'Cross-Platform Multiplayer', \n",
    " 13: 'Captions available', \n",
    " 18: 'Partial Controller Support',\n",
    " 17: 'Includes level editor',\n",
    " 14: 'Commentary available',\n",
    " 2: 'Single-player',\n",
    " 47: 'LAN PvP',\n",
    " 48: 'LAN Co-op',\n",
    " 23: 'Steam Cloud',\n",
    " 16: 'Includes Source SDK',\n",
    " 44: 'Remote Play Together',\n",
    " 37: 'Shared/Split Screen PvP',\n",
    " 39: 'Shared/Split Screen Co-op',\n",
    " 24: 'Shared/Split Screen', \n",
    " 53: 'VR Supported',\n",
    " 51: 'Steam Workshop',\n",
    " 52: 'Tracked Controller Support',\n",
    " 25: 'Steam Leaderboards',\n",
    " 31: 'VR Support',\n",
    " 32: 'Steam Turn Notifications',\n",
    " 54: 'Solo RV',\n",
    " 19: 'Mods',\n",
    " 6: 'Mods (require HL2)',\n",
    " 10: 'Game demo',\n",
    " 21: 'Downloadable Content',\n",
    " 50: 'Additional High-Quality Audio',\n",
    " 33: 'Native Steam Controller Support',\n",
    " 0: 'No Category'}"
   ]
  },
  {
   "cell_type": "code",
   "execution_count": 20,
   "metadata": {},
   "outputs": [
    {
     "data": {
      "text/html": [
       "<div>\n",
       "<style scoped>\n",
       "    .dataframe tbody tr th:only-of-type {\n",
       "        vertical-align: middle;\n",
       "    }\n",
       "\n",
       "    .dataframe tbody tr th {\n",
       "        vertical-align: top;\n",
       "    }\n",
       "\n",
       "    .dataframe thead th {\n",
       "        text-align: right;\n",
       "    }\n",
       "</style>\n",
       "<table border=\"1\" class=\"dataframe\">\n",
       "  <thead>\n",
       "    <tr style=\"text-align: right;\">\n",
       "      <th></th>\n",
       "      <th>type</th>\n",
       "      <th>name</th>\n",
       "      <th>steam_appid</th>\n",
       "      <th>required_age</th>\n",
       "      <th>is_free</th>\n",
       "      <th>dlc</th>\n",
       "      <th>developers</th>\n",
       "      <th>publishers</th>\n",
       "      <th>categories</th>\n",
       "      <th>release_date</th>\n",
       "      <th>controller_support</th>\n",
       "      <th>price_overview</th>\n",
       "      <th>windows</th>\n",
       "      <th>mac</th>\n",
       "      <th>linux</th>\n",
       "      <th>metacritic_score</th>\n",
       "      <th>metacritic_url</th>\n",
       "    </tr>\n",
       "  </thead>\n",
       "  <tbody>\n",
       "    <tr>\n",
       "      <th>0</th>\n",
       "      <td>game</td>\n",
       "      <td>Dota 2</td>\n",
       "      <td>570</td>\n",
       "      <td>0.0</td>\n",
       "      <td>True</td>\n",
       "      <td>[1241930, 652720]</td>\n",
       "      <td>['Valve']</td>\n",
       "      <td>['Valve']</td>\n",
       "      <td>[Multi-player, Co-op, Steam Trading Cards, Steam Workshop, SteamVR Collectibles, In-App Purchases, Valve Anti-Cheat enabled]</td>\n",
       "      <td>{'coming_soon': False, 'date': '9 Jul, 2013'}</td>\n",
       "      <td>NaN</td>\n",
       "      <td>NaN</td>\n",
       "      <td>1</td>\n",
       "      <td>1</td>\n",
       "      <td>1</td>\n",
       "      <td>90.0</td>\n",
       "      <td>https://www.metacritic.com/game/pc/dota-2?ftag=MCD-06-10aaa1f</td>\n",
       "    </tr>\n",
       "  </tbody>\n",
       "</table>\n",
       "</div>"
      ],
      "text/plain": [
       "   type    name  steam_appid required_age is_free                dlc  \\\n",
       "0  game  Dota 2          570          0.0    True  [1241930, 652720]   \n",
       "\n",
       "  developers publishers  \\\n",
       "0  ['Valve']  ['Valve']   \n",
       "\n",
       "                                                                                                                     categories  \\\n",
       "0  [Multi-player, Co-op, Steam Trading Cards, Steam Workshop, SteamVR Collectibles, In-App Purchases, Valve Anti-Cheat enabled]   \n",
       "\n",
       "                                    release_date controller_support  \\\n",
       "0  {'coming_soon': False, 'date': '9 Jul, 2013'}                NaN   \n",
       "\n",
       "  price_overview  windows  mac  linux  metacritic_score  \\\n",
       "0            NaN        1    1      1              90.0   \n",
       "\n",
       "                                                  metacritic_url  \n",
       "0  https://www.metacritic.com/game/pc/dota-2?ftag=MCD-06-10aaa1f  "
      ]
     },
     "execution_count": 20,
     "metadata": {},
     "output_type": "execute_result"
    }
   ],
   "source": [
    "# Replace categories with their ID\n",
    "df['categories'] = df['categories'].apply(lambda x: [dic['id'] for dic in (eval(x) if type((x)) == str else [{\"id\":\"0\"}])])\n",
    "\n",
    "# Map the genre values to genre names using the mapping dictionary\n",
    "df['categories'] = df['categories'].apply(lambda x: [mapping.get(i) for i in x])\n",
    "\n",
    "df.loc[[0]]"
   ]
  },
  {
   "cell_type": "markdown",
   "metadata": {},
   "source": [
    "### release_date"
   ]
  },
  {
   "cell_type": "code",
   "execution_count": 21,
   "metadata": {},
   "outputs": [],
   "source": [
    "df['release_date'] = df['release_date'].apply(lambda x: eval(x) if type(x) == str else x)"
   ]
  },
  {
   "cell_type": "code",
   "execution_count": 22,
   "metadata": {},
   "outputs": [
    {
     "data": {
      "text/plain": [
       "118"
      ]
     },
     "execution_count": 22,
     "metadata": {},
     "output_type": "execute_result"
    }
   ],
   "source": [
    "# Number of unreleased games\n",
    "temp = df[~df['release_date'].isnull()]\n",
    "len(temp[temp['release_date'].apply(lambda x: x['coming_soon'])])"
   ]
  },
  {
   "cell_type": "code",
   "execution_count": 23,
   "metadata": {},
   "outputs": [
    {
     "data": {
      "text/plain": [
       "9244         {'coming_soon': True, 'date': 'Coming soon'}\n",
       "25858        {'coming_soon': True, 'date': 'Coming soon'}\n",
       "27804        {'coming_soon': True, 'date': 'Coming soon'}\n",
       "31507      {'coming_soon': True, 'date': 'December 2024'}\n",
       "33572    {'coming_soon': True, 'date': 'To be announced'}\n",
       "                               ...                       \n",
       "61629       {'coming_soon': True, 'date': '28 Sep, 2023'}\n",
       "61631        {'coming_soon': True, 'date': 'Coming soon'}\n",
       "61633        {'coming_soon': True, 'date': 'Coming soon'}\n",
       "61635        {'coming_soon': True, 'date': 'Coming soon'}\n",
       "61637        {'coming_soon': True, 'date': 'Coming soon'}\n",
       "Name: release_date, Length: 118, dtype: object"
      ]
     },
     "execution_count": 23,
     "metadata": {},
     "output_type": "execute_result"
    }
   ],
   "source": [
    "temp[temp['release_date'].apply(lambda x: x['coming_soon'])]['release_date']"
   ]
  },
  {
   "cell_type": "code",
   "execution_count": 24,
   "metadata": {},
   "outputs": [
    {
     "data": {
      "text/html": [
       "<div>\n",
       "<style scoped>\n",
       "    .dataframe tbody tr th:only-of-type {\n",
       "        vertical-align: middle;\n",
       "    }\n",
       "\n",
       "    .dataframe tbody tr th {\n",
       "        vertical-align: top;\n",
       "    }\n",
       "\n",
       "    .dataframe thead th {\n",
       "        text-align: right;\n",
       "    }\n",
       "</style>\n",
       "<table border=\"1\" class=\"dataframe\">\n",
       "  <thead>\n",
       "    <tr style=\"text-align: right;\">\n",
       "      <th></th>\n",
       "      <th>type</th>\n",
       "      <th>name</th>\n",
       "      <th>steam_appid</th>\n",
       "      <th>required_age</th>\n",
       "      <th>is_free</th>\n",
       "      <th>dlc</th>\n",
       "      <th>developers</th>\n",
       "      <th>publishers</th>\n",
       "      <th>categories</th>\n",
       "      <th>release_date</th>\n",
       "      <th>controller_support</th>\n",
       "      <th>price_overview</th>\n",
       "      <th>windows</th>\n",
       "      <th>mac</th>\n",
       "      <th>linux</th>\n",
       "      <th>metacritic_score</th>\n",
       "      <th>metacritic_url</th>\n",
       "      <th>coming_soon</th>\n",
       "    </tr>\n",
       "  </thead>\n",
       "  <tbody>\n",
       "    <tr>\n",
       "      <th>0</th>\n",
       "      <td>game</td>\n",
       "      <td>Dota 2</td>\n",
       "      <td>570</td>\n",
       "      <td>0.0</td>\n",
       "      <td>True</td>\n",
       "      <td>[1241930, 652720]</td>\n",
       "      <td>['Valve']</td>\n",
       "      <td>['Valve']</td>\n",
       "      <td>[Multi-player, Co-op, Steam Trading Cards, Steam Workshop, SteamVR Collectibles, In-App Purchases, Valve Anti-Cheat enabled]</td>\n",
       "      <td>9 Jul, 2013</td>\n",
       "      <td>NaN</td>\n",
       "      <td>NaN</td>\n",
       "      <td>1</td>\n",
       "      <td>1</td>\n",
       "      <td>1</td>\n",
       "      <td>90.0</td>\n",
       "      <td>https://www.metacritic.com/game/pc/dota-2?ftag=MCD-06-10aaa1f</td>\n",
       "      <td>False</td>\n",
       "    </tr>\n",
       "  </tbody>\n",
       "</table>\n",
       "</div>"
      ],
      "text/plain": [
       "   type    name  steam_appid required_age is_free                dlc  \\\n",
       "0  game  Dota 2          570          0.0    True  [1241930, 652720]   \n",
       "\n",
       "  developers publishers  \\\n",
       "0  ['Valve']  ['Valve']   \n",
       "\n",
       "                                                                                                                     categories  \\\n",
       "0  [Multi-player, Co-op, Steam Trading Cards, Steam Workshop, SteamVR Collectibles, In-App Purchases, Valve Anti-Cheat enabled]   \n",
       "\n",
       "  release_date controller_support price_overview  windows  mac  linux  \\\n",
       "0  9 Jul, 2013                NaN            NaN        1    1      1   \n",
       "\n",
       "   metacritic_score  \\\n",
       "0              90.0   \n",
       "\n",
       "                                                  metacritic_url  coming_soon  \n",
       "0  https://www.metacritic.com/game/pc/dota-2?ftag=MCD-06-10aaa1f        False  "
      ]
     },
     "execution_count": 24,
     "metadata": {},
     "output_type": "execute_result"
    }
   ],
   "source": [
    "df['coming_soon'] = df['release_date'].apply(lambda x: x['coming_soon'])\n",
    "df['release_date'] = df['release_date'].apply(lambda x: x['date'])\n",
    "df.loc[[0]]"
   ]
  },
  {
   "cell_type": "markdown",
   "metadata": {},
   "source": [
    "### controller_support"
   ]
  },
  {
   "cell_type": "code",
   "execution_count": 25,
   "metadata": {},
   "outputs": [
    {
     "data": {
      "text/plain": [
       "array([nan, 'full'], dtype=object)"
      ]
     },
     "execution_count": 25,
     "metadata": {},
     "output_type": "execute_result"
    }
   ],
   "source": [
    "df['controller_support'].unique()"
   ]
  },
  {
   "cell_type": "code",
   "execution_count": 26,
   "metadata": {},
   "outputs": [
    {
     "data": {
      "text/html": [
       "<div>\n",
       "<style scoped>\n",
       "    .dataframe tbody tr th:only-of-type {\n",
       "        vertical-align: middle;\n",
       "    }\n",
       "\n",
       "    .dataframe tbody tr th {\n",
       "        vertical-align: top;\n",
       "    }\n",
       "\n",
       "    .dataframe thead th {\n",
       "        text-align: right;\n",
       "    }\n",
       "</style>\n",
       "<table border=\"1\" class=\"dataframe\">\n",
       "  <thead>\n",
       "    <tr style=\"text-align: right;\">\n",
       "      <th></th>\n",
       "      <th>type</th>\n",
       "      <th>name</th>\n",
       "      <th>steam_appid</th>\n",
       "      <th>required_age</th>\n",
       "      <th>is_free</th>\n",
       "      <th>dlc</th>\n",
       "      <th>developers</th>\n",
       "      <th>publishers</th>\n",
       "      <th>categories</th>\n",
       "      <th>release_date</th>\n",
       "      <th>controller_support</th>\n",
       "      <th>price_overview</th>\n",
       "      <th>windows</th>\n",
       "      <th>mac</th>\n",
       "      <th>linux</th>\n",
       "      <th>metacritic_score</th>\n",
       "      <th>metacritic_url</th>\n",
       "      <th>coming_soon</th>\n",
       "    </tr>\n",
       "  </thead>\n",
       "  <tbody>\n",
       "    <tr>\n",
       "      <th>0</th>\n",
       "      <td>game</td>\n",
       "      <td>Dota 2</td>\n",
       "      <td>570</td>\n",
       "      <td>0.0</td>\n",
       "      <td>True</td>\n",
       "      <td>[1241930, 652720]</td>\n",
       "      <td>['Valve']</td>\n",
       "      <td>['Valve']</td>\n",
       "      <td>[Multi-player, Co-op, Steam Trading Cards, Steam Workshop, SteamVR Collectibles, In-App Purchases, Valve Anti-Cheat enabled]</td>\n",
       "      <td>9 Jul, 2013</td>\n",
       "      <td>0</td>\n",
       "      <td>NaN</td>\n",
       "      <td>1</td>\n",
       "      <td>1</td>\n",
       "      <td>1</td>\n",
       "      <td>90.0</td>\n",
       "      <td>https://www.metacritic.com/game/pc/dota-2?ftag=MCD-06-10aaa1f</td>\n",
       "      <td>False</td>\n",
       "    </tr>\n",
       "  </tbody>\n",
       "</table>\n",
       "</div>"
      ],
      "text/plain": [
       "   type    name  steam_appid required_age is_free                dlc  \\\n",
       "0  game  Dota 2          570          0.0    True  [1241930, 652720]   \n",
       "\n",
       "  developers publishers  \\\n",
       "0  ['Valve']  ['Valve']   \n",
       "\n",
       "                                                                                                                     categories  \\\n",
       "0  [Multi-player, Co-op, Steam Trading Cards, Steam Workshop, SteamVR Collectibles, In-App Purchases, Valve Anti-Cheat enabled]   \n",
       "\n",
       "  release_date  controller_support price_overview  windows  mac  linux  \\\n",
       "0  9 Jul, 2013                   0            NaN        1    1      1   \n",
       "\n",
       "   metacritic_score  \\\n",
       "0              90.0   \n",
       "\n",
       "                                                  metacritic_url  coming_soon  \n",
       "0  https://www.metacritic.com/game/pc/dota-2?ftag=MCD-06-10aaa1f        False  "
      ]
     },
     "execution_count": 26,
     "metadata": {},
     "output_type": "execute_result"
    }
   ],
   "source": [
    "# Replace \"full\" with 1 and nan with 0\n",
    "df['controller_support'] = df['controller_support'].apply(lambda x: 1 if not pd.isnull(x) else 0)\n",
    "\n",
    "df.loc[[0]]"
   ]
  },
  {
   "cell_type": "markdown",
   "metadata": {},
   "source": [
    "### price_overview"
   ]
  },
  {
   "cell_type": "code",
   "execution_count": 27,
   "metadata": {},
   "outputs": [
    {
     "data": {
      "text/plain": [
       "0                                                                                                                                          NaN\n",
       "1                                                                                                                                          NaN\n",
       "2                                                                                                                                          NaN\n",
       "3                                                                                                                                          NaN\n",
       "4    {'currency': 'SGD', 'initial': 3400, 'final': 1700, 'discount_percent': 50, 'initial_formatted': 'S$34.00', 'final_formatted': 'S$17.00'}\n",
       "Name: price_overview, dtype: object"
      ]
     },
     "execution_count": 27,
     "metadata": {},
     "output_type": "execute_result"
    }
   ],
   "source": [
    "df['price_overview'] = df['price_overview'].apply(lambda x: eval(x) if type(x) == str else x)\n",
    "df['price_overview'][:5]"
   ]
  },
  {
   "cell_type": "code",
   "execution_count": 28,
   "metadata": {},
   "outputs": [
    {
     "data": {
      "text/html": [
       "<div>\n",
       "<style scoped>\n",
       "    .dataframe tbody tr th:only-of-type {\n",
       "        vertical-align: middle;\n",
       "    }\n",
       "\n",
       "    .dataframe tbody tr th {\n",
       "        vertical-align: top;\n",
       "    }\n",
       "\n",
       "    .dataframe thead th {\n",
       "        text-align: right;\n",
       "    }\n",
       "</style>\n",
       "<table border=\"1\" class=\"dataframe\">\n",
       "  <thead>\n",
       "    <tr style=\"text-align: right;\">\n",
       "      <th></th>\n",
       "      <th>type</th>\n",
       "      <th>name</th>\n",
       "      <th>steam_appid</th>\n",
       "      <th>required_age</th>\n",
       "      <th>is_free</th>\n",
       "      <th>dlc</th>\n",
       "      <th>developers</th>\n",
       "      <th>publishers</th>\n",
       "      <th>categories</th>\n",
       "      <th>release_date</th>\n",
       "      <th>controller_support</th>\n",
       "      <th>price_overview</th>\n",
       "      <th>windows</th>\n",
       "      <th>mac</th>\n",
       "      <th>linux</th>\n",
       "      <th>metacritic_score</th>\n",
       "      <th>metacritic_url</th>\n",
       "      <th>coming_soon</th>\n",
       "    </tr>\n",
       "  </thead>\n",
       "  <tbody>\n",
       "  </tbody>\n",
       "</table>\n",
       "</div>"
      ],
      "text/plain": [
       "Empty DataFrame\n",
       "Columns: [type, name, steam_appid, required_age, is_free, dlc, developers, publishers, categories, release_date, controller_support, price_overview, windows, mac, linux, metacritic_score, metacritic_url, coming_soon]\n",
       "Index: []"
      ]
     },
     "execution_count": 28,
     "metadata": {},
     "output_type": "execute_result"
    }
   ],
   "source": [
    "# Replace NaN with default dicts (impute after train test split)\n",
    "fix_index = df[df['price_overview'].isnull()].index\n",
    "lst = []\n",
    "for value in df['price_overview']:\n",
    "    if type(value) == dict:\n",
    "        lst.append(value)\n",
    "    else:\n",
    "        lst.append({\n",
    "            'currency': '', \n",
    "            'initial': None, \n",
    "            'final': None, \n",
    "            'discount_percent':None, \n",
    "            'initial_formatted': 'NaN', \n",
    "            'final_formatted': 'NaN'})\n",
    "df['price_overview'] = lst\n",
    "df[df['price_overview'].isnull()]"
   ]
  },
  {
   "cell_type": "code",
   "execution_count": 29,
   "metadata": {},
   "outputs": [],
   "source": [
    "import re\n",
    "def sub_price(s):\n",
    "    if s == 'NaN':\n",
    "        return None\n",
    "    else:\n",
    "        return re.sub(\"[^0-9]\", \"\", s)\n",
    "\n",
    "df['currency'] = df['price_overview'].apply(lambda x: x['currency'])\n",
    "df['initial'] = df['price_overview'].apply(lambda x: x['initial'])\n",
    "df['final'] = df['price_overview'].apply(lambda x: x['final'])\n",
    "df['discount_percent'] = df['price_overview'].apply(lambda x: x['discount_percent'])\n",
    "df['initial_formatted'] = df['price_overview'].apply(lambda x: sub_price(x['initial_formatted']))\n",
    "df['final_formatted'] = df['price_overview'].apply(lambda x: sub_price(x['final_formatted']))"
   ]
  },
  {
   "cell_type": "code",
   "execution_count": 30,
   "metadata": {},
   "outputs": [
    {
     "data": {
      "text/html": [
       "<div>\n",
       "<style scoped>\n",
       "    .dataframe tbody tr th:only-of-type {\n",
       "        vertical-align: middle;\n",
       "    }\n",
       "\n",
       "    .dataframe tbody tr th {\n",
       "        vertical-align: top;\n",
       "    }\n",
       "\n",
       "    .dataframe thead th {\n",
       "        text-align: right;\n",
       "    }\n",
       "</style>\n",
       "<table border=\"1\" class=\"dataframe\">\n",
       "  <thead>\n",
       "    <tr style=\"text-align: right;\">\n",
       "      <th></th>\n",
       "      <th>type</th>\n",
       "      <th>name</th>\n",
       "      <th>steam_appid</th>\n",
       "      <th>required_age</th>\n",
       "      <th>is_free</th>\n",
       "      <th>dlc</th>\n",
       "      <th>developers</th>\n",
       "      <th>publishers</th>\n",
       "      <th>categories</th>\n",
       "      <th>release_date</th>\n",
       "      <th>controller_support</th>\n",
       "      <th>windows</th>\n",
       "      <th>mac</th>\n",
       "      <th>linux</th>\n",
       "      <th>metacritic_score</th>\n",
       "      <th>metacritic_url</th>\n",
       "      <th>coming_soon</th>\n",
       "      <th>currency</th>\n",
       "      <th>initial</th>\n",
       "      <th>final</th>\n",
       "      <th>discount_percent</th>\n",
       "      <th>initial_formatted</th>\n",
       "      <th>final_formatted</th>\n",
       "    </tr>\n",
       "  </thead>\n",
       "  <tbody>\n",
       "    <tr>\n",
       "      <th>0</th>\n",
       "      <td>game</td>\n",
       "      <td>Dota 2</td>\n",
       "      <td>570</td>\n",
       "      <td>0.0</td>\n",
       "      <td>True</td>\n",
       "      <td>[1241930, 652720]</td>\n",
       "      <td>['Valve']</td>\n",
       "      <td>['Valve']</td>\n",
       "      <td>[Multi-player, Co-op, Steam Trading Cards, Steam Workshop, SteamVR Collectibles, In-App Purchases, Valve Anti-Cheat enabled]</td>\n",
       "      <td>9 Jul, 2013</td>\n",
       "      <td>0</td>\n",
       "      <td>1</td>\n",
       "      <td>1</td>\n",
       "      <td>1</td>\n",
       "      <td>90.0</td>\n",
       "      <td>https://www.metacritic.com/game/pc/dota-2?ftag=MCD-06-10aaa1f</td>\n",
       "      <td>False</td>\n",
       "      <td></td>\n",
       "      <td>NaN</td>\n",
       "      <td>NaN</td>\n",
       "      <td>NaN</td>\n",
       "      <td>None</td>\n",
       "      <td>None</td>\n",
       "    </tr>\n",
       "    <tr>\n",
       "      <th>1</th>\n",
       "      <td>game</td>\n",
       "      <td>Counter-Strike: Global Offensive</td>\n",
       "      <td>730</td>\n",
       "      <td>0.0</td>\n",
       "      <td>True</td>\n",
       "      <td>[]</td>\n",
       "      <td>['Valve', 'Hidden Path Entertainment']</td>\n",
       "      <td>['Valve']</td>\n",
       "      <td>[Multi-player, Steam Achievements, Full controller support, Steam Trading Cards, Steam Workshop, In-App Purchases, Valve Anti-Cheat enabled, Stats, Remote Play on Phone, Remote Play on Tablet, Rem...</td>\n",
       "      <td>21 AGO 2012</td>\n",
       "      <td>1</td>\n",
       "      <td>1</td>\n",
       "      <td>1</td>\n",
       "      <td>1</td>\n",
       "      <td>83.0</td>\n",
       "      <td>https://www.metacritic.com/game/pc/counter-strike-global-offensive?ftag=MCD-06-10aaa1f</td>\n",
       "      <td>False</td>\n",
       "      <td></td>\n",
       "      <td>NaN</td>\n",
       "      <td>NaN</td>\n",
       "      <td>NaN</td>\n",
       "      <td>None</td>\n",
       "      <td>None</td>\n",
       "    </tr>\n",
       "    <tr>\n",
       "      <th>2</th>\n",
       "      <td>game</td>\n",
       "      <td>Apex Legends™</td>\n",
       "      <td>1172470</td>\n",
       "      <td>0.0</td>\n",
       "      <td>True</td>\n",
       "      <td>[]</td>\n",
       "      <td>['Respawn Entertainment']</td>\n",
       "      <td>['Electronic Arts']</td>\n",
       "      <td>[Multi-player, PvP, Online PvP, Co-op, Online Co-op, Steam Achievements, Full controller support, Steam Trading Cards, In-App Purchases]</td>\n",
       "      <td>4 Nov, 2020</td>\n",
       "      <td>1</td>\n",
       "      <td>1</td>\n",
       "      <td>0</td>\n",
       "      <td>0</td>\n",
       "      <td>88.0</td>\n",
       "      <td>https://www.metacritic.com/game/pc/apex-legends?ftag=MCD-06-10aaa1f</td>\n",
       "      <td>False</td>\n",
       "      <td></td>\n",
       "      <td>NaN</td>\n",
       "      <td>NaN</td>\n",
       "      <td>NaN</td>\n",
       "      <td>None</td>\n",
       "      <td>None</td>\n",
       "    </tr>\n",
       "    <tr>\n",
       "      <th>3</th>\n",
       "      <td>game</td>\n",
       "      <td>PUBG: BATTLEGROUNDS</td>\n",
       "      <td>578080</td>\n",
       "      <td>0.0</td>\n",
       "      <td>True</td>\n",
       "      <td>[]</td>\n",
       "      <td>['KRAFTON, Inc.']</td>\n",
       "      <td>['KRAFTON, Inc.']</td>\n",
       "      <td>[Multi-player, PvP, Online PvP, Stats, Remote Play on Phone, Remote Play on Tablet]</td>\n",
       "      <td>21 Dec, 2017</td>\n",
       "      <td>0</td>\n",
       "      <td>1</td>\n",
       "      <td>0</td>\n",
       "      <td>0</td>\n",
       "      <td>NaN</td>\n",
       "      <td>None</td>\n",
       "      <td>False</td>\n",
       "      <td></td>\n",
       "      <td>NaN</td>\n",
       "      <td>NaN</td>\n",
       "      <td>NaN</td>\n",
       "      <td>None</td>\n",
       "      <td>None</td>\n",
       "    </tr>\n",
       "    <tr>\n",
       "      <th>4</th>\n",
       "      <td>game</td>\n",
       "      <td>New World</td>\n",
       "      <td>1063730</td>\n",
       "      <td>0.0</td>\n",
       "      <td>False</td>\n",
       "      <td>[]</td>\n",
       "      <td>['Amazon Games']</td>\n",
       "      <td>['Amazon Games']</td>\n",
       "      <td>[Multi-player, MMO, PvP, Online PvP, Co-op, Online Co-op, Steam Achievements, In-App Purchases]</td>\n",
       "      <td>28 Sep, 2021</td>\n",
       "      <td>0</td>\n",
       "      <td>1</td>\n",
       "      <td>0</td>\n",
       "      <td>0</td>\n",
       "      <td>70.0</td>\n",
       "      <td>https://www.metacritic.com/game/pc/new-world?ftag=MCD-06-10aaa1f</td>\n",
       "      <td>False</td>\n",
       "      <td>SGD</td>\n",
       "      <td>3400.0</td>\n",
       "      <td>1700.0</td>\n",
       "      <td>50.0</td>\n",
       "      <td>3400</td>\n",
       "      <td>1700</td>\n",
       "    </tr>\n",
       "  </tbody>\n",
       "</table>\n",
       "</div>"
      ],
      "text/plain": [
       "   type                              name  steam_appid required_age is_free  \\\n",
       "0  game                            Dota 2          570          0.0    True   \n",
       "1  game  Counter-Strike: Global Offensive          730          0.0    True   \n",
       "2  game                     Apex Legends™      1172470          0.0    True   \n",
       "3  game               PUBG: BATTLEGROUNDS       578080          0.0    True   \n",
       "4  game                         New World      1063730          0.0   False   \n",
       "\n",
       "                 dlc                              developers  \\\n",
       "0  [1241930, 652720]                               ['Valve']   \n",
       "1                 []  ['Valve', 'Hidden Path Entertainment']   \n",
       "2                 []               ['Respawn Entertainment']   \n",
       "3                 []                       ['KRAFTON, Inc.']   \n",
       "4                 []                        ['Amazon Games']   \n",
       "\n",
       "            publishers  \\\n",
       "0            ['Valve']   \n",
       "1            ['Valve']   \n",
       "2  ['Electronic Arts']   \n",
       "3    ['KRAFTON, Inc.']   \n",
       "4     ['Amazon Games']   \n",
       "\n",
       "                                                                                                                                                                                                categories  \\\n",
       "0                                                                             [Multi-player, Co-op, Steam Trading Cards, Steam Workshop, SteamVR Collectibles, In-App Purchases, Valve Anti-Cheat enabled]   \n",
       "1  [Multi-player, Steam Achievements, Full controller support, Steam Trading Cards, Steam Workshop, In-App Purchases, Valve Anti-Cheat enabled, Stats, Remote Play on Phone, Remote Play on Tablet, Rem...   \n",
       "2                                                                 [Multi-player, PvP, Online PvP, Co-op, Online Co-op, Steam Achievements, Full controller support, Steam Trading Cards, In-App Purchases]   \n",
       "3                                                                                                                      [Multi-player, PvP, Online PvP, Stats, Remote Play on Phone, Remote Play on Tablet]   \n",
       "4                                                                                                          [Multi-player, MMO, PvP, Online PvP, Co-op, Online Co-op, Steam Achievements, In-App Purchases]   \n",
       "\n",
       "   release_date  controller_support  windows  mac  linux  metacritic_score  \\\n",
       "0   9 Jul, 2013                   0        1    1      1              90.0   \n",
       "1   21 AGO 2012                   1        1    1      1              83.0   \n",
       "2   4 Nov, 2020                   1        1    0      0              88.0   \n",
       "3  21 Dec, 2017                   0        1    0      0               NaN   \n",
       "4  28 Sep, 2021                   0        1    0      0              70.0   \n",
       "\n",
       "                                                                           metacritic_url  \\\n",
       "0                           https://www.metacritic.com/game/pc/dota-2?ftag=MCD-06-10aaa1f   \n",
       "1  https://www.metacritic.com/game/pc/counter-strike-global-offensive?ftag=MCD-06-10aaa1f   \n",
       "2                     https://www.metacritic.com/game/pc/apex-legends?ftag=MCD-06-10aaa1f   \n",
       "3                                                                                    None   \n",
       "4                        https://www.metacritic.com/game/pc/new-world?ftag=MCD-06-10aaa1f   \n",
       "\n",
       "   coming_soon currency  initial   final  discount_percent initial_formatted  \\\n",
       "0        False               NaN     NaN               NaN              None   \n",
       "1        False               NaN     NaN               NaN              None   \n",
       "2        False               NaN     NaN               NaN              None   \n",
       "3        False               NaN     NaN               NaN              None   \n",
       "4        False      SGD   3400.0  1700.0              50.0              3400   \n",
       "\n",
       "  final_formatted  \n",
       "0            None  \n",
       "1            None  \n",
       "2            None  \n",
       "3            None  \n",
       "4            1700  "
      ]
     },
     "execution_count": 30,
     "metadata": {},
     "output_type": "execute_result"
    }
   ],
   "source": [
    "df.drop(['price_overview'], axis=1, inplace=True)\n",
    "df.head()"
   ]
  },
  {
   "cell_type": "code",
   "execution_count": 31,
   "metadata": {},
   "outputs": [
    {
     "name": "stdout",
     "output_type": "stream",
     "text": [
      "<class 'pandas.core.frame.DataFrame'>\n",
      "Int64Index: 61457 entries, 0 to 61639\n",
      "Data columns (total 23 columns):\n",
      " #   Column              Non-Null Count  Dtype  \n",
      "---  ------              --------------  -----  \n",
      " 0   type                61457 non-null  object \n",
      " 1   name                61457 non-null  object \n",
      " 2   steam_appid         61457 non-null  int64  \n",
      " 3   required_age        61457 non-null  object \n",
      " 4   is_free             61457 non-null  object \n",
      " 5   dlc                 61457 non-null  object \n",
      " 6   developers          61457 non-null  object \n",
      " 7   publishers          61457 non-null  object \n",
      " 8   categories          61457 non-null  object \n",
      " 9   release_date        61457 non-null  object \n",
      " 10  controller_support  61457 non-null  int64  \n",
      " 11  windows             61457 non-null  int64  \n",
      " 12  mac                 61457 non-null  int64  \n",
      " 13  linux               61457 non-null  int64  \n",
      " 14  metacritic_score    3857 non-null   float64\n",
      " 15  metacritic_url      3857 non-null   object \n",
      " 16  coming_soon         61457 non-null  bool   \n",
      " 17  currency            61457 non-null  object \n",
      " 18  initial             52822 non-null  float64\n",
      " 19  final               52822 non-null  float64\n",
      " 20  discount_percent    52822 non-null  float64\n",
      " 21  initial_formatted   52822 non-null  object \n",
      " 22  final_formatted     52822 non-null  object \n",
      "dtypes: bool(1), float64(4), int64(5), object(13)\n",
      "memory usage: 12.9+ MB\n"
     ]
    }
   ],
   "source": [
    "df.info()"
   ]
  },
  {
   "cell_type": "code",
   "execution_count": 33,
   "metadata": {},
   "outputs": [],
   "source": [
    "df.to_csv(\"../Data/steam_store_games_clean.csv\")"
   ]
  },
  {
   "cell_type": "code",
   "execution_count": null,
   "metadata": {},
   "outputs": [],
   "source": []
  }
 ],
 "metadata": {
  "kernelspec": {
   "display_name": "Python 3 (ipykernel)",
   "language": "python",
   "name": "python3"
  },
  "language_info": {
   "codemirror_mode": {
    "name": "ipython",
    "version": 3
   },
   "file_extension": ".py",
   "mimetype": "text/x-python",
   "name": "python",
   "nbconvert_exporter": "python",
   "pygments_lexer": "ipython3",
   "version": "3.9.13"
  }
 },
 "nbformat": 4,
 "nbformat_minor": 4
}
