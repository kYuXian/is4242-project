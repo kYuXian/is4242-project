{
 "cells": [
  {
   "cell_type": "code",
   "execution_count": 67,
   "metadata": {},
   "outputs": [],
   "source": [
    "import numpy as np\n",
    "import pandas as pd\n",
    "import os\n",
    "pd.set_option('display.max_columns', None)\n",
    "pd.set_option('display.max_colwidth', 200)"
   ]
  },
  {
   "cell_type": "code",
   "execution_count": 68,
   "metadata": {},
   "outputs": [
    {
     "data": {
      "text/html": [
       "<div>\n",
       "<style scoped>\n",
       "    .dataframe tbody tr th:only-of-type {\n",
       "        vertical-align: middle;\n",
       "    }\n",
       "\n",
       "    .dataframe tbody tr th {\n",
       "        vertical-align: top;\n",
       "    }\n",
       "\n",
       "    .dataframe thead th {\n",
       "        text-align: right;\n",
       "    }\n",
       "</style>\n",
       "<table border=\"1\" class=\"dataframe\">\n",
       "  <thead>\n",
       "    <tr style=\"text-align: right;\">\n",
       "      <th></th>\n",
       "      <th>Unnamed: 0</th>\n",
       "      <th>type</th>\n",
       "      <th>name</th>\n",
       "      <th>steam_appid</th>\n",
       "      <th>required_age</th>\n",
       "      <th>is_free</th>\n",
       "      <th>dlc</th>\n",
       "      <th>developers</th>\n",
       "      <th>publishers</th>\n",
       "      <th>platforms</th>\n",
       "      <th>metacritic</th>\n",
       "      <th>categories</th>\n",
       "      <th>release_date</th>\n",
       "      <th>controller_support</th>\n",
       "      <th>price_overview</th>\n",
       "    </tr>\n",
       "  </thead>\n",
       "  <tbody>\n",
       "    <tr>\n",
       "      <th>0</th>\n",
       "      <td>0</td>\n",
       "      <td>game</td>\n",
       "      <td>Dota 2</td>\n",
       "      <td>570</td>\n",
       "      <td>0.0</td>\n",
       "      <td>True</td>\n",
       "      <td>[1241930, 652720]</td>\n",
       "      <td>['Valve']</td>\n",
       "      <td>['Valve']</td>\n",
       "      <td>{'windows': True, 'mac': True, 'linux': True}</td>\n",
       "      <td>{'score': 90, 'url': 'https://www.metacritic.com/game/pc/dota-2?ftag=MCD-06-10aaa1f'}</td>\n",
       "      <td>[{'id': 1, 'description': 'Multi-player'}, {'id': 9, 'description': 'Co-op'}, {'id': 29, 'description': 'Steam Trading Cards'}, {'id': 30, 'description': 'Steam Workshop'}, {'id': 40, 'description...</td>\n",
       "      <td>{'coming_soon': False, 'date': '9 Jul, 2013'}</td>\n",
       "      <td>NaN</td>\n",
       "      <td>NaN</td>\n",
       "    </tr>\n",
       "    <tr>\n",
       "      <th>1</th>\n",
       "      <td>1</td>\n",
       "      <td>game</td>\n",
       "      <td>Counter-Strike: Global Offensive</td>\n",
       "      <td>730</td>\n",
       "      <td>0.0</td>\n",
       "      <td>True</td>\n",
       "      <td>NaN</td>\n",
       "      <td>['Valve', 'Hidden Path Entertainment']</td>\n",
       "      <td>['Valve']</td>\n",
       "      <td>{'windows': True, 'mac': True, 'linux': True}</td>\n",
       "      <td>{'score': 83, 'url': 'https://www.metacritic.com/game/pc/counter-strike-global-offensive?ftag=MCD-06-10aaa1f'}</td>\n",
       "      <td>[{'id': 1, 'description': 'Multijugador'}, {'id': 22, 'description': 'Logros de Steam'}, {'id': 28, 'description': 'Compat. total con control'}, {'id': 29, 'description': 'Cromos de Steam'}, {'id'...</td>\n",
       "      <td>{'coming_soon': False, 'date': '21 AGO 2012'}</td>\n",
       "      <td>full</td>\n",
       "      <td>NaN</td>\n",
       "    </tr>\n",
       "    <tr>\n",
       "      <th>2</th>\n",
       "      <td>2</td>\n",
       "      <td>game</td>\n",
       "      <td>Apex Legends™</td>\n",
       "      <td>1172470</td>\n",
       "      <td>0.0</td>\n",
       "      <td>True</td>\n",
       "      <td>NaN</td>\n",
       "      <td>['Respawn Entertainment']</td>\n",
       "      <td>['Electronic Arts']</td>\n",
       "      <td>{'windows': True, 'mac': False, 'linux': False}</td>\n",
       "      <td>{'score': 88, 'url': 'https://www.metacritic.com/game/pc/apex-legends?ftag=MCD-06-10aaa1f'}</td>\n",
       "      <td>[{'id': 1, 'description': 'Multi-player'}, {'id': 49, 'description': 'PvP'}, {'id': 36, 'description': 'Online PvP'}, {'id': 9, 'description': 'Co-op'}, {'id': 38, 'description': 'Online Co-op'}, ...</td>\n",
       "      <td>{'coming_soon': False, 'date': '4 Nov, 2020'}</td>\n",
       "      <td>full</td>\n",
       "      <td>NaN</td>\n",
       "    </tr>\n",
       "    <tr>\n",
       "      <th>3</th>\n",
       "      <td>3</td>\n",
       "      <td>game</td>\n",
       "      <td>PUBG: BATTLEGROUNDS</td>\n",
       "      <td>578080</td>\n",
       "      <td>0.0</td>\n",
       "      <td>True</td>\n",
       "      <td>NaN</td>\n",
       "      <td>['KRAFTON, Inc.']</td>\n",
       "      <td>['KRAFTON, Inc.']</td>\n",
       "      <td>{'windows': True, 'mac': False, 'linux': False}</td>\n",
       "      <td>NaN</td>\n",
       "      <td>[{'id': 1, 'description': 'Multi-player'}, {'id': 49, 'description': 'PvP'}, {'id': 36, 'description': 'Online PvP'}, {'id': 15, 'description': 'Stats'}, {'id': 41, 'description': 'Remote Play on ...</td>\n",
       "      <td>{'coming_soon': False, 'date': '21 Dec, 2017'}</td>\n",
       "      <td>NaN</td>\n",
       "      <td>NaN</td>\n",
       "    </tr>\n",
       "    <tr>\n",
       "      <th>4</th>\n",
       "      <td>4</td>\n",
       "      <td>game</td>\n",
       "      <td>New World</td>\n",
       "      <td>1063730</td>\n",
       "      <td>0.0</td>\n",
       "      <td>False</td>\n",
       "      <td>NaN</td>\n",
       "      <td>['Amazon Games']</td>\n",
       "      <td>['Amazon Games']</td>\n",
       "      <td>{'windows': True, 'mac': False, 'linux': False}</td>\n",
       "      <td>{'score': 70, 'url': 'https://www.metacritic.com/game/pc/new-world?ftag=MCD-06-10aaa1f'}</td>\n",
       "      <td>[{'id': 1, 'description': 'Multi-player'}, {'id': 20, 'description': 'MMO'}, {'id': 49, 'description': 'PvP'}, {'id': 36, 'description': 'Online PvP'}, {'id': 9, 'description': 'Co-op'}, {'id': 38...</td>\n",
       "      <td>{'coming_soon': False, 'date': '28 Sep, 2021'}</td>\n",
       "      <td>NaN</td>\n",
       "      <td>{'currency': 'SGD', 'initial': 3400, 'final': 1700, 'discount_percent': 50, 'initial_formatted': 'S$34.00', 'final_formatted': 'S$17.00'}</td>\n",
       "    </tr>\n",
       "  </tbody>\n",
       "</table>\n",
       "</div>"
      ],
      "text/plain": [
       "   Unnamed: 0  type                              name  steam_appid  \\\n",
       "0           0  game                            Dota 2          570   \n",
       "1           1  game  Counter-Strike: Global Offensive          730   \n",
       "2           2  game                     Apex Legends™      1172470   \n",
       "3           3  game               PUBG: BATTLEGROUNDS       578080   \n",
       "4           4  game                         New World      1063730   \n",
       "\n",
       "  required_age is_free                dlc  \\\n",
       "0          0.0    True  [1241930, 652720]   \n",
       "1          0.0    True                NaN   \n",
       "2          0.0    True                NaN   \n",
       "3          0.0    True                NaN   \n",
       "4          0.0   False                NaN   \n",
       "\n",
       "                               developers           publishers  \\\n",
       "0                               ['Valve']            ['Valve']   \n",
       "1  ['Valve', 'Hidden Path Entertainment']            ['Valve']   \n",
       "2               ['Respawn Entertainment']  ['Electronic Arts']   \n",
       "3                       ['KRAFTON, Inc.']    ['KRAFTON, Inc.']   \n",
       "4                        ['Amazon Games']     ['Amazon Games']   \n",
       "\n",
       "                                         platforms  \\\n",
       "0    {'windows': True, 'mac': True, 'linux': True}   \n",
       "1    {'windows': True, 'mac': True, 'linux': True}   \n",
       "2  {'windows': True, 'mac': False, 'linux': False}   \n",
       "3  {'windows': True, 'mac': False, 'linux': False}   \n",
       "4  {'windows': True, 'mac': False, 'linux': False}   \n",
       "\n",
       "                                                                                                       metacritic  \\\n",
       "0                           {'score': 90, 'url': 'https://www.metacritic.com/game/pc/dota-2?ftag=MCD-06-10aaa1f'}   \n",
       "1  {'score': 83, 'url': 'https://www.metacritic.com/game/pc/counter-strike-global-offensive?ftag=MCD-06-10aaa1f'}   \n",
       "2                     {'score': 88, 'url': 'https://www.metacritic.com/game/pc/apex-legends?ftag=MCD-06-10aaa1f'}   \n",
       "3                                                                                                             NaN   \n",
       "4                        {'score': 70, 'url': 'https://www.metacritic.com/game/pc/new-world?ftag=MCD-06-10aaa1f'}   \n",
       "\n",
       "                                                                                                                                                                                                categories  \\\n",
       "0  [{'id': 1, 'description': 'Multi-player'}, {'id': 9, 'description': 'Co-op'}, {'id': 29, 'description': 'Steam Trading Cards'}, {'id': 30, 'description': 'Steam Workshop'}, {'id': 40, 'description...   \n",
       "1  [{'id': 1, 'description': 'Multijugador'}, {'id': 22, 'description': 'Logros de Steam'}, {'id': 28, 'description': 'Compat. total con control'}, {'id': 29, 'description': 'Cromos de Steam'}, {'id'...   \n",
       "2  [{'id': 1, 'description': 'Multi-player'}, {'id': 49, 'description': 'PvP'}, {'id': 36, 'description': 'Online PvP'}, {'id': 9, 'description': 'Co-op'}, {'id': 38, 'description': 'Online Co-op'}, ...   \n",
       "3  [{'id': 1, 'description': 'Multi-player'}, {'id': 49, 'description': 'PvP'}, {'id': 36, 'description': 'Online PvP'}, {'id': 15, 'description': 'Stats'}, {'id': 41, 'description': 'Remote Play on ...   \n",
       "4  [{'id': 1, 'description': 'Multi-player'}, {'id': 20, 'description': 'MMO'}, {'id': 49, 'description': 'PvP'}, {'id': 36, 'description': 'Online PvP'}, {'id': 9, 'description': 'Co-op'}, {'id': 38...   \n",
       "\n",
       "                                     release_date controller_support  \\\n",
       "0   {'coming_soon': False, 'date': '9 Jul, 2013'}                NaN   \n",
       "1   {'coming_soon': False, 'date': '21 AGO 2012'}               full   \n",
       "2   {'coming_soon': False, 'date': '4 Nov, 2020'}               full   \n",
       "3  {'coming_soon': False, 'date': '21 Dec, 2017'}                NaN   \n",
       "4  {'coming_soon': False, 'date': '28 Sep, 2021'}                NaN   \n",
       "\n",
       "                                                                                                                              price_overview  \n",
       "0                                                                                                                                        NaN  \n",
       "1                                                                                                                                        NaN  \n",
       "2                                                                                                                                        NaN  \n",
       "3                                                                                                                                        NaN  \n",
       "4  {'currency': 'SGD', 'initial': 3400, 'final': 1700, 'discount_percent': 50, 'initial_formatted': 'S$34.00', 'final_formatted': 'S$17.00'}  "
      ]
     },
     "execution_count": 68,
     "metadata": {},
     "output_type": "execute_result"
    }
   ],
   "source": [
    "df = pd.read_csv('../Data/Raw/steam_store_games_only.csv', keep_default_na=True)\n",
    "df.head()"
   ]
  },
  {
   "cell_type": "code",
   "execution_count": 69,
   "metadata": {},
   "outputs": [],
   "source": [
    "df.drop('Unnamed: 0', axis=1, inplace=True)"
   ]
  },
  {
   "cell_type": "code",
   "execution_count": 70,
   "metadata": {},
   "outputs": [
    {
     "name": "stdout",
     "output_type": "stream",
     "text": [
      "(61640, 14)\n"
     ]
    },
    {
     "data": {
      "text/plain": [
       "type                    182\n",
       "name                      7\n",
       "steam_appid               0\n",
       "required_age            182\n",
       "is_free                 182\n",
       "dlc                   51483\n",
       "developers              324\n",
       "publishers              182\n",
       "platforms               182\n",
       "metacritic            57783\n",
       "categories              964\n",
       "release_date            182\n",
       "controller_support    48445\n",
       "price_overview         8818\n",
       "dtype: int64"
      ]
     },
     "execution_count": 70,
     "metadata": {},
     "output_type": "execute_result"
    }
   ],
   "source": [
    "print(df.shape)\n",
    "df.isnull().sum()"
   ]
  },
  {
   "cell_type": "markdown",
   "metadata": {},
   "source": [
    "## Clean Data"
   ]
  },
  {
   "cell_type": "markdown",
   "metadata": {},
   "source": [
    "### type"
   ]
  },
  {
   "cell_type": "code",
   "execution_count": 71,
   "metadata": {},
   "outputs": [
    {
     "data": {
      "text/plain": [
       "array(['game', nan, 'hardware'], dtype=object)"
      ]
     },
     "execution_count": 71,
     "metadata": {},
     "output_type": "execute_result"
    }
   ],
   "source": [
    "df['type'].unique()"
   ]
  },
  {
   "cell_type": "code",
   "execution_count": 72,
   "metadata": {},
   "outputs": [
    {
     "data": {
      "text/plain": [
       "(61457, 14)"
      ]
     },
     "execution_count": 72,
     "metadata": {},
     "output_type": "execute_result"
    }
   ],
   "source": [
    "# Keep only rows with game type\n",
    "df = df[df['type'] == 'game']\n",
    "df.shape"
   ]
  },
  {
   "cell_type": "code",
   "execution_count": 73,
   "metadata": {},
   "outputs": [
    {
     "data": {
      "text/plain": [
       "type                      0\n",
       "name                      6\n",
       "steam_appid               0\n",
       "required_age              0\n",
       "is_free                   0\n",
       "dlc                   51300\n",
       "developers              141\n",
       "publishers                0\n",
       "platforms                 0\n",
       "metacritic            57600\n",
       "categories              782\n",
       "release_date              0\n",
       "controller_support    48263\n",
       "price_overview         8635\n",
       "dtype: int64"
      ]
     },
     "execution_count": 73,
     "metadata": {},
     "output_type": "execute_result"
    }
   ],
   "source": [
    "df.isnull().sum()"
   ]
  },
  {
   "cell_type": "markdown",
   "metadata": {},
   "source": [
    "### name"
   ]
  },
  {
   "cell_type": "code",
   "execution_count": 74,
   "metadata": {},
   "outputs": [
    {
     "data": {
      "text/plain": [
       "0"
      ]
     },
     "execution_count": 74,
     "metadata": {},
     "output_type": "execute_result"
    }
   ],
   "source": [
    "# Replace name with blank string \n",
    "df['name'] = df['name'].fillna('')\n",
    "df['name'].isnull().sum()"
   ]
  },
  {
   "cell_type": "markdown",
   "metadata": {},
   "source": [
    "### required_age"
   ]
  },
  {
   "cell_type": "code",
   "execution_count": 75,
   "metadata": {},
   "outputs": [
    {
     "data": {
      "text/plain": [
       "array(['0.0', '17.0', '16.0', '13.0', '18.0', '15.0', '0', '18', '16',\n",
       "       '17', '17+', '15', '13', '12', '10', '14', '3', '7', '11', '180',\n",
       "       '20', '5', '4', '21+', '7+', '6'], dtype=object)"
      ]
     },
     "execution_count": 75,
     "metadata": {},
     "output_type": "execute_result"
    }
   ],
   "source": [
    "df['required_age'].unique()"
   ]
  },
  {
   "cell_type": "code",
   "execution_count": 76,
   "metadata": {},
   "outputs": [
    {
     "data": {
      "text/plain": [
       "array([  0,  17,  16,  13,  18,  15,  12,  10,  14,   3,   7,  11, 180,\n",
       "        20,   5,   4,  21,   6], dtype=int64)"
      ]
     },
     "execution_count": 76,
     "metadata": {},
     "output_type": "execute_result"
    }
   ],
   "source": [
    "# Some values such as \"17+\" are preventing the column from being an int type\n",
    "df['required_age'] = df['required_age'].apply(lambda x: int(float(x.replace('+', ''))))\n",
    "df['required_age'].unique()"
   ]
  },
  {
   "cell_type": "markdown",
   "metadata": {},
   "source": [
    "### dlc"
   ]
  },
  {
   "cell_type": "code",
   "execution_count": 77,
   "metadata": {},
   "outputs": [
    {
     "data": {
      "text/plain": [
       "0    [1241930, 652720]\n",
       "1                   []\n",
       "2                   []\n",
       "3                   []\n",
       "4                   []\n",
       "Name: dlc, dtype: object"
      ]
     },
     "execution_count": 77,
     "metadata": {},
     "output_type": "execute_result"
    }
   ],
   "source": [
    "# Replace NaN with empty list\n",
    "df['dlc'] = df['dlc'].fillna('[]')\n",
    "df['dlc'][:5]"
   ]
  },
  {
   "cell_type": "markdown",
   "metadata": {},
   "source": [
    "### developers"
   ]
  },
  {
   "cell_type": "code",
   "execution_count": 78,
   "metadata": {},
   "outputs": [
    {
     "data": {
      "text/plain": [
       "0                                 ['Valve']\n",
       "1    ['Valve', 'Hidden Path Entertainment']\n",
       "2                 ['Respawn Entertainment']\n",
       "3                         ['KRAFTON, Inc.']\n",
       "4                          ['Amazon Games']\n",
       "Name: developers, dtype: object"
      ]
     },
     "execution_count": 78,
     "metadata": {},
     "output_type": "execute_result"
    }
   ],
   "source": [
    "# Replace NaN with empty list\n",
    "df['developers'] = df['developers'].fillna('[]')\n",
    "df['developers'][:5]"
   ]
  },
  {
   "cell_type": "markdown",
   "metadata": {},
   "source": [
    "### platforms"
   ]
  },
  {
   "cell_type": "code",
   "execution_count": 79,
   "metadata": {},
   "outputs": [
    {
     "data": {
      "text/plain": [
       "array([\"{'windows': True, 'mac': True, 'linux': True}\",\n",
       "       \"{'windows': True, 'mac': False, 'linux': False}\",\n",
       "       \"{'windows': True, 'mac': True, 'linux': False}\",\n",
       "       \"{'windows': True, 'mac': False, 'linux': True}\",\n",
       "       \"{'windows': False, 'mac': True, 'linux': False}\",\n",
       "       \"{'windows': False, 'mac': True, 'linux': True}\",\n",
       "       \"{'windows': False, 'mac': False, 'linux': True}\"], dtype=object)"
      ]
     },
     "execution_count": 79,
     "metadata": {},
     "output_type": "execute_result"
    }
   ],
   "source": [
    "# Since there are 3 fixed platforms, encode before train-test split\n",
    "\n",
    "def fix_platforms(x):\n",
    "    windows = 0\n",
    "    mac = 0\n",
    "    linux = 0\n",
    "    if type(x) == str:\n",
    "        data = eval(x)\n",
    "        if data['windows'] == True:\n",
    "            windows = 1\n",
    "        if data['mac'] == True:\n",
    "            mac = 1\n",
    "        if data['linux'] == True:\n",
    "            linux = 1\n",
    "    return windows, mac, linux\n",
    "        \n",
    "df['platforms'].unique()"
   ]
  },
  {
   "cell_type": "code",
   "execution_count": 80,
   "metadata": {},
   "outputs": [],
   "source": [
    "res = df['platforms'].apply(fix_platforms)"
   ]
  },
  {
   "cell_type": "code",
   "execution_count": 81,
   "metadata": {},
   "outputs": [
    {
     "data": {
      "text/html": [
       "<div>\n",
       "<style scoped>\n",
       "    .dataframe tbody tr th:only-of-type {\n",
       "        vertical-align: middle;\n",
       "    }\n",
       "\n",
       "    .dataframe tbody tr th {\n",
       "        vertical-align: top;\n",
       "    }\n",
       "\n",
       "    .dataframe thead th {\n",
       "        text-align: right;\n",
       "    }\n",
       "</style>\n",
       "<table border=\"1\" class=\"dataframe\">\n",
       "  <thead>\n",
       "    <tr style=\"text-align: right;\">\n",
       "      <th></th>\n",
       "      <th>type</th>\n",
       "      <th>name</th>\n",
       "      <th>steam_appid</th>\n",
       "      <th>required_age</th>\n",
       "      <th>is_free</th>\n",
       "      <th>dlc</th>\n",
       "      <th>developers</th>\n",
       "      <th>publishers</th>\n",
       "      <th>metacritic</th>\n",
       "      <th>categories</th>\n",
       "      <th>release_date</th>\n",
       "      <th>controller_support</th>\n",
       "      <th>price_overview</th>\n",
       "      <th>windows</th>\n",
       "      <th>mac</th>\n",
       "      <th>linux</th>\n",
       "    </tr>\n",
       "  </thead>\n",
       "  <tbody>\n",
       "    <tr>\n",
       "      <th>0</th>\n",
       "      <td>game</td>\n",
       "      <td>Dota 2</td>\n",
       "      <td>570</td>\n",
       "      <td>0</td>\n",
       "      <td>True</td>\n",
       "      <td>[1241930, 652720]</td>\n",
       "      <td>['Valve']</td>\n",
       "      <td>['Valve']</td>\n",
       "      <td>{'score': 90, 'url': 'https://www.metacritic.com/game/pc/dota-2?ftag=MCD-06-10aaa1f'}</td>\n",
       "      <td>[{'id': 1, 'description': 'Multi-player'}, {'id': 9, 'description': 'Co-op'}, {'id': 29, 'description': 'Steam Trading Cards'}, {'id': 30, 'description': 'Steam Workshop'}, {'id': 40, 'description...</td>\n",
       "      <td>{'coming_soon': False, 'date': '9 Jul, 2013'}</td>\n",
       "      <td>NaN</td>\n",
       "      <td>NaN</td>\n",
       "      <td>1</td>\n",
       "      <td>1</td>\n",
       "      <td>1</td>\n",
       "    </tr>\n",
       "  </tbody>\n",
       "</table>\n",
       "</div>"
      ],
      "text/plain": [
       "   type    name  steam_appid  required_age is_free                dlc  \\\n",
       "0  game  Dota 2          570             0    True  [1241930, 652720]   \n",
       "\n",
       "  developers publishers  \\\n",
       "0  ['Valve']  ['Valve']   \n",
       "\n",
       "                                                                              metacritic  \\\n",
       "0  {'score': 90, 'url': 'https://www.metacritic.com/game/pc/dota-2?ftag=MCD-06-10aaa1f'}   \n",
       "\n",
       "                                                                                                                                                                                                categories  \\\n",
       "0  [{'id': 1, 'description': 'Multi-player'}, {'id': 9, 'description': 'Co-op'}, {'id': 29, 'description': 'Steam Trading Cards'}, {'id': 30, 'description': 'Steam Workshop'}, {'id': 40, 'description...   \n",
       "\n",
       "                                    release_date controller_support  \\\n",
       "0  {'coming_soon': False, 'date': '9 Jul, 2013'}                NaN   \n",
       "\n",
       "  price_overview  windows  mac  linux  \n",
       "0            NaN        1    1      1  "
      ]
     },
     "execution_count": 81,
     "metadata": {},
     "output_type": "execute_result"
    }
   ],
   "source": [
    "windows = []\n",
    "mac = []\n",
    "linux = []\n",
    "for tup in res:\n",
    "    windows.append(tup[0])\n",
    "    mac.append(tup[1])\n",
    "    linux.append(tup[2])\n",
    "df['windows'] = windows\n",
    "df['mac'] = mac\n",
    "df['linux'] = linux\n",
    "df = df.drop('platforms', axis = 1)\n",
    "df.loc[[0]]"
   ]
  },
  {
   "cell_type": "markdown",
   "metadata": {},
   "source": [
    "### metacritic"
   ]
  },
  {
   "cell_type": "code",
   "execution_count": 82,
   "metadata": {},
   "outputs": [],
   "source": [
    "# Leave NaN as is (impute after train test split)\n",
    "df['metacritic_score'] = df['metacritic'].apply(lambda x: eval(x)['score'] if not pd.isnull(x) else None)\n",
    "df['metacritic_url'] = df['metacritic'].apply(lambda x: eval(x)['url'] if not pd.isnull(x) else None)"
   ]
  },
  {
   "cell_type": "code",
   "execution_count": 83,
   "metadata": {},
   "outputs": [
    {
     "data": {
      "text/html": [
       "<div>\n",
       "<style scoped>\n",
       "    .dataframe tbody tr th:only-of-type {\n",
       "        vertical-align: middle;\n",
       "    }\n",
       "\n",
       "    .dataframe tbody tr th {\n",
       "        vertical-align: top;\n",
       "    }\n",
       "\n",
       "    .dataframe thead th {\n",
       "        text-align: right;\n",
       "    }\n",
       "</style>\n",
       "<table border=\"1\" class=\"dataframe\">\n",
       "  <thead>\n",
       "    <tr style=\"text-align: right;\">\n",
       "      <th></th>\n",
       "      <th>type</th>\n",
       "      <th>name</th>\n",
       "      <th>steam_appid</th>\n",
       "      <th>required_age</th>\n",
       "      <th>is_free</th>\n",
       "      <th>dlc</th>\n",
       "      <th>developers</th>\n",
       "      <th>publishers</th>\n",
       "      <th>categories</th>\n",
       "      <th>release_date</th>\n",
       "      <th>controller_support</th>\n",
       "      <th>price_overview</th>\n",
       "      <th>windows</th>\n",
       "      <th>mac</th>\n",
       "      <th>linux</th>\n",
       "      <th>metacritic_score</th>\n",
       "      <th>metacritic_url</th>\n",
       "    </tr>\n",
       "  </thead>\n",
       "  <tbody>\n",
       "    <tr>\n",
       "      <th>0</th>\n",
       "      <td>game</td>\n",
       "      <td>Dota 2</td>\n",
       "      <td>570</td>\n",
       "      <td>0</td>\n",
       "      <td>True</td>\n",
       "      <td>[1241930, 652720]</td>\n",
       "      <td>['Valve']</td>\n",
       "      <td>['Valve']</td>\n",
       "      <td>[{'id': 1, 'description': 'Multi-player'}, {'id': 9, 'description': 'Co-op'}, {'id': 29, 'description': 'Steam Trading Cards'}, {'id': 30, 'description': 'Steam Workshop'}, {'id': 40, 'description...</td>\n",
       "      <td>{'coming_soon': False, 'date': '9 Jul, 2013'}</td>\n",
       "      <td>NaN</td>\n",
       "      <td>NaN</td>\n",
       "      <td>1</td>\n",
       "      <td>1</td>\n",
       "      <td>1</td>\n",
       "      <td>90.0</td>\n",
       "      <td>https://www.metacritic.com/game/pc/dota-2?ftag=MCD-06-10aaa1f</td>\n",
       "    </tr>\n",
       "  </tbody>\n",
       "</table>\n",
       "</div>"
      ],
      "text/plain": [
       "   type    name  steam_appid  required_age is_free                dlc  \\\n",
       "0  game  Dota 2          570             0    True  [1241930, 652720]   \n",
       "\n",
       "  developers publishers  \\\n",
       "0  ['Valve']  ['Valve']   \n",
       "\n",
       "                                                                                                                                                                                                categories  \\\n",
       "0  [{'id': 1, 'description': 'Multi-player'}, {'id': 9, 'description': 'Co-op'}, {'id': 29, 'description': 'Steam Trading Cards'}, {'id': 30, 'description': 'Steam Workshop'}, {'id': 40, 'description...   \n",
       "\n",
       "                                    release_date controller_support  \\\n",
       "0  {'coming_soon': False, 'date': '9 Jul, 2013'}                NaN   \n",
       "\n",
       "  price_overview  windows  mac  linux  metacritic_score  \\\n",
       "0            NaN        1    1      1              90.0   \n",
       "\n",
       "                                                  metacritic_url  \n",
       "0  https://www.metacritic.com/game/pc/dota-2?ftag=MCD-06-10aaa1f  "
      ]
     },
     "execution_count": 83,
     "metadata": {},
     "output_type": "execute_result"
    }
   ],
   "source": [
    "df.drop(['metacritic'], axis=1, inplace=True)\n",
    "df.loc[[0]]"
   ]
  },
  {
   "cell_type": "code",
   "execution_count": null,
   "metadata": {},
   "outputs": [],
   "source": []
  },
  {
   "cell_type": "markdown",
   "metadata": {},
   "source": [
    "#### categories"
   ]
  },
  {
   "cell_type": "code",
   "execution_count": 84,
   "metadata": {},
   "outputs": [
    {
     "data": {
      "text/plain": [
       "{1: {'Multi-player', 'Multijoueur', 'Multijugador'},\n",
       " 9: {'Co-op', 'Cooperativos', 'Coopération'},\n",
       " 29: {'Cartes à échanger Steam', 'Cromos de Steam', 'Steam Trading Cards'},\n",
       " 30: {'Steam Workshop', 'Workshop Steam', 'Мастерская Steam'},\n",
       " 40: {'SteamVR Collectibles'},\n",
       " 35: {'Compras dentro de la aplicación', 'In-App Purchases'},\n",
       " 8: {'Antitriche Valve activée',\n",
       "  'Con sist. antitrampas de Valve',\n",
       "  'Valve Anti-Cheat enabled'},\n",
       " 22: {'Logros de Steam',\n",
       "  'Steam Achievements',\n",
       "  'Steam-Errungenschaften',\n",
       "  'Достижения Steam'},\n",
       " 28: {'Compat. total con control',\n",
       "  'Compat. total con mando',\n",
       "  'Full controller support',\n",
       "  'Контроллер (полностью)'},\n",
       " 15: {'Estadísticas', 'Stats'},\n",
       " 41: {'Remote Play on Phone', 'Remote Play para móviles'},\n",
       " 42: {'Remote Play on Tablet', 'Remote Play para tabletas'},\n",
       " 43: {'Remote Play on TV', 'Remote Play para TV'},\n",
       " 49: {'JcJ', 'PvP'},\n",
       " 36: {'JcJ en ligne', 'JcJ en línea', 'Online PvP'},\n",
       " 38: {'Cooperativos en línea', 'Coopération en ligne', 'Online Co-op'},\n",
       " 20: {'MMO'},\n",
       " 27: {'Cross-Platform Multiplayer'},\n",
       " 13: {'Captions available'},\n",
       " 18: {'Compat. contrôleurs partielle',\n",
       "  'Compat. parcial con mando',\n",
       "  'Partial Controller Support'},\n",
       " 17: {'Includes level editor',\n",
       "  'Incluye editor de niveles',\n",
       "  'Включает редактор уровней'},\n",
       " 14: {'Commentary available'},\n",
       " 2: {'Einzelspieler',\n",
       "  'Single-player',\n",
       "  'Solo',\n",
       "  'Un jugador',\n",
       "  'Для одного игрока'},\n",
       " 47: {'LAN PvP'},\n",
       " 48: {'LAN Co-op'},\n",
       " 23: {'Steam Cloud'},\n",
       " 16: {'Includes Source SDK'},\n",
       " 44: {'Remote Play Together'},\n",
       " 37: {'Shared/Split Screen PvP'},\n",
       " 39: {'Shared/Split Screen Co-op'},\n",
       " 24: {'Shared/Split Screen'},\n",
       " 53: {'Compatible con la RV', 'VR Supported'},\n",
       " 51: {'Steam Workshop'},\n",
       " 52: {'Tracked Controller Support'},\n",
       " 25: {'Marcadores de Steam', 'Steam Leaderboards'},\n",
       " 31: {'VR Support'},\n",
       " 32: {'Steam Turn Notifications'},\n",
       " 54: {'VR Only'},\n",
       " 19: {'Mods'},\n",
       " 6: {'Mods (require HL2)'}}"
      ]
     },
     "execution_count": 84,
     "metadata": {},
     "output_type": "execute_result"
    }
   ],
   "source": [
    "dic = {}\n",
    "for arr in df['categories'].values:\n",
    "    if type(arr) == str:\n",
    "        arr = eval(arr)\n",
    "        for data in arr:\n",
    "            if data[\"id\"] not in dic.keys():\n",
    "                dic[data[\"id\"]] = set([data['description']])\n",
    "            else:\n",
    "                dic[data[\"id\"]].add(data['description'])\n",
    "\n",
    "dic"
   ]
  },
  {
   "cell_type": "code",
   "execution_count": 85,
   "metadata": {},
   "outputs": [],
   "source": [
    "mapping = {1: 'Multi-player',\n",
    " 9: 'Co-op',\n",
    " 29: 'Steam Trading Cards',\n",
    " 30: 'Steam Workshop',\n",
    " 40: 'SteamVR Collectibles',\n",
    " 35: 'In-App Purchases',\n",
    " 8: 'Valve Anti-Cheat enabled',\n",
    " 22: 'Steam Achievements',\n",
    " 28: 'Full controller support',\n",
    " 15: 'Stats',\n",
    " 41: 'Remote Play on Phone',\n",
    " 42: 'Remote Play on Tablet',\n",
    " 43: 'Remote Play on TV',\n",
    " 49: 'PvP', \n",
    " 36: 'Online PvP',\n",
    " 38: 'Online Co-op', \n",
    " 20: 'MMO',\n",
    " 27: 'Cross-Platform Multiplayer', \n",
    " 13: 'Captions available', \n",
    " 18: 'Partial Controller Support',\n",
    " 17: 'Includes level editor',\n",
    " 14: 'Commentary available',\n",
    " 2: 'Single-player',\n",
    " 47: 'LAN PvP',\n",
    " 48: 'LAN Co-op',\n",
    " 23: 'Steam Cloud',\n",
    " 16: 'Includes Source SDK',\n",
    " 44: 'Remote Play Together',\n",
    " 37: 'Shared/Split Screen PvP',\n",
    " 39: 'Shared/Split Screen Co-op',\n",
    " 24: 'Shared/Split Screen', \n",
    " 53: 'VR Supported',\n",
    " 51: 'Steam Workshop',\n",
    " 52: 'Tracked Controller Support',\n",
    " 25: 'Steam Leaderboards',\n",
    " 31: 'VR Support',\n",
    " 32: 'Steam Turn Notifications',\n",
    " 54: 'Solo RV',\n",
    " 19: 'Mods',\n",
    " 6: 'Mods (require HL2)',\n",
    " 10: 'Game demo',\n",
    " 21: 'Downloadable Content',\n",
    " 50: 'Additional High-Quality Audio',\n",
    " 33: 'Native Steam Controller Support',\n",
    " 0: 'No Category'}"
   ]
  },
  {
   "cell_type": "code",
   "execution_count": 86,
   "metadata": {},
   "outputs": [
    {
     "data": {
      "text/html": [
       "<div>\n",
       "<style scoped>\n",
       "    .dataframe tbody tr th:only-of-type {\n",
       "        vertical-align: middle;\n",
       "    }\n",
       "\n",
       "    .dataframe tbody tr th {\n",
       "        vertical-align: top;\n",
       "    }\n",
       "\n",
       "    .dataframe thead th {\n",
       "        text-align: right;\n",
       "    }\n",
       "</style>\n",
       "<table border=\"1\" class=\"dataframe\">\n",
       "  <thead>\n",
       "    <tr style=\"text-align: right;\">\n",
       "      <th></th>\n",
       "      <th>type</th>\n",
       "      <th>name</th>\n",
       "      <th>steam_appid</th>\n",
       "      <th>required_age</th>\n",
       "      <th>is_free</th>\n",
       "      <th>dlc</th>\n",
       "      <th>developers</th>\n",
       "      <th>publishers</th>\n",
       "      <th>categories</th>\n",
       "      <th>release_date</th>\n",
       "      <th>controller_support</th>\n",
       "      <th>price_overview</th>\n",
       "      <th>windows</th>\n",
       "      <th>mac</th>\n",
       "      <th>linux</th>\n",
       "      <th>metacritic_score</th>\n",
       "      <th>metacritic_url</th>\n",
       "    </tr>\n",
       "  </thead>\n",
       "  <tbody>\n",
       "    <tr>\n",
       "      <th>0</th>\n",
       "      <td>game</td>\n",
       "      <td>Dota 2</td>\n",
       "      <td>570</td>\n",
       "      <td>0</td>\n",
       "      <td>True</td>\n",
       "      <td>[1241930, 652720]</td>\n",
       "      <td>['Valve']</td>\n",
       "      <td>['Valve']</td>\n",
       "      <td>[Multi-player, Co-op, Steam Trading Cards, Steam Workshop, SteamVR Collectibles, In-App Purchases, Valve Anti-Cheat enabled]</td>\n",
       "      <td>{'coming_soon': False, 'date': '9 Jul, 2013'}</td>\n",
       "      <td>NaN</td>\n",
       "      <td>NaN</td>\n",
       "      <td>1</td>\n",
       "      <td>1</td>\n",
       "      <td>1</td>\n",
       "      <td>90.0</td>\n",
       "      <td>https://www.metacritic.com/game/pc/dota-2?ftag=MCD-06-10aaa1f</td>\n",
       "    </tr>\n",
       "  </tbody>\n",
       "</table>\n",
       "</div>"
      ],
      "text/plain": [
       "   type    name  steam_appid  required_age is_free                dlc  \\\n",
       "0  game  Dota 2          570             0    True  [1241930, 652720]   \n",
       "\n",
       "  developers publishers  \\\n",
       "0  ['Valve']  ['Valve']   \n",
       "\n",
       "                                                                                                                     categories  \\\n",
       "0  [Multi-player, Co-op, Steam Trading Cards, Steam Workshop, SteamVR Collectibles, In-App Purchases, Valve Anti-Cheat enabled]   \n",
       "\n",
       "                                    release_date controller_support  \\\n",
       "0  {'coming_soon': False, 'date': '9 Jul, 2013'}                NaN   \n",
       "\n",
       "  price_overview  windows  mac  linux  metacritic_score  \\\n",
       "0            NaN        1    1      1              90.0   \n",
       "\n",
       "                                                  metacritic_url  \n",
       "0  https://www.metacritic.com/game/pc/dota-2?ftag=MCD-06-10aaa1f  "
      ]
     },
     "execution_count": 86,
     "metadata": {},
     "output_type": "execute_result"
    }
   ],
   "source": [
    "# Replace categories with their ID\n",
    "df['categories'] = df['categories'].apply(lambda x: [dic['id'] for dic in (eval(x) if type((x)) == str else [{\"id\":\"0\"}])])\n",
    "\n",
    "# Map the genre values to genre names using the mapping dictionary\n",
    "df['categories'] = df['categories'].apply(lambda x: [mapping.get(i) for i in x])\n",
    "\n",
    "df.loc[[0]]"
   ]
  },
  {
   "cell_type": "markdown",
   "metadata": {},
   "source": [
    "### release_date"
   ]
  },
  {
   "cell_type": "code",
   "execution_count": 87,
   "metadata": {},
   "outputs": [],
   "source": [
    "df['release_date'] = df['release_date'].apply(lambda x: eval(x) if type(x) == str else x)"
   ]
  },
  {
   "cell_type": "code",
   "execution_count": 88,
   "metadata": {},
   "outputs": [
    {
     "data": {
      "text/plain": [
       "118"
      ]
     },
     "execution_count": 88,
     "metadata": {},
     "output_type": "execute_result"
    }
   ],
   "source": [
    "# Number of unreleased games\n",
    "temp = df[~df['release_date'].isnull()]\n",
    "len(temp[temp['release_date'].apply(lambda x: x['coming_soon'])])"
   ]
  },
  {
   "cell_type": "code",
   "execution_count": 89,
   "metadata": {},
   "outputs": [
    {
     "data": {
      "text/plain": [
       "9244         {'coming_soon': True, 'date': 'Coming soon'}\n",
       "25858        {'coming_soon': True, 'date': 'Coming soon'}\n",
       "27804        {'coming_soon': True, 'date': 'Coming soon'}\n",
       "31507      {'coming_soon': True, 'date': 'December 2024'}\n",
       "33572    {'coming_soon': True, 'date': 'To be announced'}\n",
       "                               ...                       \n",
       "61629       {'coming_soon': True, 'date': '28 Sep, 2023'}\n",
       "61631        {'coming_soon': True, 'date': 'Coming soon'}\n",
       "61633        {'coming_soon': True, 'date': 'Coming soon'}\n",
       "61635        {'coming_soon': True, 'date': 'Coming soon'}\n",
       "61637        {'coming_soon': True, 'date': 'Coming soon'}\n",
       "Name: release_date, Length: 118, dtype: object"
      ]
     },
     "execution_count": 89,
     "metadata": {},
     "output_type": "execute_result"
    }
   ],
   "source": [
    "temp[temp['release_date'].apply(lambda x: x['coming_soon'])]['release_date']"
   ]
  },
  {
   "cell_type": "code",
   "execution_count": 90,
   "metadata": {},
   "outputs": [],
   "source": [
    "# Only keep released games\n",
    "df['coming_soon'] = df['release_date'].apply(lambda x: x['coming_soon'])\n",
    "df = df[~df['coming_soon']].copy()\n",
    "\n",
    "# Remove those with blank string \n",
    "df['release_date'] = df['release_date'].apply(lambda x: x['date'])\n",
    "df = df[df['release_date'] != '']"
   ]
  },
  {
   "cell_type": "code",
   "execution_count": 91,
   "metadata": {},
   "outputs": [
    {
     "name": "stdout",
     "output_type": "stream",
     "text": [
      "0\n"
     ]
    },
    {
     "data": {
      "text/html": [
       "<div>\n",
       "<style scoped>\n",
       "    .dataframe tbody tr th:only-of-type {\n",
       "        vertical-align: middle;\n",
       "    }\n",
       "\n",
       "    .dataframe tbody tr th {\n",
       "        vertical-align: top;\n",
       "    }\n",
       "\n",
       "    .dataframe thead th {\n",
       "        text-align: right;\n",
       "    }\n",
       "</style>\n",
       "<table border=\"1\" class=\"dataframe\">\n",
       "  <thead>\n",
       "    <tr style=\"text-align: right;\">\n",
       "      <th></th>\n",
       "      <th>type</th>\n",
       "      <th>name</th>\n",
       "      <th>steam_appid</th>\n",
       "      <th>required_age</th>\n",
       "      <th>is_free</th>\n",
       "      <th>dlc</th>\n",
       "      <th>developers</th>\n",
       "      <th>publishers</th>\n",
       "      <th>categories</th>\n",
       "      <th>release_date</th>\n",
       "      <th>controller_support</th>\n",
       "      <th>price_overview</th>\n",
       "      <th>windows</th>\n",
       "      <th>mac</th>\n",
       "      <th>linux</th>\n",
       "      <th>metacritic_score</th>\n",
       "      <th>metacritic_url</th>\n",
       "      <th>coming_soon</th>\n",
       "    </tr>\n",
       "  </thead>\n",
       "  <tbody>\n",
       "    <tr>\n",
       "      <th>0</th>\n",
       "      <td>game</td>\n",
       "      <td>Dota 2</td>\n",
       "      <td>570</td>\n",
       "      <td>0</td>\n",
       "      <td>True</td>\n",
       "      <td>[1241930, 652720]</td>\n",
       "      <td>['Valve']</td>\n",
       "      <td>['Valve']</td>\n",
       "      <td>[Multi-player, Co-op, Steam Trading Cards, Steam Workshop, SteamVR Collectibles, In-App Purchases, Valve Anti-Cheat enabled]</td>\n",
       "      <td>2013-07-09</td>\n",
       "      <td>NaN</td>\n",
       "      <td>NaN</td>\n",
       "      <td>1</td>\n",
       "      <td>1</td>\n",
       "      <td>1</td>\n",
       "      <td>90.0</td>\n",
       "      <td>https://www.metacritic.com/game/pc/dota-2?ftag=MCD-06-10aaa1f</td>\n",
       "      <td>False</td>\n",
       "    </tr>\n",
       "  </tbody>\n",
       "</table>\n",
       "</div>"
      ],
      "text/plain": [
       "   type    name  steam_appid  required_age is_free                dlc  \\\n",
       "0  game  Dota 2          570             0    True  [1241930, 652720]   \n",
       "\n",
       "  developers publishers  \\\n",
       "0  ['Valve']  ['Valve']   \n",
       "\n",
       "                                                                                                                     categories  \\\n",
       "0  [Multi-player, Co-op, Steam Trading Cards, Steam Workshop, SteamVR Collectibles, In-App Purchases, Valve Anti-Cheat enabled]   \n",
       "\n",
       "  release_date controller_support price_overview  windows  mac  linux  \\\n",
       "0   2013-07-09                NaN            NaN        1    1      1   \n",
       "\n",
       "   metacritic_score  \\\n",
       "0              90.0   \n",
       "\n",
       "                                                  metacritic_url  coming_soon  \n",
       "0  https://www.metacritic.com/game/pc/dota-2?ftag=MCD-06-10aaa1f        False  "
      ]
     },
     "execution_count": 91,
     "metadata": {},
     "output_type": "execute_result"
    }
   ],
   "source": [
    "# Format all dates to datetime format\n",
    "to_remove = ['21 AGO 2012', '9 DIC 2020', '25 AGO 2014']\n",
    "df = df[~df['release_date'].isin(to_remove)]\n",
    "\n",
    "df['datetime'] = pd.to_datetime(df['release_date'], format='%d %b, %Y', errors='coerce').fillna(\n",
    "    pd.to_datetime(df['release_date'], format='%d %b %Y', errors=\"coerce\")).fillna(\n",
    "    pd.to_datetime(df['release_date'], format='%b %Y', errors=\"coerce\")).fillna(\n",
    "    pd.to_datetime(df['release_date'], format='%b %d, %Y', errors=\"coerce\")).fillna(\n",
    "    pd.to_datetime(df['release_date'], format='%Y年%m月%d日', errors=\"coerce\"))\n",
    "\n",
    "# Does not have a format we can input into to_datetime\n",
    "rep = {'déc.':'Dec', 'sept.': 'Sep', 'ENE': 'Jan', 'сен.': 'Sep', 'окт.': 'Oct', '. Juli': ' Jul'}\n",
    "def replace_month(s):\n",
    "    for key in rep:\n",
    "        if key in s:\n",
    "            return s.replace(key, rep[key])\n",
    "    return s\n",
    "\n",
    "df['release_date'][df['datetime'].isnull()] = df['release_date'][df['datetime'].isnull()].apply(lambda x: replace_month(x))\n",
    "\n",
    "df['datetime'] = df['datetime'].fillna(pd.to_datetime(df['release_date'], format='%d %b %Y', errors='coerce'))\n",
    "print(df['datetime'].isnull().sum())\n",
    "\n",
    "df['release_date'] = df['datetime']\n",
    "df.drop(['datetime'], axis=1, inplace=True)\n",
    "df.loc[[0]]"
   ]
  },
  {
   "cell_type": "markdown",
   "metadata": {},
   "source": [
    "### controller_support"
   ]
  },
  {
   "cell_type": "code",
   "execution_count": 92,
   "metadata": {},
   "outputs": [
    {
     "data": {
      "text/plain": [
       "array([nan, 'full'], dtype=object)"
      ]
     },
     "execution_count": 92,
     "metadata": {},
     "output_type": "execute_result"
    }
   ],
   "source": [
    "df['controller_support'].unique()"
   ]
  },
  {
   "cell_type": "code",
   "execution_count": 93,
   "metadata": {},
   "outputs": [
    {
     "data": {
      "text/html": [
       "<div>\n",
       "<style scoped>\n",
       "    .dataframe tbody tr th:only-of-type {\n",
       "        vertical-align: middle;\n",
       "    }\n",
       "\n",
       "    .dataframe tbody tr th {\n",
       "        vertical-align: top;\n",
       "    }\n",
       "\n",
       "    .dataframe thead th {\n",
       "        text-align: right;\n",
       "    }\n",
       "</style>\n",
       "<table border=\"1\" class=\"dataframe\">\n",
       "  <thead>\n",
       "    <tr style=\"text-align: right;\">\n",
       "      <th></th>\n",
       "      <th>type</th>\n",
       "      <th>name</th>\n",
       "      <th>steam_appid</th>\n",
       "      <th>required_age</th>\n",
       "      <th>is_free</th>\n",
       "      <th>dlc</th>\n",
       "      <th>developers</th>\n",
       "      <th>publishers</th>\n",
       "      <th>categories</th>\n",
       "      <th>release_date</th>\n",
       "      <th>controller_support</th>\n",
       "      <th>price_overview</th>\n",
       "      <th>windows</th>\n",
       "      <th>mac</th>\n",
       "      <th>linux</th>\n",
       "      <th>metacritic_score</th>\n",
       "      <th>metacritic_url</th>\n",
       "      <th>coming_soon</th>\n",
       "    </tr>\n",
       "  </thead>\n",
       "  <tbody>\n",
       "    <tr>\n",
       "      <th>0</th>\n",
       "      <td>game</td>\n",
       "      <td>Dota 2</td>\n",
       "      <td>570</td>\n",
       "      <td>0</td>\n",
       "      <td>True</td>\n",
       "      <td>[1241930, 652720]</td>\n",
       "      <td>['Valve']</td>\n",
       "      <td>['Valve']</td>\n",
       "      <td>[Multi-player, Co-op, Steam Trading Cards, Steam Workshop, SteamVR Collectibles, In-App Purchases, Valve Anti-Cheat enabled]</td>\n",
       "      <td>2013-07-09</td>\n",
       "      <td>0</td>\n",
       "      <td>NaN</td>\n",
       "      <td>1</td>\n",
       "      <td>1</td>\n",
       "      <td>1</td>\n",
       "      <td>90.0</td>\n",
       "      <td>https://www.metacritic.com/game/pc/dota-2?ftag=MCD-06-10aaa1f</td>\n",
       "      <td>False</td>\n",
       "    </tr>\n",
       "  </tbody>\n",
       "</table>\n",
       "</div>"
      ],
      "text/plain": [
       "   type    name  steam_appid  required_age is_free                dlc  \\\n",
       "0  game  Dota 2          570             0    True  [1241930, 652720]   \n",
       "\n",
       "  developers publishers  \\\n",
       "0  ['Valve']  ['Valve']   \n",
       "\n",
       "                                                                                                                     categories  \\\n",
       "0  [Multi-player, Co-op, Steam Trading Cards, Steam Workshop, SteamVR Collectibles, In-App Purchases, Valve Anti-Cheat enabled]   \n",
       "\n",
       "  release_date  controller_support price_overview  windows  mac  linux  \\\n",
       "0   2013-07-09                   0            NaN        1    1      1   \n",
       "\n",
       "   metacritic_score  \\\n",
       "0              90.0   \n",
       "\n",
       "                                                  metacritic_url  coming_soon  \n",
       "0  https://www.metacritic.com/game/pc/dota-2?ftag=MCD-06-10aaa1f        False  "
      ]
     },
     "execution_count": 93,
     "metadata": {},
     "output_type": "execute_result"
    }
   ],
   "source": [
    "# Replace \"full\" with 1 and nan with 0\n",
    "df['controller_support'] = df['controller_support'].apply(lambda x: 1 if not pd.isnull(x) else 0)\n",
    "\n",
    "df.loc[[0]]"
   ]
  },
  {
   "cell_type": "markdown",
   "metadata": {},
   "source": [
    "### price_overview"
   ]
  },
  {
   "cell_type": "code",
   "execution_count": 94,
   "metadata": {},
   "outputs": [
    {
     "data": {
      "text/plain": [
       "0                                                                                                                                          NaN\n",
       "2                                                                                                                                          NaN\n",
       "3                                                                                                                                          NaN\n",
       "4    {'currency': 'SGD', 'initial': 3400, 'final': 1700, 'discount_percent': 50, 'initial_formatted': 'S$34.00', 'final_formatted': 'S$17.00'}\n",
       "5                                                                                                                                          NaN\n",
       "Name: price_overview, dtype: object"
      ]
     },
     "execution_count": 94,
     "metadata": {},
     "output_type": "execute_result"
    }
   ],
   "source": [
    "df['price_overview'] = df['price_overview'].apply(lambda x: eval(x) if type(x) == str else x)\n",
    "df['price_overview'][:5]"
   ]
  },
  {
   "cell_type": "code",
   "execution_count": 95,
   "metadata": {},
   "outputs": [
    {
     "data": {
      "text/html": [
       "<div>\n",
       "<style scoped>\n",
       "    .dataframe tbody tr th:only-of-type {\n",
       "        vertical-align: middle;\n",
       "    }\n",
       "\n",
       "    .dataframe tbody tr th {\n",
       "        vertical-align: top;\n",
       "    }\n",
       "\n",
       "    .dataframe thead th {\n",
       "        text-align: right;\n",
       "    }\n",
       "</style>\n",
       "<table border=\"1\" class=\"dataframe\">\n",
       "  <thead>\n",
       "    <tr style=\"text-align: right;\">\n",
       "      <th></th>\n",
       "      <th>type</th>\n",
       "      <th>name</th>\n",
       "      <th>steam_appid</th>\n",
       "      <th>required_age</th>\n",
       "      <th>is_free</th>\n",
       "      <th>dlc</th>\n",
       "      <th>developers</th>\n",
       "      <th>publishers</th>\n",
       "      <th>categories</th>\n",
       "      <th>release_date</th>\n",
       "      <th>controller_support</th>\n",
       "      <th>price_overview</th>\n",
       "      <th>windows</th>\n",
       "      <th>mac</th>\n",
       "      <th>linux</th>\n",
       "      <th>metacritic_score</th>\n",
       "      <th>metacritic_url</th>\n",
       "      <th>coming_soon</th>\n",
       "    </tr>\n",
       "  </thead>\n",
       "  <tbody>\n",
       "  </tbody>\n",
       "</table>\n",
       "</div>"
      ],
      "text/plain": [
       "Empty DataFrame\n",
       "Columns: [type, name, steam_appid, required_age, is_free, dlc, developers, publishers, categories, release_date, controller_support, price_overview, windows, mac, linux, metacritic_score, metacritic_url, coming_soon]\n",
       "Index: []"
      ]
     },
     "execution_count": 95,
     "metadata": {},
     "output_type": "execute_result"
    }
   ],
   "source": [
    "# Replace NaN with default dicts (impute after train test split)\n",
    "fix_index = df[df['price_overview'].isnull()].index\n",
    "lst = []\n",
    "for value in df['price_overview']:\n",
    "    if type(value) == dict:\n",
    "        lst.append(value)\n",
    "    else:\n",
    "        lst.append({\n",
    "            'currency': '', \n",
    "            'initial': None, \n",
    "            'final': None, \n",
    "            'discount_percent':None, \n",
    "        })\n",
    "df['price_overview'] = lst\n",
    "df[df['price_overview'].isnull()]"
   ]
  },
  {
   "cell_type": "code",
   "execution_count": 96,
   "metadata": {},
   "outputs": [],
   "source": [
    "df['currency'] = df['price_overview'].apply(lambda x: x['currency'])\n",
    "df['initial'] = df['price_overview'].apply(lambda x: x['initial'])\n",
    "df['final'] = df['price_overview'].apply(lambda x: x['final'])\n",
    "df['discount_percent'] = df['price_overview'].apply(lambda x: x['discount_percent'])"
   ]
  },
  {
   "cell_type": "code",
   "execution_count": 97,
   "metadata": {},
   "outputs": [],
   "source": [
    "# pip install currencyconverter"
   ]
  },
  {
   "cell_type": "code",
   "execution_count": 98,
   "metadata": {},
   "outputs": [
    {
     "data": {
      "text/html": [
       "<div>\n",
       "<style scoped>\n",
       "    .dataframe tbody tr th:only-of-type {\n",
       "        vertical-align: middle;\n",
       "    }\n",
       "\n",
       "    .dataframe tbody tr th {\n",
       "        vertical-align: top;\n",
       "    }\n",
       "\n",
       "    .dataframe thead th {\n",
       "        text-align: right;\n",
       "    }\n",
       "</style>\n",
       "<table border=\"1\" class=\"dataframe\">\n",
       "  <thead>\n",
       "    <tr style=\"text-align: right;\">\n",
       "      <th></th>\n",
       "      <th>type</th>\n",
       "      <th>name</th>\n",
       "      <th>steam_appid</th>\n",
       "      <th>required_age</th>\n",
       "      <th>is_free</th>\n",
       "      <th>dlc</th>\n",
       "      <th>developers</th>\n",
       "      <th>publishers</th>\n",
       "      <th>categories</th>\n",
       "      <th>release_date</th>\n",
       "      <th>controller_support</th>\n",
       "      <th>price_overview</th>\n",
       "      <th>windows</th>\n",
       "      <th>mac</th>\n",
       "      <th>linux</th>\n",
       "      <th>metacritic_score</th>\n",
       "      <th>metacritic_url</th>\n",
       "      <th>coming_soon</th>\n",
       "      <th>currency</th>\n",
       "      <th>initial</th>\n",
       "      <th>final</th>\n",
       "      <th>discount_percent</th>\n",
       "    </tr>\n",
       "  </thead>\n",
       "  <tbody>\n",
       "    <tr>\n",
       "      <th>0</th>\n",
       "      <td>game</td>\n",
       "      <td>Dota 2</td>\n",
       "      <td>570</td>\n",
       "      <td>0</td>\n",
       "      <td>True</td>\n",
       "      <td>[1241930, 652720]</td>\n",
       "      <td>['Valve']</td>\n",
       "      <td>['Valve']</td>\n",
       "      <td>[Multi-player, Co-op, Steam Trading Cards, Steam Workshop, SteamVR Collectibles, In-App Purchases, Valve Anti-Cheat enabled]</td>\n",
       "      <td>2013-07-09</td>\n",
       "      <td>0</td>\n",
       "      <td>{'currency': '', 'initial': None, 'final': None, 'discount_percent': None}</td>\n",
       "      <td>1</td>\n",
       "      <td>1</td>\n",
       "      <td>1</td>\n",
       "      <td>90.0</td>\n",
       "      <td>https://www.metacritic.com/game/pc/dota-2?ftag=MCD-06-10aaa1f</td>\n",
       "      <td>False</td>\n",
       "      <td></td>\n",
       "      <td>NaN</td>\n",
       "      <td>NaN</td>\n",
       "      <td>NaN</td>\n",
       "    </tr>\n",
       "  </tbody>\n",
       "</table>\n",
       "</div>"
      ],
      "text/plain": [
       "   type    name  steam_appid  required_age is_free                dlc  \\\n",
       "0  game  Dota 2          570             0    True  [1241930, 652720]   \n",
       "\n",
       "  developers publishers  \\\n",
       "0  ['Valve']  ['Valve']   \n",
       "\n",
       "                                                                                                                     categories  \\\n",
       "0  [Multi-player, Co-op, Steam Trading Cards, Steam Workshop, SteamVR Collectibles, In-App Purchases, Valve Anti-Cheat enabled]   \n",
       "\n",
       "  release_date  controller_support  \\\n",
       "0   2013-07-09                   0   \n",
       "\n",
       "                                                               price_overview  \\\n",
       "0  {'currency': '', 'initial': None, 'final': None, 'discount_percent': None}   \n",
       "\n",
       "   windows  mac  linux  metacritic_score  \\\n",
       "0        1    1      1              90.0   \n",
       "\n",
       "                                                  metacritic_url  coming_soon  \\\n",
       "0  https://www.metacritic.com/game/pc/dota-2?ftag=MCD-06-10aaa1f        False   \n",
       "\n",
       "  currency  initial  final  discount_percent  \n",
       "0               NaN    NaN               NaN  "
      ]
     },
     "execution_count": 98,
     "metadata": {},
     "output_type": "execute_result"
    }
   ],
   "source": [
    "# Convert initial and final price to USD using release date for non-empty rows\n",
    "from currency_converter import CurrencyConverter\n",
    "c = CurrencyConverter(fallback_on_missing_rate=True, fallback_on_wrong_date=True)\n",
    "list_currencies = list(c.currencies)\n",
    "\n",
    "def convert(x, money_var):\n",
    "    if x['currency'] in list_currencies:\n",
    "        return c.convert(x[money_var], x['currency'], 'USD', x['release_date'])\n",
    "    else:\n",
    "        return None\n",
    "\n",
    "df['initial'] = df.apply(lambda x: convert(x, 'initial'), axis=1)\n",
    "df['final'] = df.apply(lambda x: convert(x, 'final'), axis=1)\n",
    "\n",
    "df.loc[[0]]\n"
   ]
  },
  {
   "cell_type": "code",
   "execution_count": 99,
   "metadata": {},
   "outputs": [
    {
     "data": {
      "text/html": [
       "<div>\n",
       "<style scoped>\n",
       "    .dataframe tbody tr th:only-of-type {\n",
       "        vertical-align: middle;\n",
       "    }\n",
       "\n",
       "    .dataframe tbody tr th {\n",
       "        vertical-align: top;\n",
       "    }\n",
       "\n",
       "    .dataframe thead th {\n",
       "        text-align: right;\n",
       "    }\n",
       "</style>\n",
       "<table border=\"1\" class=\"dataframe\">\n",
       "  <thead>\n",
       "    <tr style=\"text-align: right;\">\n",
       "      <th></th>\n",
       "      <th>type</th>\n",
       "      <th>name</th>\n",
       "      <th>steam_appid</th>\n",
       "      <th>required_age</th>\n",
       "      <th>is_free</th>\n",
       "      <th>dlc</th>\n",
       "      <th>developers</th>\n",
       "      <th>publishers</th>\n",
       "      <th>categories</th>\n",
       "      <th>release_date</th>\n",
       "      <th>controller_support</th>\n",
       "      <th>windows</th>\n",
       "      <th>mac</th>\n",
       "      <th>linux</th>\n",
       "      <th>metacritic_score</th>\n",
       "      <th>metacritic_url</th>\n",
       "      <th>initial</th>\n",
       "      <th>final</th>\n",
       "      <th>discount_percent</th>\n",
       "    </tr>\n",
       "  </thead>\n",
       "  <tbody>\n",
       "    <tr>\n",
       "      <th>0</th>\n",
       "      <td>game</td>\n",
       "      <td>Dota 2</td>\n",
       "      <td>570</td>\n",
       "      <td>0</td>\n",
       "      <td>True</td>\n",
       "      <td>[1241930, 652720]</td>\n",
       "      <td>['Valve']</td>\n",
       "      <td>['Valve']</td>\n",
       "      <td>[Multi-player, Co-op, Steam Trading Cards, Steam Workshop, SteamVR Collectibles, In-App Purchases, Valve Anti-Cheat enabled]</td>\n",
       "      <td>2013-07-09</td>\n",
       "      <td>0</td>\n",
       "      <td>1</td>\n",
       "      <td>1</td>\n",
       "      <td>1</td>\n",
       "      <td>90.0</td>\n",
       "      <td>https://www.metacritic.com/game/pc/dota-2?ftag=MCD-06-10aaa1f</td>\n",
       "      <td>NaN</td>\n",
       "      <td>NaN</td>\n",
       "      <td>NaN</td>\n",
       "    </tr>\n",
       "    <tr>\n",
       "      <th>2</th>\n",
       "      <td>game</td>\n",
       "      <td>Apex Legends™</td>\n",
       "      <td>1172470</td>\n",
       "      <td>0</td>\n",
       "      <td>True</td>\n",
       "      <td>[]</td>\n",
       "      <td>['Respawn Entertainment']</td>\n",
       "      <td>['Electronic Arts']</td>\n",
       "      <td>[Multi-player, PvP, Online PvP, Co-op, Online Co-op, Steam Achievements, Full controller support, Steam Trading Cards, In-App Purchases]</td>\n",
       "      <td>2020-11-04</td>\n",
       "      <td>1</td>\n",
       "      <td>1</td>\n",
       "      <td>0</td>\n",
       "      <td>0</td>\n",
       "      <td>88.0</td>\n",
       "      <td>https://www.metacritic.com/game/pc/apex-legends?ftag=MCD-06-10aaa1f</td>\n",
       "      <td>NaN</td>\n",
       "      <td>NaN</td>\n",
       "      <td>NaN</td>\n",
       "    </tr>\n",
       "    <tr>\n",
       "      <th>3</th>\n",
       "      <td>game</td>\n",
       "      <td>PUBG: BATTLEGROUNDS</td>\n",
       "      <td>578080</td>\n",
       "      <td>0</td>\n",
       "      <td>True</td>\n",
       "      <td>[]</td>\n",
       "      <td>['KRAFTON, Inc.']</td>\n",
       "      <td>['KRAFTON, Inc.']</td>\n",
       "      <td>[Multi-player, PvP, Online PvP, Stats, Remote Play on Phone, Remote Play on Tablet]</td>\n",
       "      <td>2017-12-21</td>\n",
       "      <td>0</td>\n",
       "      <td>1</td>\n",
       "      <td>0</td>\n",
       "      <td>0</td>\n",
       "      <td>NaN</td>\n",
       "      <td>None</td>\n",
       "      <td>NaN</td>\n",
       "      <td>NaN</td>\n",
       "      <td>NaN</td>\n",
       "    </tr>\n",
       "    <tr>\n",
       "      <th>4</th>\n",
       "      <td>game</td>\n",
       "      <td>New World</td>\n",
       "      <td>1063730</td>\n",
       "      <td>0</td>\n",
       "      <td>False</td>\n",
       "      <td>[]</td>\n",
       "      <td>['Amazon Games']</td>\n",
       "      <td>['Amazon Games']</td>\n",
       "      <td>[Multi-player, MMO, PvP, Online PvP, Co-op, Online Co-op, Steam Achievements, In-App Purchases]</td>\n",
       "      <td>2021-09-28</td>\n",
       "      <td>0</td>\n",
       "      <td>1</td>\n",
       "      <td>0</td>\n",
       "      <td>0</td>\n",
       "      <td>70.0</td>\n",
       "      <td>https://www.metacritic.com/game/pc/new-world?ftag=MCD-06-10aaa1f</td>\n",
       "      <td>2505.692288</td>\n",
       "      <td>1252.846144</td>\n",
       "      <td>50.0</td>\n",
       "    </tr>\n",
       "    <tr>\n",
       "      <th>5</th>\n",
       "      <td>game</td>\n",
       "      <td>Team Fortress 2</td>\n",
       "      <td>440</td>\n",
       "      <td>0</td>\n",
       "      <td>True</td>\n",
       "      <td>[629330]</td>\n",
       "      <td>['Valve']</td>\n",
       "      <td>['Valve']</td>\n",
       "      <td>[Multi-player, Cross-Platform Multiplayer, Steam Achievements, Steam Trading Cards, Captions available, Steam Workshop, In-App Purchases, Partial Controller Support, Valve Anti-Cheat enabled, Stat...</td>\n",
       "      <td>2007-10-10</td>\n",
       "      <td>0</td>\n",
       "      <td>1</td>\n",
       "      <td>1</td>\n",
       "      <td>1</td>\n",
       "      <td>92.0</td>\n",
       "      <td>https://www.metacritic.com/game/pc/team-fortress-2?ftag=MCD-06-10aaa1f</td>\n",
       "      <td>NaN</td>\n",
       "      <td>NaN</td>\n",
       "      <td>NaN</td>\n",
       "    </tr>\n",
       "  </tbody>\n",
       "</table>\n",
       "</div>"
      ],
      "text/plain": [
       "   type                 name  steam_appid  required_age is_free  \\\n",
       "0  game               Dota 2          570             0    True   \n",
       "2  game        Apex Legends™      1172470             0    True   \n",
       "3  game  PUBG: BATTLEGROUNDS       578080             0    True   \n",
       "4  game            New World      1063730             0   False   \n",
       "5  game      Team Fortress 2          440             0    True   \n",
       "\n",
       "                 dlc                 developers           publishers  \\\n",
       "0  [1241930, 652720]                  ['Valve']            ['Valve']   \n",
       "2                 []  ['Respawn Entertainment']  ['Electronic Arts']   \n",
       "3                 []          ['KRAFTON, Inc.']    ['KRAFTON, Inc.']   \n",
       "4                 []           ['Amazon Games']     ['Amazon Games']   \n",
       "5           [629330]                  ['Valve']            ['Valve']   \n",
       "\n",
       "                                                                                                                                                                                                categories  \\\n",
       "0                                                                             [Multi-player, Co-op, Steam Trading Cards, Steam Workshop, SteamVR Collectibles, In-App Purchases, Valve Anti-Cheat enabled]   \n",
       "2                                                                 [Multi-player, PvP, Online PvP, Co-op, Online Co-op, Steam Achievements, Full controller support, Steam Trading Cards, In-App Purchases]   \n",
       "3                                                                                                                      [Multi-player, PvP, Online PvP, Stats, Remote Play on Phone, Remote Play on Tablet]   \n",
       "4                                                                                                          [Multi-player, MMO, PvP, Online PvP, Co-op, Online Co-op, Steam Achievements, In-App Purchases]   \n",
       "5  [Multi-player, Cross-Platform Multiplayer, Steam Achievements, Steam Trading Cards, Captions available, Steam Workshop, In-App Purchases, Partial Controller Support, Valve Anti-Cheat enabled, Stat...   \n",
       "\n",
       "  release_date  controller_support  windows  mac  linux  metacritic_score  \\\n",
       "0   2013-07-09                   0        1    1      1              90.0   \n",
       "2   2020-11-04                   1        1    0      0              88.0   \n",
       "3   2017-12-21                   0        1    0      0               NaN   \n",
       "4   2021-09-28                   0        1    0      0              70.0   \n",
       "5   2007-10-10                   0        1    1      1              92.0   \n",
       "\n",
       "                                                           metacritic_url  \\\n",
       "0           https://www.metacritic.com/game/pc/dota-2?ftag=MCD-06-10aaa1f   \n",
       "2     https://www.metacritic.com/game/pc/apex-legends?ftag=MCD-06-10aaa1f   \n",
       "3                                                                    None   \n",
       "4        https://www.metacritic.com/game/pc/new-world?ftag=MCD-06-10aaa1f   \n",
       "5  https://www.metacritic.com/game/pc/team-fortress-2?ftag=MCD-06-10aaa1f   \n",
       "\n",
       "       initial        final  discount_percent  \n",
       "0          NaN          NaN               NaN  \n",
       "2          NaN          NaN               NaN  \n",
       "3          NaN          NaN               NaN  \n",
       "4  2505.692288  1252.846144              50.0  \n",
       "5          NaN          NaN               NaN  "
      ]
     },
     "execution_count": 99,
     "metadata": {},
     "output_type": "execute_result"
    }
   ],
   "source": [
    "df.drop(['coming_soon', 'currency', 'price_overview'], axis=1, inplace=True)\n",
    "df.head()"
   ]
  },
  {
   "cell_type": "code",
   "execution_count": 100,
   "metadata": {},
   "outputs": [
    {
     "name": "stdout",
     "output_type": "stream",
     "text": [
      "<class 'pandas.core.frame.DataFrame'>\n",
      "Int64Index: 61243 entries, 0 to 61639\n",
      "Data columns (total 19 columns):\n",
      " #   Column              Non-Null Count  Dtype         \n",
      "---  ------              --------------  -----         \n",
      " 0   type                61243 non-null  object        \n",
      " 1   name                61243 non-null  object        \n",
      " 2   steam_appid         61243 non-null  int64         \n",
      " 3   required_age        61243 non-null  int64         \n",
      " 4   is_free             61243 non-null  object        \n",
      " 5   dlc                 61243 non-null  object        \n",
      " 6   developers          61243 non-null  object        \n",
      " 7   publishers          61243 non-null  object        \n",
      " 8   categories          61243 non-null  object        \n",
      " 9   release_date        61243 non-null  datetime64[ns]\n",
      " 10  controller_support  61243 non-null  int64         \n",
      " 11  windows             61243 non-null  int64         \n",
      " 12  mac                 61243 non-null  int64         \n",
      " 13  linux               61243 non-null  int64         \n",
      " 14  metacritic_score    3835 non-null   float64       \n",
      " 15  metacritic_url      3835 non-null   object        \n",
      " 16  initial             52767 non-null  float64       \n",
      " 17  final               52767 non-null  float64       \n",
      " 18  discount_percent    52796 non-null  float64       \n",
      "dtypes: datetime64[ns](1), float64(4), int64(6), object(8)\n",
      "memory usage: 11.4+ MB\n"
     ]
    }
   ],
   "source": [
    "df.info()"
   ]
  },
  {
   "cell_type": "code",
   "execution_count": 101,
   "metadata": {},
   "outputs": [],
   "source": [
    "df.to_csv(\"../Data/steam_store_games_clean.csv\")"
   ]
  },
  {
   "cell_type": "code",
   "execution_count": null,
   "metadata": {},
   "outputs": [],
   "source": []
  }
 ],
 "metadata": {
  "kernelspec": {
   "display_name": "Python 3 (ipykernel)",
   "language": "python",
   "name": "python3"
  },
  "language_info": {
   "codemirror_mode": {
    "name": "ipython",
    "version": 3
   },
   "file_extension": ".py",
   "mimetype": "text/x-python",
   "name": "python",
   "nbconvert_exporter": "python",
   "pygments_lexer": "ipython3",
   "version": "3.9.13"
  },
  "vscode": {
   "interpreter": {
    "hash": "26de051ba29f2982a8de78e945f0abaf191376122a1563185a90213a26c5da77"
   }
  }
 },
 "nbformat": 4,
 "nbformat_minor": 4
}
