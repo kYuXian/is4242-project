{
 "cells": [
  {
   "cell_type": "code",
   "execution_count": 1,
   "metadata": {},
   "outputs": [],
   "source": [
    "import numpy as np\n",
    "import pandas as pd\n",
    "import os\n",
    "pd.set_option('display.max_columns', None)\n",
    "pd.set_option('display.max_colwidth', 200)"
   ]
  },
  {
   "cell_type": "code",
   "execution_count": 2,
   "metadata": {},
   "outputs": [
    {
     "data": {
      "text/html": [
       "<div>\n",
       "<style scoped>\n",
       "    .dataframe tbody tr th:only-of-type {\n",
       "        vertical-align: middle;\n",
       "    }\n",
       "\n",
       "    .dataframe tbody tr th {\n",
       "        vertical-align: top;\n",
       "    }\n",
       "\n",
       "    .dataframe thead th {\n",
       "        text-align: right;\n",
       "    }\n",
       "</style>\n",
       "<table border=\"1\" class=\"dataframe\">\n",
       "  <thead>\n",
       "    <tr style=\"text-align: right;\">\n",
       "      <th></th>\n",
       "      <th>Unnamed: 0</th>\n",
       "      <th>type</th>\n",
       "      <th>name</th>\n",
       "      <th>steam_appid</th>\n",
       "      <th>required_age</th>\n",
       "      <th>is_free</th>\n",
       "      <th>developers</th>\n",
       "      <th>publishers</th>\n",
       "      <th>price_overview</th>\n",
       "      <th>platforms</th>\n",
       "      <th>categories</th>\n",
       "      <th>release_date</th>\n",
       "      <th>controller_support</th>\n",
       "      <th>dlc</th>\n",
       "      <th>metacritic</th>\n",
       "    </tr>\n",
       "  </thead>\n",
       "  <tbody>\n",
       "    <tr>\n",
       "      <th>0</th>\n",
       "      <td>0</td>\n",
       "      <td>music</td>\n",
       "      <td>The Dota 2 Official Soundtrack</td>\n",
       "      <td>1241930</td>\n",
       "      <td>0.0</td>\n",
       "      <td>False</td>\n",
       "      <td>['Valve']</td>\n",
       "      <td>['Valve']</td>\n",
       "      <td>{'currency': 'SGD', 'initial': 1000, 'final': 200, 'discount_percent': 80, 'initial_formatted': 'S$10.00', 'final_formatted': 'S$2.00'}</td>\n",
       "      <td>{'windows': True, 'mac': True, 'linux': True}</td>\n",
       "      <td>[{'id': 50, 'description': 'Additional High-Quality Audio'}]</td>\n",
       "      <td>{'coming_soon': False, 'date': '10 Feb, 2020'}</td>\n",
       "      <td>NaN</td>\n",
       "      <td>NaN</td>\n",
       "      <td>NaN</td>\n",
       "    </tr>\n",
       "    <tr>\n",
       "      <th>1</th>\n",
       "      <td>1</td>\n",
       "      <td>music</td>\n",
       "      <td>The Dota 2 Remixes EP</td>\n",
       "      <td>652720</td>\n",
       "      <td>0.0</td>\n",
       "      <td>True</td>\n",
       "      <td>['Valve']</td>\n",
       "      <td>['Valve']</td>\n",
       "      <td>NaN</td>\n",
       "      <td>{'windows': True, 'mac': True, 'linux': True}</td>\n",
       "      <td>[{'id': 50, 'description': 'Additional High-Quality Audio'}]</td>\n",
       "      <td>{'coming_soon': False, 'date': '10 Feb, 2020'}</td>\n",
       "      <td>NaN</td>\n",
       "      <td>NaN</td>\n",
       "      <td>NaN</td>\n",
       "    </tr>\n",
       "    <tr>\n",
       "      <th>2</th>\n",
       "      <td>2</td>\n",
       "      <td>music</td>\n",
       "      <td>Fight Songs: The Music Of Team Fortress 2</td>\n",
       "      <td>629330</td>\n",
       "      <td>0.0</td>\n",
       "      <td>False</td>\n",
       "      <td>['Valve']</td>\n",
       "      <td>['Valve']</td>\n",
       "      <td>{'currency': 'SGD', 'initial': 1300, 'final': 260, 'discount_percent': 80, 'initial_formatted': 'S$13.00', 'final_formatted': 'S$2.60'}</td>\n",
       "      <td>{'windows': True, 'mac': True, 'linux': True}</td>\n",
       "      <td>[{'id': 50, 'description': 'Additional High-Quality Audio'}]</td>\n",
       "      <td>{'coming_soon': False, 'date': '4 May, 2017'}</td>\n",
       "      <td>NaN</td>\n",
       "      <td>NaN</td>\n",
       "      <td>NaN</td>\n",
       "    </tr>\n",
       "    <tr>\n",
       "      <th>3</th>\n",
       "      <td>3</td>\n",
       "      <td>dlc</td>\n",
       "      <td>Grand Theft Auto V - Criminal Enterprise Starter Pack</td>\n",
       "      <td>771300</td>\n",
       "      <td>0.0</td>\n",
       "      <td>False</td>\n",
       "      <td>['Rockstar North']</td>\n",
       "      <td>['Rockstar Games']</td>\n",
       "      <td>{'currency': 'SGD', 'initial': 1390, 'final': 1390, 'discount_percent': 0, 'initial_formatted': '', 'final_formatted': 'S$13.90'}</td>\n",
       "      <td>{'windows': True, 'mac': False, 'linux': False}</td>\n",
       "      <td>[{'id': 2, 'description': 'Single-player'}, {'id': 1, 'description': 'Multi-player'}, {'id': 21, 'description': 'Downloadable Content'}, {'id': 22, 'description': 'Steam Achievements'}, {'id': 28,...</td>\n",
       "      <td>{'coming_soon': False, 'date': '14 Dec, 2017'}</td>\n",
       "      <td>full</td>\n",
       "      <td>NaN</td>\n",
       "      <td>NaN</td>\n",
       "    </tr>\n",
       "    <tr>\n",
       "      <th>4</th>\n",
       "      <td>4</td>\n",
       "      <td>dlc</td>\n",
       "      <td>Unturned - Permanent Gold Upgrade</td>\n",
       "      <td>306460</td>\n",
       "      <td>0.0</td>\n",
       "      <td>False</td>\n",
       "      <td>['Smartly Dressed Games']</td>\n",
       "      <td>['Smartly Dressed Games']</td>\n",
       "      <td>{'currency': 'SGD', 'initial': 525, 'final': 393, 'discount_percent': 25, 'initial_formatted': 'S$5.25', 'final_formatted': 'S$3.93'}</td>\n",
       "      <td>{'windows': True, 'mac': True, 'linux': True}</td>\n",
       "      <td>[{'id': 2, 'description': 'Single-player'}, {'id': 1, 'description': 'Multi-player'}, {'id': 9, 'description': 'Co-op'}, {'id': 21, 'description': 'Downloadable Content'}, {'id': 22, 'description'...</td>\n",
       "      <td>{'coming_soon': False, 'date': '7 Jul, 2014'}</td>\n",
       "      <td>NaN</td>\n",
       "      <td>NaN</td>\n",
       "      <td>NaN</td>\n",
       "    </tr>\n",
       "  </tbody>\n",
       "</table>\n",
       "</div>"
      ],
      "text/plain": [
       "   Unnamed: 0   type                                                   name  \\\n",
       "0           0  music                         The Dota 2 Official Soundtrack   \n",
       "1           1  music                                  The Dota 2 Remixes EP   \n",
       "2           2  music              Fight Songs: The Music Of Team Fortress 2   \n",
       "3           3    dlc  Grand Theft Auto V - Criminal Enterprise Starter Pack   \n",
       "4           4    dlc                      Unturned - Permanent Gold Upgrade   \n",
       "\n",
       "   steam_appid  required_age is_free                 developers  \\\n",
       "0      1241930           0.0   False                  ['Valve']   \n",
       "1       652720           0.0    True                  ['Valve']   \n",
       "2       629330           0.0   False                  ['Valve']   \n",
       "3       771300           0.0   False         ['Rockstar North']   \n",
       "4       306460           0.0   False  ['Smartly Dressed Games']   \n",
       "\n",
       "                  publishers  \\\n",
       "0                  ['Valve']   \n",
       "1                  ['Valve']   \n",
       "2                  ['Valve']   \n",
       "3         ['Rockstar Games']   \n",
       "4  ['Smartly Dressed Games']   \n",
       "\n",
       "                                                                                                                            price_overview  \\\n",
       "0  {'currency': 'SGD', 'initial': 1000, 'final': 200, 'discount_percent': 80, 'initial_formatted': 'S$10.00', 'final_formatted': 'S$2.00'}   \n",
       "1                                                                                                                                      NaN   \n",
       "2  {'currency': 'SGD', 'initial': 1300, 'final': 260, 'discount_percent': 80, 'initial_formatted': 'S$13.00', 'final_formatted': 'S$2.60'}   \n",
       "3        {'currency': 'SGD', 'initial': 1390, 'final': 1390, 'discount_percent': 0, 'initial_formatted': '', 'final_formatted': 'S$13.90'}   \n",
       "4    {'currency': 'SGD', 'initial': 525, 'final': 393, 'discount_percent': 25, 'initial_formatted': 'S$5.25', 'final_formatted': 'S$3.93'}   \n",
       "\n",
       "                                         platforms  \\\n",
       "0    {'windows': True, 'mac': True, 'linux': True}   \n",
       "1    {'windows': True, 'mac': True, 'linux': True}   \n",
       "2    {'windows': True, 'mac': True, 'linux': True}   \n",
       "3  {'windows': True, 'mac': False, 'linux': False}   \n",
       "4    {'windows': True, 'mac': True, 'linux': True}   \n",
       "\n",
       "                                                                                                                                                                                                categories  \\\n",
       "0                                                                                                                                             [{'id': 50, 'description': 'Additional High-Quality Audio'}]   \n",
       "1                                                                                                                                             [{'id': 50, 'description': 'Additional High-Quality Audio'}]   \n",
       "2                                                                                                                                             [{'id': 50, 'description': 'Additional High-Quality Audio'}]   \n",
       "3  [{'id': 2, 'description': 'Single-player'}, {'id': 1, 'description': 'Multi-player'}, {'id': 21, 'description': 'Downloadable Content'}, {'id': 22, 'description': 'Steam Achievements'}, {'id': 28,...   \n",
       "4  [{'id': 2, 'description': 'Single-player'}, {'id': 1, 'description': 'Multi-player'}, {'id': 9, 'description': 'Co-op'}, {'id': 21, 'description': 'Downloadable Content'}, {'id': 22, 'description'...   \n",
       "\n",
       "                                     release_date controller_support  dlc  \\\n",
       "0  {'coming_soon': False, 'date': '10 Feb, 2020'}                NaN  NaN   \n",
       "1  {'coming_soon': False, 'date': '10 Feb, 2020'}                NaN  NaN   \n",
       "2   {'coming_soon': False, 'date': '4 May, 2017'}                NaN  NaN   \n",
       "3  {'coming_soon': False, 'date': '14 Dec, 2017'}               full  NaN   \n",
       "4   {'coming_soon': False, 'date': '7 Jul, 2014'}                NaN  NaN   \n",
       "\n",
       "  metacritic  \n",
       "0        NaN  \n",
       "1        NaN  \n",
       "2        NaN  \n",
       "3        NaN  \n",
       "4        NaN  "
      ]
     },
     "execution_count": 2,
     "metadata": {},
     "output_type": "execute_result"
    }
   ],
   "source": [
    "df = pd.read_csv('../Data/Raw/steam_store_dlc.csv', keep_default_na=True)\n",
    "df.head()"
   ]
  },
  {
   "cell_type": "code",
   "execution_count": 3,
   "metadata": {},
   "outputs": [],
   "source": [
    "df.drop('Unnamed: 0', axis=1, inplace=True)"
   ]
  },
  {
   "cell_type": "code",
   "execution_count": 4,
   "metadata": {},
   "outputs": [
    {
     "name": "stdout",
     "output_type": "stream",
     "text": [
      "(40622, 14)\n"
     ]
    },
    {
     "data": {
      "text/plain": [
       "type                     27\n",
       "name                     27\n",
       "steam_appid               0\n",
       "required_age             27\n",
       "is_free                  27\n",
       "developers              179\n",
       "publishers               27\n",
       "price_overview         3702\n",
       "platforms                27\n",
       "categories             2605\n",
       "release_date             27\n",
       "controller_support    30128\n",
       "dlc                   40620\n",
       "metacritic            40431\n",
       "dtype: int64"
      ]
     },
     "execution_count": 4,
     "metadata": {},
     "output_type": "execute_result"
    }
   ],
   "source": [
    "print(df.shape)\n",
    "df.isnull().sum()"
   ]
  },
  {
   "attachments": {},
   "cell_type": "markdown",
   "metadata": {},
   "source": [
    "## Clean Data"
   ]
  },
  {
   "cell_type": "markdown",
   "metadata": {},
   "source": [
    "### Type"
   ]
  },
  {
   "cell_type": "code",
   "execution_count": 5,
   "metadata": {},
   "outputs": [
    {
     "data": {
      "text/plain": [
       "array(['music', 'dlc', nan, 'game', 'movie'], dtype=object)"
      ]
     },
     "execution_count": 5,
     "metadata": {},
     "output_type": "execute_result"
    }
   ],
   "source": [
    "df['type'].unique()"
   ]
  },
  {
   "cell_type": "code",
   "execution_count": 6,
   "metadata": {},
   "outputs": [
    {
     "data": {
      "text/plain": [
       "(36370, 14)"
      ]
     },
     "execution_count": 6,
     "metadata": {},
     "output_type": "execute_result"
    }
   ],
   "source": [
    "# Keep only rows with dlc type\n",
    "df = df[df['type']=='dlc']\n",
    "df.shape"
   ]
  },
  {
   "cell_type": "code",
   "execution_count": 7,
   "metadata": {},
   "outputs": [
    {
     "data": {
      "text/plain": [
       "type                      0\n",
       "name                      0\n",
       "steam_appid               0\n",
       "required_age              0\n",
       "is_free                   0\n",
       "developers              148\n",
       "publishers                0\n",
       "price_overview         3297\n",
       "platforms                 0\n",
       "categories                0\n",
       "release_date              0\n",
       "controller_support    26082\n",
       "dlc                   36369\n",
       "metacritic            36196\n",
       "dtype: int64"
      ]
     },
     "execution_count": 7,
     "metadata": {},
     "output_type": "execute_result"
    }
   ],
   "source": [
    "df.isnull().sum()"
   ]
  },
  {
   "attachments": {},
   "cell_type": "markdown",
   "metadata": {},
   "source": [
    "### Developers"
   ]
  },
  {
   "cell_type": "code",
   "execution_count": 8,
   "metadata": {},
   "outputs": [
    {
     "data": {
      "text/plain": [
       "3            ['Rockstar North']\n",
       "4     ['Smartly Dressed Games']\n",
       "9         ['Facepunch Studios']\n",
       "10        ['Facepunch Studios']\n",
       "11        ['Facepunch Studios']\n",
       "Name: developers, dtype: object"
      ]
     },
     "execution_count": 8,
     "metadata": {},
     "output_type": "execute_result"
    }
   ],
   "source": [
    "# Replace NaN with empty list\n",
    "df['developers'] = df['developers'].fillna('[]')\n",
    "df['developers'].head()"
   ]
  },
  {
   "attachments": {},
   "cell_type": "markdown",
   "metadata": {},
   "source": [
    "### Categories"
   ]
  },
  {
   "cell_type": "code",
   "execution_count": 9,
   "metadata": {},
   "outputs": [
    {
     "data": {
      "text/plain": [
       "{2: {'Single-player'},\n",
       " 1: {'Multi-player'},\n",
       " 21: {'Downloadable Content'},\n",
       " 22: {'Steam Achievements'},\n",
       " 28: {'Full controller support'},\n",
       " 9: {'Co-op'},\n",
       " 29: {'Steam Trading Cards'},\n",
       " 30: {'Steam Workshop'},\n",
       " 23: {'Steam Cloud'},\n",
       " 15: {'Stats'},\n",
       " 17: {'Includes level editor'},\n",
       " 20: {'MMO'},\n",
       " 49: {'PvP'},\n",
       " 36: {'Online PvP'},\n",
       " 38: {'Online Co-op'},\n",
       " 27: {'Cross-Platform Multiplayer'},\n",
       " 35: {'In-App Purchases'},\n",
       " 8: {'Valve Anti-Cheat enabled'},\n",
       " 42: {'Remote Play on Tablet'},\n",
       " 41: {'Remote Play on Phone'},\n",
       " 18: {'Partial Controller Support'},\n",
       " 24: {'Shared/Split Screen'},\n",
       " 37: {'Shared/Split Screen PvP'},\n",
       " 39: {'Shared/Split Screen Co-op'},\n",
       " 43: {'Remote Play on TV'},\n",
       " 44: {'Remote Play Together'},\n",
       " 51: {'Steam Workshop'},\n",
       " 54: {'VR Only'},\n",
       " 31: {'VR Support'},\n",
       " 40: {'SteamVR Collectibles'},\n",
       " 47: {'LAN PvP'},\n",
       " 48: {'LAN Co-op'},\n",
       " 13: {'Captions available'},\n",
       " 25: {'Steam Leaderboards'},\n",
       " 32: {'Steam Turn Notifications'},\n",
       " 52: {'Tracked Controller Support'},\n",
       " 16: {'Includes Source SDK'},\n",
       " 14: {'Commentary available'}}"
      ]
     },
     "execution_count": 9,
     "metadata": {},
     "output_type": "execute_result"
    }
   ],
   "source": [
    "dic = {}\n",
    "for arr in df['categories'].values:\n",
    "    if type(arr) == str:\n",
    "        arr = eval(arr)\n",
    "        for data in arr:\n",
    "            if data[\"id\"] not in dic.keys():\n",
    "                dic[data[\"id\"]] = set([data['description']])\n",
    "            else:\n",
    "                dic[data[\"id\"]].add(data['description'])\n",
    "\n",
    "dic"
   ]
  },
  {
   "cell_type": "code",
   "execution_count": 10,
   "metadata": {},
   "outputs": [],
   "source": [
    "mapping = {1: 'Multi-player',\n",
    " 9: 'Co-op',\n",
    " 29: 'Steam Trading Cards',\n",
    " 30: 'Steam Workshop',\n",
    " 40: 'SteamVR Collectibles',\n",
    " 35: 'In-App Purchases',\n",
    " 8: 'Valve Anti-Cheat enabled',\n",
    " 22: 'Steam Achievements',\n",
    " 28: 'Full controller support',\n",
    " 15: 'Stats',\n",
    " 41: 'Remote Play on Phone',\n",
    " 42: 'Remote Play on Tablet',\n",
    " 43: 'Remote Play on TV',\n",
    " 49: 'PvP', \n",
    " 36: 'Online PvP',\n",
    " 38: 'Online Co-op', \n",
    " 20: 'MMO',\n",
    " 27: 'Cross-Platform Multiplayer', \n",
    " 13: 'Captions available', \n",
    " 18: 'Partial Controller Support',\n",
    " 17: 'Includes level editor',\n",
    " 14: 'Commentary available',\n",
    " 2: 'Single-player',\n",
    " 47: 'LAN PvP',\n",
    " 48: 'LAN Co-op',\n",
    " 23: 'Steam Cloud',\n",
    " 16: 'Includes Source SDK',\n",
    " 44: 'Remote Play Together',\n",
    " 37: 'Shared/Split Screen PvP',\n",
    " 39: 'Shared/Split Screen Co-op',\n",
    " 24: 'Shared/Split Screen', \n",
    " 53: 'VR Supported',\n",
    " 51: 'Steam Workshop',\n",
    " 52: 'Tracked Controller Support',\n",
    " 25: 'Steam Leaderboards',\n",
    " 31: 'VR Support',\n",
    " 32: 'Steam Turn Notifications',\n",
    " 54: 'Solo RV',\n",
    " 19: 'Mods',\n",
    " 6: 'Mods (require HL2)',\n",
    " 10: 'Game demo',\n",
    " 21: 'Downloadable Content',\n",
    " 50: 'Additional High-Quality Audio',\n",
    " 33: 'Native Steam Controller Support',\n",
    " 0: 'No Category'}"
   ]
  },
  {
   "cell_type": "code",
   "execution_count": 11,
   "metadata": {},
   "outputs": [
    {
     "data": {
      "text/html": [
       "<div>\n",
       "<style scoped>\n",
       "    .dataframe tbody tr th:only-of-type {\n",
       "        vertical-align: middle;\n",
       "    }\n",
       "\n",
       "    .dataframe tbody tr th {\n",
       "        vertical-align: top;\n",
       "    }\n",
       "\n",
       "    .dataframe thead th {\n",
       "        text-align: right;\n",
       "    }\n",
       "</style>\n",
       "<table border=\"1\" class=\"dataframe\">\n",
       "  <thead>\n",
       "    <tr style=\"text-align: right;\">\n",
       "      <th></th>\n",
       "      <th>type</th>\n",
       "      <th>name</th>\n",
       "      <th>steam_appid</th>\n",
       "      <th>required_age</th>\n",
       "      <th>is_free</th>\n",
       "      <th>developers</th>\n",
       "      <th>publishers</th>\n",
       "      <th>price_overview</th>\n",
       "      <th>platforms</th>\n",
       "      <th>categories</th>\n",
       "      <th>release_date</th>\n",
       "      <th>controller_support</th>\n",
       "      <th>dlc</th>\n",
       "      <th>metacritic</th>\n",
       "    </tr>\n",
       "  </thead>\n",
       "  <tbody>\n",
       "    <tr>\n",
       "      <th>3</th>\n",
       "      <td>dlc</td>\n",
       "      <td>Grand Theft Auto V - Criminal Enterprise Starter Pack</td>\n",
       "      <td>771300</td>\n",
       "      <td>0.0</td>\n",
       "      <td>False</td>\n",
       "      <td>['Rockstar North']</td>\n",
       "      <td>['Rockstar Games']</td>\n",
       "      <td>{'currency': 'SGD', 'initial': 1390, 'final': 1390, 'discount_percent': 0, 'initial_formatted': '', 'final_formatted': 'S$13.90'}</td>\n",
       "      <td>{'windows': True, 'mac': False, 'linux': False}</td>\n",
       "      <td>[Single-player, Multi-player, Downloadable Content, Steam Achievements, Full controller support]</td>\n",
       "      <td>{'coming_soon': False, 'date': '14 Dec, 2017'}</td>\n",
       "      <td>full</td>\n",
       "      <td>NaN</td>\n",
       "      <td>NaN</td>\n",
       "    </tr>\n",
       "  </tbody>\n",
       "</table>\n",
       "</div>"
      ],
      "text/plain": [
       "  type                                                   name  steam_appid  \\\n",
       "3  dlc  Grand Theft Auto V - Criminal Enterprise Starter Pack       771300   \n",
       "\n",
       "   required_age is_free          developers          publishers  \\\n",
       "3           0.0   False  ['Rockstar North']  ['Rockstar Games']   \n",
       "\n",
       "                                                                                                                      price_overview  \\\n",
       "3  {'currency': 'SGD', 'initial': 1390, 'final': 1390, 'discount_percent': 0, 'initial_formatted': '', 'final_formatted': 'S$13.90'}   \n",
       "\n",
       "                                         platforms  \\\n",
       "3  {'windows': True, 'mac': False, 'linux': False}   \n",
       "\n",
       "                                                                                         categories  \\\n",
       "3  [Single-player, Multi-player, Downloadable Content, Steam Achievements, Full controller support]   \n",
       "\n",
       "                                     release_date controller_support  dlc  \\\n",
       "3  {'coming_soon': False, 'date': '14 Dec, 2017'}               full  NaN   \n",
       "\n",
       "  metacritic  \n",
       "3        NaN  "
      ]
     },
     "execution_count": 11,
     "metadata": {},
     "output_type": "execute_result"
    }
   ],
   "source": [
    "# Replace categories with their ID\n",
    "df['categories'] = df['categories'].apply(lambda x: [dic['id'] for dic in (eval(x) if type((x)) == str else [{\"id\":\"0\"}])])\n",
    "\n",
    "# Map the genre values to genre names using the mapping dictionary\n",
    "df['categories'] = df['categories'].apply(lambda x: [mapping.get(i) for i in x])\n",
    "\n",
    "df.head(1)"
   ]
  },
  {
   "attachments": {},
   "cell_type": "markdown",
   "metadata": {},
   "source": [
    "### Release Date"
   ]
  },
  {
   "cell_type": "code",
   "execution_count": 12,
   "metadata": {},
   "outputs": [],
   "source": [
    "df['release_date'] = df['release_date'].apply(lambda x: eval(x) if type(x) == str else x)"
   ]
  },
  {
   "cell_type": "code",
   "execution_count": 13,
   "metadata": {},
   "outputs": [
    {
     "data": {
      "text/plain": [
       "170"
      ]
     },
     "execution_count": 13,
     "metadata": {},
     "output_type": "execute_result"
    }
   ],
   "source": [
    "# Number of unreleased games\n",
    "temp = df[~df['release_date'].isnull()]\n",
    "len(temp[temp['release_date'].apply(lambda x: x['coming_soon'])])"
   ]
  },
  {
   "cell_type": "code",
   "execution_count": 14,
   "metadata": {},
   "outputs": [
    {
     "data": {
      "text/plain": [
       "424      {'coming_soon': True, 'date': 'To be announced'}\n",
       "426          {'coming_soon': True, 'date': 'Coming soon'}\n",
       "822         {'coming_soon': True, 'date': '22 Mar, 2023'}\n",
       "823         {'coming_soon': True, 'date': '22 Mar, 2023'}\n",
       "824         {'coming_soon': True, 'date': '22 Mar, 2023'}\n",
       "                               ...                       \n",
       "40603        {'coming_soon': True, 'date': 'Coming soon'}\n",
       "40618        {'coming_soon': True, 'date': 'Coming soon'}\n",
       "40619        {'coming_soon': True, 'date': 'Coming soon'}\n",
       "40620        {'coming_soon': True, 'date': 'Coming soon'}\n",
       "40621        {'coming_soon': True, 'date': 'Coming soon'}\n",
       "Name: release_date, Length: 170, dtype: object"
      ]
     },
     "execution_count": 14,
     "metadata": {},
     "output_type": "execute_result"
    }
   ],
   "source": [
    "temp[temp['release_date'].apply(lambda x: x['coming_soon'])]['release_date']"
   ]
  },
  {
   "cell_type": "code",
   "execution_count": 15,
   "metadata": {},
   "outputs": [],
   "source": [
    "# Only keep released games\n",
    "df['coming_soon'] = df['release_date'].apply(lambda x: x['coming_soon'])\n",
    "df = df[~df['coming_soon']].copy()\n",
    "\n",
    "# Remove those with blank string \n",
    "df['release_date'] = df['release_date'].apply(lambda x: x['date'])\n",
    "df = df[df['release_date'] != '']"
   ]
  },
  {
   "cell_type": "code",
   "execution_count": 16,
   "metadata": {},
   "outputs": [
    {
     "name": "stdout",
     "output_type": "stream",
     "text": [
      "0\n"
     ]
    },
    {
     "name": "stderr",
     "output_type": "stream",
     "text": [
      "C:\\Users\\65973\\AppData\\Local\\Temp\\ipykernel_21528\\2039918382.py:19: SettingWithCopyWarning: \n",
      "A value is trying to be set on a copy of a slice from a DataFrame\n",
      "\n",
      "See the caveats in the documentation: https://pandas.pydata.org/pandas-docs/stable/user_guide/indexing.html#returning-a-view-versus-a-copy\n",
      "  df['release_date'][df['datetime'].isnull()] = df['release_date'][df['datetime'].isnull()].apply(lambda x: replace_month(x))\n"
     ]
    },
    {
     "data": {
      "text/html": [
       "<div>\n",
       "<style scoped>\n",
       "    .dataframe tbody tr th:only-of-type {\n",
       "        vertical-align: middle;\n",
       "    }\n",
       "\n",
       "    .dataframe tbody tr th {\n",
       "        vertical-align: top;\n",
       "    }\n",
       "\n",
       "    .dataframe thead th {\n",
       "        text-align: right;\n",
       "    }\n",
       "</style>\n",
       "<table border=\"1\" class=\"dataframe\">\n",
       "  <thead>\n",
       "    <tr style=\"text-align: right;\">\n",
       "      <th></th>\n",
       "      <th>type</th>\n",
       "      <th>name</th>\n",
       "      <th>steam_appid</th>\n",
       "      <th>required_age</th>\n",
       "      <th>is_free</th>\n",
       "      <th>developers</th>\n",
       "      <th>publishers</th>\n",
       "      <th>price_overview</th>\n",
       "      <th>platforms</th>\n",
       "      <th>categories</th>\n",
       "      <th>release_date</th>\n",
       "      <th>controller_support</th>\n",
       "      <th>dlc</th>\n",
       "      <th>metacritic</th>\n",
       "      <th>coming_soon</th>\n",
       "    </tr>\n",
       "  </thead>\n",
       "  <tbody>\n",
       "    <tr>\n",
       "      <th>3</th>\n",
       "      <td>dlc</td>\n",
       "      <td>Grand Theft Auto V - Criminal Enterprise Starter Pack</td>\n",
       "      <td>771300</td>\n",
       "      <td>0.0</td>\n",
       "      <td>False</td>\n",
       "      <td>['Rockstar North']</td>\n",
       "      <td>['Rockstar Games']</td>\n",
       "      <td>{'currency': 'SGD', 'initial': 1390, 'final': 1390, 'discount_percent': 0, 'initial_formatted': '', 'final_formatted': 'S$13.90'}</td>\n",
       "      <td>{'windows': True, 'mac': False, 'linux': False}</td>\n",
       "      <td>[Single-player, Multi-player, Downloadable Content, Steam Achievements, Full controller support]</td>\n",
       "      <td>2017-12-14</td>\n",
       "      <td>full</td>\n",
       "      <td>NaN</td>\n",
       "      <td>NaN</td>\n",
       "      <td>False</td>\n",
       "    </tr>\n",
       "  </tbody>\n",
       "</table>\n",
       "</div>"
      ],
      "text/plain": [
       "  type                                                   name  steam_appid  \\\n",
       "3  dlc  Grand Theft Auto V - Criminal Enterprise Starter Pack       771300   \n",
       "\n",
       "   required_age is_free          developers          publishers  \\\n",
       "3           0.0   False  ['Rockstar North']  ['Rockstar Games']   \n",
       "\n",
       "                                                                                                                      price_overview  \\\n",
       "3  {'currency': 'SGD', 'initial': 1390, 'final': 1390, 'discount_percent': 0, 'initial_formatted': '', 'final_formatted': 'S$13.90'}   \n",
       "\n",
       "                                         platforms  \\\n",
       "3  {'windows': True, 'mac': False, 'linux': False}   \n",
       "\n",
       "                                                                                         categories  \\\n",
       "3  [Single-player, Multi-player, Downloadable Content, Steam Achievements, Full controller support]   \n",
       "\n",
       "  release_date controller_support  dlc metacritic  coming_soon  \n",
       "3   2017-12-14               full  NaN        NaN        False  "
      ]
     },
     "execution_count": 16,
     "metadata": {},
     "output_type": "execute_result"
    }
   ],
   "source": [
    "# Format all dates to datetime format\n",
    "to_remove = ['21 AGO 2012', '9 DIC 2020', '25 AGO 2014']\n",
    "df = df[~df['release_date'].isin(to_remove)]\n",
    "\n",
    "df['datetime'] = pd.to_datetime(df['release_date'], format='%d %b, %Y', errors='coerce').fillna(\n",
    "    pd.to_datetime(df['release_date'], format='%d %b %Y', errors=\"coerce\")).fillna(\n",
    "    pd.to_datetime(df['release_date'], format='%b %Y', errors=\"coerce\")).fillna(\n",
    "    pd.to_datetime(df['release_date'], format='%b %d, %Y', errors=\"coerce\")).fillna(\n",
    "    pd.to_datetime(df['release_date'], format='%Y年%m月%d日', errors=\"coerce\"))\n",
    "\n",
    "# Does not have a format we can input into to_datetime\n",
    "rep = {'déc.':'Dec', 'sept.': 'Sep', 'ENE': 'Jan', 'сен.': 'Sep', 'окт.': 'Oct', '. Juli': ' Jul'}\n",
    "def replace_month(s):\n",
    "    for key in rep:\n",
    "        if key in s:\n",
    "            return s.replace(key, rep[key])\n",
    "    return s\n",
    "\n",
    "df['release_date'][df['datetime'].isnull()] = df['release_date'][df['datetime'].isnull()].apply(lambda x: replace_month(x))\n",
    "\n",
    "df['datetime'] = df['datetime'].fillna(pd.to_datetime(df['release_date'], format='%d %b %Y', errors='coerce'))\n",
    "print(df['datetime'].isnull().sum())\n",
    "\n",
    "df['release_date'] = df['datetime']\n",
    "df.drop(['datetime'], axis=1, inplace=True)\n",
    "df.head(1)"
   ]
  },
  {
   "attachments": {},
   "cell_type": "markdown",
   "metadata": {},
   "source": [
    "### Price Overview"
   ]
  },
  {
   "cell_type": "code",
   "execution_count": 17,
   "metadata": {},
   "outputs": [
    {
     "data": {
      "text/plain": [
       "3           {'currency': 'SGD', 'initial': 1390, 'final': 1390, 'discount_percent': 0, 'initial_formatted': '', 'final_formatted': 'S$13.90'}\n",
       "4       {'currency': 'SGD', 'initial': 525, 'final': 393, 'discount_percent': 25, 'initial_formatted': 'S$5.25', 'final_formatted': 'S$3.93'}\n",
       "9     {'currency': 'SGD', 'initial': 1000, 'final': 670, 'discount_percent': 33, 'initial_formatted': 'S$10.00', 'final_formatted': 'S$6.70'}\n",
       "10    {'currency': 'SGD', 'initial': 1000, 'final': 670, 'discount_percent': 33, 'initial_formatted': 'S$10.00', 'final_formatted': 'S$6.70'}\n",
       "11    {'currency': 'SGD', 'initial': 1300, 'final': 871, 'discount_percent': 33, 'initial_formatted': 'S$13.00', 'final_formatted': 'S$8.71'}\n",
       "Name: price_overview, dtype: object"
      ]
     },
     "execution_count": 17,
     "metadata": {},
     "output_type": "execute_result"
    }
   ],
   "source": [
    "df['price_overview'] = df['price_overview'].apply(lambda x: eval(x) if type(x) == str else x)\n",
    "df['price_overview'].head()"
   ]
  },
  {
   "cell_type": "code",
   "execution_count": 18,
   "metadata": {},
   "outputs": [
    {
     "data": {
      "text/html": [
       "<div>\n",
       "<style scoped>\n",
       "    .dataframe tbody tr th:only-of-type {\n",
       "        vertical-align: middle;\n",
       "    }\n",
       "\n",
       "    .dataframe tbody tr th {\n",
       "        vertical-align: top;\n",
       "    }\n",
       "\n",
       "    .dataframe thead th {\n",
       "        text-align: right;\n",
       "    }\n",
       "</style>\n",
       "<table border=\"1\" class=\"dataframe\">\n",
       "  <thead>\n",
       "    <tr style=\"text-align: right;\">\n",
       "      <th></th>\n",
       "      <th>type</th>\n",
       "      <th>name</th>\n",
       "      <th>steam_appid</th>\n",
       "      <th>required_age</th>\n",
       "      <th>is_free</th>\n",
       "      <th>developers</th>\n",
       "      <th>publishers</th>\n",
       "      <th>price_overview</th>\n",
       "      <th>platforms</th>\n",
       "      <th>categories</th>\n",
       "      <th>release_date</th>\n",
       "      <th>controller_support</th>\n",
       "      <th>dlc</th>\n",
       "      <th>metacritic</th>\n",
       "      <th>coming_soon</th>\n",
       "    </tr>\n",
       "  </thead>\n",
       "  <tbody>\n",
       "  </tbody>\n",
       "</table>\n",
       "</div>"
      ],
      "text/plain": [
       "Empty DataFrame\n",
       "Columns: [type, name, steam_appid, required_age, is_free, developers, publishers, price_overview, platforms, categories, release_date, controller_support, dlc, metacritic, coming_soon]\n",
       "Index: []"
      ]
     },
     "execution_count": 18,
     "metadata": {},
     "output_type": "execute_result"
    }
   ],
   "source": [
    "# Replace NaN with default dicts (impute after train test split)\n",
    "fix_index = df[df['price_overview'].isnull()].index\n",
    "lst = []\n",
    "for value in df['price_overview']:\n",
    "    if type(value) == dict:\n",
    "        lst.append(value)\n",
    "    else:\n",
    "        lst.append({\n",
    "            'currency': '', \n",
    "            'initial': None, \n",
    "            'final': None, \n",
    "            'discount_percent':None, \n",
    "        })\n",
    "df['price_overview'] = lst\n",
    "df[df['price_overview'].isnull()]"
   ]
  },
  {
   "cell_type": "code",
   "execution_count": 19,
   "metadata": {},
   "outputs": [],
   "source": [
    "df['currency'] = df['price_overview'].apply(lambda x: x['currency'])\n",
    "df['initial'] = df['price_overview'].apply(lambda x: x['initial'])\n",
    "df['final'] = df['price_overview'].apply(lambda x: x['final'])\n",
    "df['discount_percent'] = df['price_overview'].apply(lambda x: x['discount_percent'])"
   ]
  },
  {
   "cell_type": "code",
   "execution_count": 20,
   "metadata": {},
   "outputs": [
    {
     "data": {
      "text/html": [
       "<div>\n",
       "<style scoped>\n",
       "    .dataframe tbody tr th:only-of-type {\n",
       "        vertical-align: middle;\n",
       "    }\n",
       "\n",
       "    .dataframe tbody tr th {\n",
       "        vertical-align: top;\n",
       "    }\n",
       "\n",
       "    .dataframe thead th {\n",
       "        text-align: right;\n",
       "    }\n",
       "</style>\n",
       "<table border=\"1\" class=\"dataframe\">\n",
       "  <thead>\n",
       "    <tr style=\"text-align: right;\">\n",
       "      <th></th>\n",
       "      <th>currency</th>\n",
       "      <th>initial</th>\n",
       "    </tr>\n",
       "  </thead>\n",
       "  <tbody>\n",
       "    <tr>\n",
       "      <th>3</th>\n",
       "      <td>SGD</td>\n",
       "      <td>1390.0</td>\n",
       "    </tr>\n",
       "    <tr>\n",
       "      <th>4</th>\n",
       "      <td>SGD</td>\n",
       "      <td>525.0</td>\n",
       "    </tr>\n",
       "    <tr>\n",
       "      <th>9</th>\n",
       "      <td>SGD</td>\n",
       "      <td>1000.0</td>\n",
       "    </tr>\n",
       "    <tr>\n",
       "      <th>10</th>\n",
       "      <td>SGD</td>\n",
       "      <td>1000.0</td>\n",
       "    </tr>\n",
       "    <tr>\n",
       "      <th>11</th>\n",
       "      <td>SGD</td>\n",
       "      <td>1300.0</td>\n",
       "    </tr>\n",
       "    <tr>\n",
       "      <th>...</th>\n",
       "      <td>...</td>\n",
       "      <td>...</td>\n",
       "    </tr>\n",
       "    <tr>\n",
       "      <th>40612</th>\n",
       "      <td>SGD</td>\n",
       "      <td>110.0</td>\n",
       "    </tr>\n",
       "    <tr>\n",
       "      <th>40613</th>\n",
       "      <td></td>\n",
       "      <td>NaN</td>\n",
       "    </tr>\n",
       "    <tr>\n",
       "      <th>40614</th>\n",
       "      <td>SGD</td>\n",
       "      <td>325.0</td>\n",
       "    </tr>\n",
       "    <tr>\n",
       "      <th>40616</th>\n",
       "      <td>SGD</td>\n",
       "      <td>325.0</td>\n",
       "    </tr>\n",
       "    <tr>\n",
       "      <th>40617</th>\n",
       "      <td>SGD</td>\n",
       "      <td>325.0</td>\n",
       "    </tr>\n",
       "  </tbody>\n",
       "</table>\n",
       "<p>36063 rows × 2 columns</p>\n",
       "</div>"
      ],
      "text/plain": [
       "      currency  initial\n",
       "3          SGD   1390.0\n",
       "4          SGD    525.0\n",
       "9          SGD   1000.0\n",
       "10         SGD   1000.0\n",
       "11         SGD   1300.0\n",
       "...        ...      ...\n",
       "40612      SGD    110.0\n",
       "40613               NaN\n",
       "40614      SGD    325.0\n",
       "40616      SGD    325.0\n",
       "40617      SGD    325.0\n",
       "\n",
       "[36063 rows x 2 columns]"
      ]
     },
     "execution_count": 20,
     "metadata": {},
     "output_type": "execute_result"
    }
   ],
   "source": [
    "# pip install currencyconverter\n",
    "df[['currency', 'initial']]"
   ]
  },
  {
   "cell_type": "code",
   "execution_count": 21,
   "metadata": {},
   "outputs": [
    {
     "data": {
      "text/html": [
       "<div>\n",
       "<style scoped>\n",
       "    .dataframe tbody tr th:only-of-type {\n",
       "        vertical-align: middle;\n",
       "    }\n",
       "\n",
       "    .dataframe tbody tr th {\n",
       "        vertical-align: top;\n",
       "    }\n",
       "\n",
       "    .dataframe thead th {\n",
       "        text-align: right;\n",
       "    }\n",
       "</style>\n",
       "<table border=\"1\" class=\"dataframe\">\n",
       "  <thead>\n",
       "    <tr style=\"text-align: right;\">\n",
       "      <th></th>\n",
       "      <th>type</th>\n",
       "      <th>name</th>\n",
       "      <th>steam_appid</th>\n",
       "      <th>required_age</th>\n",
       "      <th>is_free</th>\n",
       "      <th>developers</th>\n",
       "      <th>publishers</th>\n",
       "      <th>price_overview</th>\n",
       "      <th>platforms</th>\n",
       "      <th>categories</th>\n",
       "      <th>release_date</th>\n",
       "      <th>controller_support</th>\n",
       "      <th>dlc</th>\n",
       "      <th>metacritic</th>\n",
       "      <th>coming_soon</th>\n",
       "      <th>currency</th>\n",
       "      <th>initial</th>\n",
       "      <th>final</th>\n",
       "      <th>discount_percent</th>\n",
       "    </tr>\n",
       "  </thead>\n",
       "  <tbody>\n",
       "    <tr>\n",
       "      <th>3</th>\n",
       "      <td>dlc</td>\n",
       "      <td>Grand Theft Auto V - Criminal Enterprise Starter Pack</td>\n",
       "      <td>771300</td>\n",
       "      <td>0.0</td>\n",
       "      <td>False</td>\n",
       "      <td>['Rockstar North']</td>\n",
       "      <td>['Rockstar Games']</td>\n",
       "      <td>{'currency': 'SGD', 'initial': 1390, 'final': 1390, 'discount_percent': 0, 'initial_formatted': '', 'final_formatted': 'S$13.90'}</td>\n",
       "      <td>{'windows': True, 'mac': False, 'linux': False}</td>\n",
       "      <td>[Single-player, Multi-player, Downloadable Content, Steam Achievements, Full controller support]</td>\n",
       "      <td>2017-12-14</td>\n",
       "      <td>full</td>\n",
       "      <td>NaN</td>\n",
       "      <td>NaN</td>\n",
       "      <td>False</td>\n",
       "      <td>SGD</td>\n",
       "      <td>1032.260188</td>\n",
       "      <td>1032.260188</td>\n",
       "      <td>0.0</td>\n",
       "    </tr>\n",
       "  </tbody>\n",
       "</table>\n",
       "</div>"
      ],
      "text/plain": [
       "  type                                                   name  steam_appid  \\\n",
       "3  dlc  Grand Theft Auto V - Criminal Enterprise Starter Pack       771300   \n",
       "\n",
       "   required_age is_free          developers          publishers  \\\n",
       "3           0.0   False  ['Rockstar North']  ['Rockstar Games']   \n",
       "\n",
       "                                                                                                                      price_overview  \\\n",
       "3  {'currency': 'SGD', 'initial': 1390, 'final': 1390, 'discount_percent': 0, 'initial_formatted': '', 'final_formatted': 'S$13.90'}   \n",
       "\n",
       "                                         platforms  \\\n",
       "3  {'windows': True, 'mac': False, 'linux': False}   \n",
       "\n",
       "                                                                                         categories  \\\n",
       "3  [Single-player, Multi-player, Downloadable Content, Steam Achievements, Full controller support]   \n",
       "\n",
       "  release_date controller_support  dlc metacritic  coming_soon currency  \\\n",
       "3   2017-12-14               full  NaN        NaN        False      SGD   \n",
       "\n",
       "       initial        final  discount_percent  \n",
       "3  1032.260188  1032.260188               0.0  "
      ]
     },
     "execution_count": 21,
     "metadata": {},
     "output_type": "execute_result"
    }
   ],
   "source": [
    "# Convert initial and final price to USD using release date for non-empty rows\n",
    "from currency_converter import CurrencyConverter\n",
    "c = CurrencyConverter(fallback_on_missing_rate=True, fallback_on_wrong_date=True)\n",
    "list_currencies = list(c.currencies)\n",
    "\n",
    "def convert(x, money_var):\n",
    "    if x['currency'] in list_currencies: # and not isinstance(x['release_date'], str):\n",
    "        return c.convert(x[money_var], x['currency'], 'USD', x['release_date'])\n",
    "    else:\n",
    "        return None\n",
    "\n",
    "df['initial'] = df.apply(lambda x: convert(x, 'initial'), axis=1)\n",
    "df['final'] = df.apply(lambda x: convert(x, 'final'), axis=1)\n",
    "\n",
    "df.head(1)"
   ]
  },
  {
   "cell_type": "code",
   "execution_count": 22,
   "metadata": {},
   "outputs": [
    {
     "data": {
      "text/html": [
       "<div>\n",
       "<style scoped>\n",
       "    .dataframe tbody tr th:only-of-type {\n",
       "        vertical-align: middle;\n",
       "    }\n",
       "\n",
       "    .dataframe tbody tr th {\n",
       "        vertical-align: top;\n",
       "    }\n",
       "\n",
       "    .dataframe thead th {\n",
       "        text-align: right;\n",
       "    }\n",
       "</style>\n",
       "<table border=\"1\" class=\"dataframe\">\n",
       "  <thead>\n",
       "    <tr style=\"text-align: right;\">\n",
       "      <th></th>\n",
       "      <th>type</th>\n",
       "      <th>name</th>\n",
       "      <th>steam_appid</th>\n",
       "      <th>required_age</th>\n",
       "      <th>is_free</th>\n",
       "      <th>developers</th>\n",
       "      <th>publishers</th>\n",
       "      <th>platforms</th>\n",
       "      <th>categories</th>\n",
       "      <th>release_date</th>\n",
       "      <th>controller_support</th>\n",
       "      <th>dlc</th>\n",
       "      <th>metacritic</th>\n",
       "      <th>initial</th>\n",
       "      <th>final</th>\n",
       "      <th>discount_percent</th>\n",
       "    </tr>\n",
       "  </thead>\n",
       "  <tbody>\n",
       "    <tr>\n",
       "      <th>3</th>\n",
       "      <td>dlc</td>\n",
       "      <td>Grand Theft Auto V - Criminal Enterprise Starter Pack</td>\n",
       "      <td>771300</td>\n",
       "      <td>0.0</td>\n",
       "      <td>False</td>\n",
       "      <td>['Rockstar North']</td>\n",
       "      <td>['Rockstar Games']</td>\n",
       "      <td>{'windows': True, 'mac': False, 'linux': False}</td>\n",
       "      <td>[Single-player, Multi-player, Downloadable Content, Steam Achievements, Full controller support]</td>\n",
       "      <td>2017-12-14</td>\n",
       "      <td>full</td>\n",
       "      <td>NaN</td>\n",
       "      <td>NaN</td>\n",
       "      <td>1032.260188</td>\n",
       "      <td>1032.260188</td>\n",
       "      <td>0.0</td>\n",
       "    </tr>\n",
       "    <tr>\n",
       "      <th>4</th>\n",
       "      <td>dlc</td>\n",
       "      <td>Unturned - Permanent Gold Upgrade</td>\n",
       "      <td>306460</td>\n",
       "      <td>0.0</td>\n",
       "      <td>False</td>\n",
       "      <td>['Smartly Dressed Games']</td>\n",
       "      <td>['Smartly Dressed Games']</td>\n",
       "      <td>{'windows': True, 'mac': True, 'linux': True}</td>\n",
       "      <td>[Single-player, Multi-player, Co-op, Downloadable Content, Steam Achievements, Steam Trading Cards, Steam Workshop, Steam Cloud, Stats, Includes level editor]</td>\n",
       "      <td>2014-07-07</td>\n",
       "      <td>NaN</td>\n",
       "      <td>NaN</td>\n",
       "      <td>NaN</td>\n",
       "      <td>421.140227</td>\n",
       "      <td>315.253541</td>\n",
       "      <td>25.0</td>\n",
       "    </tr>\n",
       "    <tr>\n",
       "      <th>9</th>\n",
       "      <td>dlc</td>\n",
       "      <td>Rust - Instruments Pack</td>\n",
       "      <td>1174370</td>\n",
       "      <td>17.0</td>\n",
       "      <td>False</td>\n",
       "      <td>['Facepunch Studios']</td>\n",
       "      <td>['Facepunch Studios']</td>\n",
       "      <td>{'windows': True, 'mac': True, 'linux': False}</td>\n",
       "      <td>[Multi-player, MMO, PvP, Online PvP, Co-op, Online Co-op, Cross-Platform Multiplayer, Downloadable Content, Steam Achievements, Steam Trading Cards, Steam Workshop, In-App Purchases, Valve Anti-Ch...</td>\n",
       "      <td>2019-12-05</td>\n",
       "      <td>NaN</td>\n",
       "      <td>NaN</td>\n",
       "      <td>NaN</td>\n",
       "      <td>734.556048</td>\n",
       "      <td>492.152552</td>\n",
       "      <td>33.0</td>\n",
       "    </tr>\n",
       "    <tr>\n",
       "      <th>10</th>\n",
       "      <td>dlc</td>\n",
       "      <td>Rust - Sunburn Pack</td>\n",
       "      <td>1353060</td>\n",
       "      <td>17.0</td>\n",
       "      <td>False</td>\n",
       "      <td>['Facepunch Studios']</td>\n",
       "      <td>['Facepunch Studios']</td>\n",
       "      <td>{'windows': True, 'mac': True, 'linux': False}</td>\n",
       "      <td>[Multi-player, MMO, PvP, Online PvP, Co-op, Online Co-op, Cross-Platform Multiplayer, Downloadable Content, Steam Achievements, Steam Trading Cards, Steam Workshop, In-App Purchases, Valve Anti-Ch...</td>\n",
       "      <td>2020-07-09</td>\n",
       "      <td>NaN</td>\n",
       "      <td>NaN</td>\n",
       "      <td>NaN</td>\n",
       "      <td>719.031317</td>\n",
       "      <td>481.750983</td>\n",
       "      <td>33.0</td>\n",
       "    </tr>\n",
       "    <tr>\n",
       "      <th>11</th>\n",
       "      <td>dlc</td>\n",
       "      <td>Rust - Voice Props Pack</td>\n",
       "      <td>1670430</td>\n",
       "      <td>17.0</td>\n",
       "      <td>False</td>\n",
       "      <td>['Facepunch Studios']</td>\n",
       "      <td>['Facepunch Studios']</td>\n",
       "      <td>{'windows': True, 'mac': True, 'linux': False}</td>\n",
       "      <td>[Multi-player, MMO, PvP, Online PvP, Co-op, Online Co-op, Cross-Platform Multiplayer, Downloadable Content, Steam Achievements, Steam Trading Cards, Steam Workshop, In-App Purchases, Valve Anti-Ch...</td>\n",
       "      <td>2021-07-01</td>\n",
       "      <td>NaN</td>\n",
       "      <td>NaN</td>\n",
       "      <td>NaN</td>\n",
       "      <td>966.239290</td>\n",
       "      <td>647.380324</td>\n",
       "      <td>33.0</td>\n",
       "    </tr>\n",
       "  </tbody>\n",
       "</table>\n",
       "</div>"
      ],
      "text/plain": [
       "   type                                                   name  steam_appid  \\\n",
       "3   dlc  Grand Theft Auto V - Criminal Enterprise Starter Pack       771300   \n",
       "4   dlc                      Unturned - Permanent Gold Upgrade       306460   \n",
       "9   dlc                                Rust - Instruments Pack      1174370   \n",
       "10  dlc                                    Rust - Sunburn Pack      1353060   \n",
       "11  dlc                                Rust - Voice Props Pack      1670430   \n",
       "\n",
       "    required_age is_free                 developers  \\\n",
       "3            0.0   False         ['Rockstar North']   \n",
       "4            0.0   False  ['Smartly Dressed Games']   \n",
       "9           17.0   False      ['Facepunch Studios']   \n",
       "10          17.0   False      ['Facepunch Studios']   \n",
       "11          17.0   False      ['Facepunch Studios']   \n",
       "\n",
       "                   publishers  \\\n",
       "3          ['Rockstar Games']   \n",
       "4   ['Smartly Dressed Games']   \n",
       "9       ['Facepunch Studios']   \n",
       "10      ['Facepunch Studios']   \n",
       "11      ['Facepunch Studios']   \n",
       "\n",
       "                                          platforms  \\\n",
       "3   {'windows': True, 'mac': False, 'linux': False}   \n",
       "4     {'windows': True, 'mac': True, 'linux': True}   \n",
       "9    {'windows': True, 'mac': True, 'linux': False}   \n",
       "10   {'windows': True, 'mac': True, 'linux': False}   \n",
       "11   {'windows': True, 'mac': True, 'linux': False}   \n",
       "\n",
       "                                                                                                                                                                                                 categories  \\\n",
       "3                                                                                                          [Single-player, Multi-player, Downloadable Content, Steam Achievements, Full controller support]   \n",
       "4                                            [Single-player, Multi-player, Co-op, Downloadable Content, Steam Achievements, Steam Trading Cards, Steam Workshop, Steam Cloud, Stats, Includes level editor]   \n",
       "9   [Multi-player, MMO, PvP, Online PvP, Co-op, Online Co-op, Cross-Platform Multiplayer, Downloadable Content, Steam Achievements, Steam Trading Cards, Steam Workshop, In-App Purchases, Valve Anti-Ch...   \n",
       "10  [Multi-player, MMO, PvP, Online PvP, Co-op, Online Co-op, Cross-Platform Multiplayer, Downloadable Content, Steam Achievements, Steam Trading Cards, Steam Workshop, In-App Purchases, Valve Anti-Ch...   \n",
       "11  [Multi-player, MMO, PvP, Online PvP, Co-op, Online Co-op, Cross-Platform Multiplayer, Downloadable Content, Steam Achievements, Steam Trading Cards, Steam Workshop, In-App Purchases, Valve Anti-Ch...   \n",
       "\n",
       "   release_date controller_support  dlc metacritic      initial        final  \\\n",
       "3    2017-12-14               full  NaN        NaN  1032.260188  1032.260188   \n",
       "4    2014-07-07                NaN  NaN        NaN   421.140227   315.253541   \n",
       "9    2019-12-05                NaN  NaN        NaN   734.556048   492.152552   \n",
       "10   2020-07-09                NaN  NaN        NaN   719.031317   481.750983   \n",
       "11   2021-07-01                NaN  NaN        NaN   966.239290   647.380324   \n",
       "\n",
       "    discount_percent  \n",
       "3                0.0  \n",
       "4               25.0  \n",
       "9               33.0  \n",
       "10              33.0  \n",
       "11              33.0  "
      ]
     },
     "execution_count": 22,
     "metadata": {},
     "output_type": "execute_result"
    }
   ],
   "source": [
    "df.drop(['coming_soon', 'currency', 'price_overview'], axis=1, inplace=True)\n",
    "df.head()"
   ]
  },
  {
   "attachments": {},
   "cell_type": "markdown",
   "metadata": {},
   "source": [
    "### Platforms"
   ]
  },
  {
   "cell_type": "code",
   "execution_count": 23,
   "metadata": {},
   "outputs": [
    {
     "data": {
      "text/plain": [
       "array([\"{'windows': True, 'mac': False, 'linux': False}\",\n",
       "       \"{'windows': True, 'mac': True, 'linux': True}\",\n",
       "       \"{'windows': True, 'mac': True, 'linux': False}\",\n",
       "       \"{'windows': True, 'mac': False, 'linux': True}\",\n",
       "       \"{'windows': False, 'mac': True, 'linux': False}\",\n",
       "       \"{'windows': False, 'mac': False, 'linux': True}\"], dtype=object)"
      ]
     },
     "execution_count": 23,
     "metadata": {},
     "output_type": "execute_result"
    }
   ],
   "source": [
    "# Since there are 3 fixed platforms, encode before train-test split\n",
    "\n",
    "def fix_platforms(x):\n",
    "    windows = 0\n",
    "    mac = 0\n",
    "    linux = 0\n",
    "    if type(x) == str:\n",
    "        data = eval(x)\n",
    "        if data['windows'] == True:\n",
    "            windows = 1\n",
    "        if data['mac'] == True:\n",
    "            mac = 1\n",
    "        if data['linux'] == True:\n",
    "            linux = 1\n",
    "    return windows, mac, linux\n",
    "        \n",
    "df['platforms'].unique()"
   ]
  },
  {
   "cell_type": "code",
   "execution_count": 24,
   "metadata": {},
   "outputs": [],
   "source": [
    "res = df['platforms'].apply(fix_platforms)"
   ]
  },
  {
   "cell_type": "code",
   "execution_count": 25,
   "metadata": {},
   "outputs": [
    {
     "data": {
      "text/html": [
       "<div>\n",
       "<style scoped>\n",
       "    .dataframe tbody tr th:only-of-type {\n",
       "        vertical-align: middle;\n",
       "    }\n",
       "\n",
       "    .dataframe tbody tr th {\n",
       "        vertical-align: top;\n",
       "    }\n",
       "\n",
       "    .dataframe thead th {\n",
       "        text-align: right;\n",
       "    }\n",
       "</style>\n",
       "<table border=\"1\" class=\"dataframe\">\n",
       "  <thead>\n",
       "    <tr style=\"text-align: right;\">\n",
       "      <th></th>\n",
       "      <th>type</th>\n",
       "      <th>name</th>\n",
       "      <th>steam_appid</th>\n",
       "      <th>required_age</th>\n",
       "      <th>is_free</th>\n",
       "      <th>developers</th>\n",
       "      <th>publishers</th>\n",
       "      <th>categories</th>\n",
       "      <th>release_date</th>\n",
       "      <th>controller_support</th>\n",
       "      <th>dlc</th>\n",
       "      <th>metacritic</th>\n",
       "      <th>initial</th>\n",
       "      <th>final</th>\n",
       "      <th>discount_percent</th>\n",
       "      <th>windows</th>\n",
       "      <th>mac</th>\n",
       "      <th>linux</th>\n",
       "    </tr>\n",
       "  </thead>\n",
       "  <tbody>\n",
       "    <tr>\n",
       "      <th>3</th>\n",
       "      <td>dlc</td>\n",
       "      <td>Grand Theft Auto V - Criminal Enterprise Starter Pack</td>\n",
       "      <td>771300</td>\n",
       "      <td>0.0</td>\n",
       "      <td>False</td>\n",
       "      <td>['Rockstar North']</td>\n",
       "      <td>['Rockstar Games']</td>\n",
       "      <td>[Single-player, Multi-player, Downloadable Content, Steam Achievements, Full controller support]</td>\n",
       "      <td>2017-12-14</td>\n",
       "      <td>full</td>\n",
       "      <td>NaN</td>\n",
       "      <td>NaN</td>\n",
       "      <td>1032.260188</td>\n",
       "      <td>1032.260188</td>\n",
       "      <td>0.0</td>\n",
       "      <td>1</td>\n",
       "      <td>0</td>\n",
       "      <td>0</td>\n",
       "    </tr>\n",
       "  </tbody>\n",
       "</table>\n",
       "</div>"
      ],
      "text/plain": [
       "  type                                                   name  steam_appid  \\\n",
       "3  dlc  Grand Theft Auto V - Criminal Enterprise Starter Pack       771300   \n",
       "\n",
       "   required_age is_free          developers          publishers  \\\n",
       "3           0.0   False  ['Rockstar North']  ['Rockstar Games']   \n",
       "\n",
       "                                                                                         categories  \\\n",
       "3  [Single-player, Multi-player, Downloadable Content, Steam Achievements, Full controller support]   \n",
       "\n",
       "  release_date controller_support  dlc metacritic      initial        final  \\\n",
       "3   2017-12-14               full  NaN        NaN  1032.260188  1032.260188   \n",
       "\n",
       "   discount_percent  windows  mac  linux  \n",
       "3               0.0        1    0      0  "
      ]
     },
     "execution_count": 25,
     "metadata": {},
     "output_type": "execute_result"
    }
   ],
   "source": [
    "windows = []\n",
    "mac = []\n",
    "linux = []\n",
    "for tup in res:\n",
    "    windows.append(tup[0])\n",
    "    mac.append(tup[1])\n",
    "    linux.append(tup[2])\n",
    "df['windows'] = windows\n",
    "df['mac'] = mac\n",
    "df['linux'] = linux\n",
    "df = df.drop('platforms', axis = 1)\n",
    "df.head(1)"
   ]
  },
  {
   "attachments": {},
   "cell_type": "markdown",
   "metadata": {},
   "source": [
    "### Controller Support"
   ]
  },
  {
   "cell_type": "code",
   "execution_count": 26,
   "metadata": {},
   "outputs": [
    {
     "data": {
      "text/plain": [
       "array(['full', nan], dtype=object)"
      ]
     },
     "execution_count": 26,
     "metadata": {},
     "output_type": "execute_result"
    }
   ],
   "source": [
    "df['controller_support'].unique()"
   ]
  },
  {
   "cell_type": "code",
   "execution_count": 27,
   "metadata": {},
   "outputs": [],
   "source": [
    "# Replace \"full\" with 1 and nan with 0\n",
    "df['controller_support'] = df['controller_support'].apply(lambda x: 1 if not pd.isnull(x) else 0)\n"
   ]
  },
  {
   "attachments": {},
   "cell_type": "markdown",
   "metadata": {},
   "source": [
    "### DLC"
   ]
  },
  {
   "cell_type": "code",
   "execution_count": 28,
   "metadata": {},
   "outputs": [
    {
     "data": {
      "text/plain": [
       "3     []\n",
       "4     []\n",
       "9     []\n",
       "10    []\n",
       "11    []\n",
       "Name: dlc, dtype: object"
      ]
     },
     "execution_count": 28,
     "metadata": {},
     "output_type": "execute_result"
    }
   ],
   "source": [
    "# Replace NaN with empty list\n",
    "df['dlc'] = df['dlc'].fillna('[]')\n",
    "df['dlc'].head()"
   ]
  },
  {
   "attachments": {},
   "cell_type": "markdown",
   "metadata": {},
   "source": [
    "### Metacritics"
   ]
  },
  {
   "cell_type": "code",
   "execution_count": 29,
   "metadata": {},
   "outputs": [],
   "source": [
    "# Leave NaN as is (impute after train test split)\n",
    "df['metacritic_score'] = df['metacritic'].apply(lambda x: eval(x)['score'] if not pd.isnull(x) else None)\n",
    "df['metacritic_url'] = df['metacritic'].apply(lambda x: eval(x)['url'] if not pd.isnull(x) else None)"
   ]
  },
  {
   "cell_type": "code",
   "execution_count": 30,
   "metadata": {},
   "outputs": [],
   "source": [
    "df.drop(['metacritic'], axis=1, inplace=True)\n"
   ]
  },
  {
   "cell_type": "code",
   "execution_count": 31,
   "metadata": {},
   "outputs": [
    {
     "name": "stdout",
     "output_type": "stream",
     "text": [
      "<class 'pandas.core.frame.DataFrame'>\n",
      "Int64Index: 36063 entries, 3 to 40617\n",
      "Data columns (total 19 columns):\n",
      " #   Column              Non-Null Count  Dtype         \n",
      "---  ------              --------------  -----         \n",
      " 0   type                36063 non-null  object        \n",
      " 1   name                36063 non-null  object        \n",
      " 2   steam_appid         36063 non-null  int64         \n",
      " 3   required_age        36063 non-null  float64       \n",
      " 4   is_free             36063 non-null  object        \n",
      " 5   developers          36063 non-null  object        \n",
      " 6   publishers          36063 non-null  object        \n",
      " 7   categories          36063 non-null  object        \n",
      " 8   release_date        36063 non-null  datetime64[ns]\n",
      " 9   controller_support  36063 non-null  int64         \n",
      " 10  dlc                 36063 non-null  object        \n",
      " 11  initial             32945 non-null  float64       \n",
      " 12  final               32945 non-null  float64       \n",
      " 13  discount_percent    32982 non-null  float64       \n",
      " 14  windows             36063 non-null  int64         \n",
      " 15  mac                 36063 non-null  int64         \n",
      " 16  linux               36063 non-null  int64         \n",
      " 17  metacritic_score    172 non-null    float64       \n",
      " 18  metacritic_url      172 non-null    object        \n",
      "dtypes: datetime64[ns](1), float64(5), int64(5), object(8)\n",
      "memory usage: 5.5+ MB\n"
     ]
    }
   ],
   "source": [
    "df.info()"
   ]
  },
  {
   "cell_type": "code",
   "execution_count": 32,
   "metadata": {},
   "outputs": [],
   "source": [
    "df.to_csv(\"../Data/steam_store_dlc_clean.csv\")"
   ]
  }
 ],
 "metadata": {
  "kernelspec": {
   "display_name": "Python 3",
   "language": "python",
   "name": "python3"
  },
  "language_info": {
   "codemirror_mode": {
    "name": "ipython",
    "version": 3
   },
   "file_extension": ".py",
   "mimetype": "text/x-python",
   "name": "python",
   "nbconvert_exporter": "python",
   "pygments_lexer": "ipython3",
   "version": "3.10.2"
  },
  "orig_nbformat": 4
 },
 "nbformat": 4,
 "nbformat_minor": 2
}
