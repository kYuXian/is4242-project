{
 "cells": [
  {
   "cell_type": "code",
   "execution_count": 1,
   "id": "5ab4f672",
   "metadata": {},
   "outputs": [],
   "source": [
    "import pandas as pd\n",
    "import numpy as np \n",
    "import requests\n",
    "import time\n",
    "import csv"
   ]
  },
  {
   "cell_type": "markdown",
   "id": "5030d207",
   "metadata": {},
   "source": [
    "**Reference materials:**\n",
    "\n",
    "Reddit API: (60 calls per minute)\n",
    "\n",
    "https://www.reddit.com/dev/api/#GET_r_{subreddit}_about\n",
    "\n",
    "Twitter API: \n",
    "\n",
    "https://towardsdatascience.com/getting-started-with-data-collection-using-twitter-api-v2-in-less-than-an-hour-600fbd5b5558\n",
    "\n",
    "https://developer.twitter.com/en/docs/twitter-api/tweets/search/api-reference/get-tweets-search-recent\n",
    "\n",
    "https://developer.twitter.com/en/docs/twitter-api/tweets/counts/api-reference/get-tweets-counts-recent"
   ]
  },
  {
   "cell_type": "code",
   "execution_count": 3,
   "id": "7fc0dab3",
   "metadata": {},
   "outputs": [],
   "source": [
    "def get_request(url, parameters=None, headers=None, print_url=True):\n",
    "    try:\n",
    "        response = requests.get(url=url, params=parameters, headers=headers)\n",
    "    except KeyboardInterrupt:\n",
    "        raise KeyboardInterrupt\n",
    "    except:\n",
    "        print(\"Error.\")\n",
    "        return\n",
    "    \n",
    "    if response:\n",
    "        if print_url:\n",
    "            print(response.url)\n",
    "            \n",
    "        # requests might return an empty string instead of a json object\n",
    "        if response.text == '':\n",
    "            return {}\n",
    "        else:\n",
    "            return response.json()\n",
    "    else:\n",
    "        # Recursively wait and try again\n",
    "        print('No response, waiting 10 seconds...')\n",
    "        time.sleep(10)\n",
    "        print('Retrying.')\n",
    "        return get_request(url, parameters)"
   ]
  },
  {
   "cell_type": "markdown",
   "id": "4d4a4490",
   "metadata": {},
   "source": [
    "## Reddit API"
   ]
  },
  {
   "cell_type": "code",
   "execution_count": 4,
   "id": "f1048fc4",
   "metadata": {},
   "outputs": [
    {
     "name": "stdout",
     "output_type": "stream",
     "text": [
      "https://www.reddit.com/r/dota2/about.json\n",
      "Wall time: 393 ms\n"
     ]
    },
    {
     "data": {
      "text/plain": [
       "1172848"
      ]
     },
     "execution_count": 4,
     "metadata": {},
     "output_type": "execute_result"
    }
   ],
   "source": [
    "%%time\n",
    "\n",
    "name = \"dota2\"\n",
    "url = f\"https://www.reddit.com/r/{name}/about.json\"\n",
    "json_data = get_request(url, headers={'User-agent': 'your bot 0.1'})\n",
    "subscriber_count = json_data['data']['subscribers']\n",
    "subscriber_count"
   ]
  },
  {
   "cell_type": "markdown",
   "id": "cd9d0e1e",
   "metadata": {},
   "source": [
    "## Twitter API"
   ]
  },
  {
   "cell_type": "code",
   "execution_count": 5,
   "id": "de2914e3",
   "metadata": {},
   "outputs": [],
   "source": [
    "def connect_to_twitter():\n",
    "    bearer_token = \"AAAAAAAAAAAAAAAAAAAAAPdDaQEAAAAAKbfzzoZEN4u5GIAp5lp0M4fUCJw%3DjpnxM7BwwK1BqDlQDtS5avgn9hZ5HNJkcAaLCBFIg8T9keVXDM\"\n",
    "    return {\"Authorization\": \"Bearer {}\".format(bearer_token)}\n",
    "\n",
    "headers = connect_to_twitter()"
   ]
  },
  {
   "cell_type": "code",
   "execution_count": 6,
   "id": "7d0c054a",
   "metadata": {},
   "outputs": [],
   "source": [
    "# Query 7 days of data\n",
    "\n",
    "# Query up to 100 tweets with a keyword\n",
    "def make_search_request(headers, keyword, max_results):\n",
    "    url = \"https://api.twitter.com/2/tweets/search/recent\"\n",
    "    query_params = {'query': keyword,\n",
    "                    'max_results': max_results}\n",
    "    response = requests.get(url, params=query_params, headers=headers)\n",
    "    return response.json()\n",
    "\n",
    "\n",
    "# Query count of tweets with a keyword \n",
    "def make_count_request(headers, keyword):\n",
    "    url = \"https://api.twitter.com/2/tweets/counts/recent\"\n",
    "    query_params = {'query': keyword, \n",
    "                   'granularity': \"day\"} # default is hour\n",
    "    response = requests.get(url, params=query_params, headers=headers)\n",
    "    return response.json()"
   ]
  },
  {
   "cell_type": "code",
   "execution_count": 7,
   "id": "1f7feddc",
   "metadata": {},
   "outputs": [
    {
     "data": {
      "text/plain": [
       "{'edit_history_tweet_ids': ['1635324755359432704'],\n",
       " 'id': '1635324755359432704',\n",
       " 'text': 'The new #ESL Pro Tour for #Dota2 has been revealed! \\nhttps://t.co/aracVjWGIY'}"
      ]
     },
     "execution_count": 7,
     "metadata": {},
     "output_type": "execute_result"
    }
   ],
   "source": [
    "tweets = make_search_request(headers, \"dota2\", 50)\n",
    "tweets['data'][0]"
   ]
  },
  {
   "cell_type": "code",
   "execution_count": 8,
   "id": "731253b4",
   "metadata": {},
   "outputs": [
    {
     "data": {
      "text/plain": [
       "15608"
      ]
     },
     "execution_count": 8,
     "metadata": {},
     "output_type": "execute_result"
    }
   ],
   "source": [
    "tweet_count = make_count_request(headers, \"dota2\")\n",
    "tweet_count_total = sum(x['tweet_count'] for x in tweet_count['data'])\n",
    "tweet_count_total"
   ]
  },
  {
   "cell_type": "code",
   "execution_count": null,
   "id": "2b8c93be",
   "metadata": {},
   "outputs": [],
   "source": []
  }
 ],
 "metadata": {
  "kernelspec": {
   "display_name": "Python 3.10.6 64-bit",
   "language": "python",
   "name": "python3"
  },
  "language_info": {
   "codemirror_mode": {
    "name": "ipython",
    "version": 3
   },
   "file_extension": ".py",
   "mimetype": "text/x-python",
   "name": "python",
   "nbconvert_exporter": "python",
   "pygments_lexer": "ipython3",
   "version": "3.10.6"
  },
  "vscode": {
   "interpreter": {
    "hash": "26de051ba29f2982a8de78e945f0abaf191376122a1563185a90213a26c5da77"
   }
  }
 },
 "nbformat": 4,
 "nbformat_minor": 5
}
