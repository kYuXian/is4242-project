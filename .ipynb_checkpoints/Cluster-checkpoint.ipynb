{
 "cells": [
  {
   "cell_type": "code",
   "execution_count": 13,
   "metadata": {},
   "outputs": [
    {
     "name": "stderr",
     "output_type": "stream",
     "text": [
      "C:\\Users\\Foosh\\anaconda3\\lib\\site-packages\\dask\\dataframe\\utils.py:366: FutureWarning: pandas.Int64Index is deprecated and will be removed from pandas in a future version. Use pandas.Index with the appropriate dtype instead.\n",
      "  _numeric_index_types = (pd.Int64Index, pd.Float64Index, pd.UInt64Index)\n",
      "C:\\Users\\Foosh\\anaconda3\\lib\\site-packages\\dask\\dataframe\\utils.py:366: FutureWarning: pandas.Float64Index is deprecated and will be removed from pandas in a future version. Use pandas.Index with the appropriate dtype instead.\n",
      "  _numeric_index_types = (pd.Int64Index, pd.Float64Index, pd.UInt64Index)\n",
      "C:\\Users\\Foosh\\anaconda3\\lib\\site-packages\\dask\\dataframe\\utils.py:366: FutureWarning: pandas.UInt64Index is deprecated and will be removed from pandas in a future version. Use pandas.Index with the appropriate dtype instead.\n",
      "  _numeric_index_types = (pd.Int64Index, pd.Float64Index, pd.UInt64Index)\n"
     ]
    }
   ],
   "source": [
    "import os \n",
    "import pandas as pd\n",
    "import numpy as np\n",
    "import optuna\n",
    "import lightgbm"
   ]
  },
  {
   "cell_type": "code",
   "execution_count": 2,
   "metadata": {},
   "outputs": [
    {
     "data": {
      "text/plain": [
       "['Raw',\n",
       " 'steam_spy_clean.csv',\n",
       " 'steam_spy_tag_data.csv',\n",
       " 'steam_store_dlc_clean.csv',\n",
       " 'steam_store_games_clean.csv']"
      ]
     },
     "execution_count": 2,
     "metadata": {},
     "output_type": "execute_result"
    }
   ],
   "source": [
    "os.listdir('data')"
   ]
  },
  {
   "cell_type": "code",
   "execution_count": 16,
   "metadata": {},
   "outputs": [
    {
     "name": "stderr",
     "output_type": "stream",
     "text": [
      "<ipython-input-16-b32d3b599816>:3: DtypeWarning: Columns (19) have mixed types. Specify dtype option on import or set low_memory=False.\n",
      "  store_dlc = pd.read_csv(os.path.join('data', 'steam_store_dlc_clean.csv'), index_col = 0)\n"
     ]
    }
   ],
   "source": [
    "spy_clean = pd.read_csv(os.path.join('data', 'steam_spy_clean.csv'))\n",
    "spy_tag = pd.read_csv(os.path.join('data', 'steam_spy_tag_data.csv'))\n",
    "store_dlc = pd.read_csv(os.path.join('data', 'steam_store_dlc_clean.csv'), index_col = 0)\n",
    "store_games = pd.read_csv(os.path.join('data', 'steam_store_games_clean.csv'), index_col = 0)"
   ]
  },
  {
   "cell_type": "code",
   "execution_count": 17,
   "metadata": {},
   "outputs": [
    {
     "name": "stdout",
     "output_type": "stream",
     "text": [
      "False\n",
      "False\n",
      "True\n",
      "True\n"
     ]
    }
   ],
   "source": [
    "print(spy_clean.isnull().any().any())\n",
    "print(spy_tag.isnull().any().any())\n",
    "print(store_dlc.isnull().any().any())\n",
    "print(store_games.isnull().any().any())"
   ]
  },
  {
   "cell_type": "code",
   "execution_count": 18,
   "metadata": {},
   "outputs": [
    {
     "name": "stdout",
     "output_type": "stream",
     "text": [
      "(74053, 12)\n"
     ]
    },
    {
     "data": {
      "text/html": [
       "<div>\n",
       "<style scoped>\n",
       "    .dataframe tbody tr th:only-of-type {\n",
       "        vertical-align: middle;\n",
       "    }\n",
       "\n",
       "    .dataframe tbody tr th {\n",
       "        vertical-align: top;\n",
       "    }\n",
       "\n",
       "    .dataframe thead th {\n",
       "        text-align: right;\n",
       "    }\n",
       "</style>\n",
       "<table border=\"1\" class=\"dataframe\">\n",
       "  <thead>\n",
       "    <tr style=\"text-align: right;\">\n",
       "      <th></th>\n",
       "      <th>appid</th>\n",
       "      <th>name</th>\n",
       "      <th>positive</th>\n",
       "      <th>negative</th>\n",
       "      <th>owners</th>\n",
       "      <th>average_forever</th>\n",
       "      <th>median_forever</th>\n",
       "      <th>price</th>\n",
       "      <th>initialprice</th>\n",
       "      <th>languages</th>\n",
       "      <th>genre</th>\n",
       "      <th>tags</th>\n",
       "    </tr>\n",
       "  </thead>\n",
       "  <tbody>\n",
       "    <tr>\n",
       "      <th>0</th>\n",
       "      <td>1433210</td>\n",
       "      <td>Notebook Artillery</td>\n",
       "      <td>10</td>\n",
       "      <td>0</td>\n",
       "      <td>0-20000</td>\n",
       "      <td>0</td>\n",
       "      <td>0</td>\n",
       "      <td>499.0</td>\n",
       "      <td>499.0</td>\n",
       "      <td>['English']</td>\n",
       "      <td>['Indie']</td>\n",
       "      <td>['Hand-drawn', '2D', 'Arcade']</td>\n",
       "    </tr>\n",
       "    <tr>\n",
       "      <th>1</th>\n",
       "      <td>1433240</td>\n",
       "      <td>Whiskey Island</td>\n",
       "      <td>1</td>\n",
       "      <td>1</td>\n",
       "      <td>0-20000</td>\n",
       "      <td>0</td>\n",
       "      <td>0</td>\n",
       "      <td>1699.0</td>\n",
       "      <td>1699.0</td>\n",
       "      <td>['English']</td>\n",
       "      <td>['Casual', ' Indie', ' Early Access']</td>\n",
       "      <td>['Casual', 'Open World', 'Management']</td>\n",
       "    </tr>\n",
       "    <tr>\n",
       "      <th>2</th>\n",
       "      <td>1433320</td>\n",
       "      <td>Mortal Decay</td>\n",
       "      <td>61</td>\n",
       "      <td>2</td>\n",
       "      <td>0-20000</td>\n",
       "      <td>0</td>\n",
       "      <td>0</td>\n",
       "      <td>299.0</td>\n",
       "      <td>299.0</td>\n",
       "      <td>['English', ' Portuguese - Portugal']</td>\n",
       "      <td>['Action', ' Adventure', ' Indie']</td>\n",
       "      <td>['Horror', 'First-Person', 'Survival Horror']</td>\n",
       "    </tr>\n",
       "    <tr>\n",
       "      <th>3</th>\n",
       "      <td>1433340</td>\n",
       "      <td>Happy's Humble Burger Farm</td>\n",
       "      <td>1009</td>\n",
       "      <td>75</td>\n",
       "      <td>0-20000</td>\n",
       "      <td>0</td>\n",
       "      <td>0</td>\n",
       "      <td>1999.0</td>\n",
       "      <td>1999.0</td>\n",
       "      <td>['English', ' French', ' Italian', ' German', ...</td>\n",
       "      <td>['Action', ' Adventure', ' Indie', ' Simulation']</td>\n",
       "      <td>['Horror', 'First-Person', 'Atmospheric']</td>\n",
       "    </tr>\n",
       "    <tr>\n",
       "      <th>4</th>\n",
       "      <td>1433390</td>\n",
       "      <td>To My Best Friend</td>\n",
       "      <td>4</td>\n",
       "      <td>0</td>\n",
       "      <td>0-20000</td>\n",
       "      <td>0</td>\n",
       "      <td>0</td>\n",
       "      <td>499.0</td>\n",
       "      <td>499.0</td>\n",
       "      <td>['English', ' French', ' Spanish - Spain']</td>\n",
       "      <td>['Indie']</td>\n",
       "      <td>['Story Rich', 'Walking Simulator', 'Emotional']</td>\n",
       "    </tr>\n",
       "  </tbody>\n",
       "</table>\n",
       "</div>"
      ],
      "text/plain": [
       "     appid                        name  positive  negative   owners  \\\n",
       "0  1433210          Notebook Artillery        10         0  0-20000   \n",
       "1  1433240              Whiskey Island         1         1  0-20000   \n",
       "2  1433320                Mortal Decay        61         2  0-20000   \n",
       "3  1433340  Happy's Humble Burger Farm      1009        75  0-20000   \n",
       "4  1433390           To My Best Friend         4         0  0-20000   \n",
       "\n",
       "   average_forever  median_forever   price  initialprice  \\\n",
       "0                0               0   499.0         499.0   \n",
       "1                0               0  1699.0        1699.0   \n",
       "2                0               0   299.0         299.0   \n",
       "3                0               0  1999.0        1999.0   \n",
       "4                0               0   499.0         499.0   \n",
       "\n",
       "                                           languages  \\\n",
       "0                                        ['English']   \n",
       "1                                        ['English']   \n",
       "2              ['English', ' Portuguese - Portugal']   \n",
       "3  ['English', ' French', ' Italian', ' German', ...   \n",
       "4         ['English', ' French', ' Spanish - Spain']   \n",
       "\n",
       "                                               genre  \\\n",
       "0                                          ['Indie']   \n",
       "1              ['Casual', ' Indie', ' Early Access']   \n",
       "2                 ['Action', ' Adventure', ' Indie']   \n",
       "3  ['Action', ' Adventure', ' Indie', ' Simulation']   \n",
       "4                                          ['Indie']   \n",
       "\n",
       "                                               tags  \n",
       "0                    ['Hand-drawn', '2D', 'Arcade']  \n",
       "1            ['Casual', 'Open World', 'Management']  \n",
       "2     ['Horror', 'First-Person', 'Survival Horror']  \n",
       "3         ['Horror', 'First-Person', 'Atmospheric']  \n",
       "4  ['Story Rich', 'Walking Simulator', 'Emotional']  "
      ]
     },
     "execution_count": 18,
     "metadata": {},
     "output_type": "execute_result"
    }
   ],
   "source": [
    "print(spy_clean.shape)\n",
    "spy_clean.head()"
   ]
  },
  {
   "cell_type": "code",
   "execution_count": 19,
   "metadata": {},
   "outputs": [
    {
     "name": "stdout",
     "output_type": "stream",
     "text": [
      "(114902, 451)\n"
     ]
    },
    {
     "data": {
      "text/html": [
       "<div>\n",
       "<style scoped>\n",
       "    .dataframe tbody tr th:only-of-type {\n",
       "        vertical-align: middle;\n",
       "    }\n",
       "\n",
       "    .dataframe tbody tr th {\n",
       "        vertical-align: top;\n",
       "    }\n",
       "\n",
       "    .dataframe thead th {\n",
       "        text-align: right;\n",
       "    }\n",
       "</style>\n",
       "<table border=\"1\" class=\"dataframe\">\n",
       "  <thead>\n",
       "    <tr style=\"text-align: right;\">\n",
       "      <th></th>\n",
       "      <th>appid</th>\n",
       "      <th>1980s</th>\n",
       "      <th>1990s</th>\n",
       "      <th>2.5d</th>\n",
       "      <th>2d</th>\n",
       "      <th>2d_fighter</th>\n",
       "      <th>2d_platformer</th>\n",
       "      <th>360_video</th>\n",
       "      <th>3d</th>\n",
       "      <th>3d_fighter</th>\n",
       "      <th>...</th>\n",
       "      <th>well_written</th>\n",
       "      <th>werewolves</th>\n",
       "      <th>western</th>\n",
       "      <th>wholesome</th>\n",
       "      <th>word_game</th>\n",
       "      <th>world_war_i</th>\n",
       "      <th>world_war_ii</th>\n",
       "      <th>wrestling</th>\n",
       "      <th>zombies</th>\n",
       "      <th>e_sports</th>\n",
       "    </tr>\n",
       "  </thead>\n",
       "  <tbody>\n",
       "    <tr>\n",
       "      <th>0</th>\n",
       "      <td>1433210</td>\n",
       "      <td>112</td>\n",
       "      <td>0</td>\n",
       "      <td>0</td>\n",
       "      <td>196</td>\n",
       "      <td>0</td>\n",
       "      <td>0</td>\n",
       "      <td>0</td>\n",
       "      <td>0</td>\n",
       "      <td>0</td>\n",
       "      <td>...</td>\n",
       "      <td>0</td>\n",
       "      <td>0</td>\n",
       "      <td>0</td>\n",
       "      <td>0</td>\n",
       "      <td>0</td>\n",
       "      <td>0</td>\n",
       "      <td>0</td>\n",
       "      <td>0</td>\n",
       "      <td>0</td>\n",
       "      <td>0</td>\n",
       "    </tr>\n",
       "    <tr>\n",
       "      <th>1</th>\n",
       "      <td>1433240</td>\n",
       "      <td>0</td>\n",
       "      <td>0</td>\n",
       "      <td>0</td>\n",
       "      <td>0</td>\n",
       "      <td>0</td>\n",
       "      <td>0</td>\n",
       "      <td>0</td>\n",
       "      <td>37</td>\n",
       "      <td>0</td>\n",
       "      <td>...</td>\n",
       "      <td>0</td>\n",
       "      <td>0</td>\n",
       "      <td>0</td>\n",
       "      <td>0</td>\n",
       "      <td>0</td>\n",
       "      <td>0</td>\n",
       "      <td>0</td>\n",
       "      <td>0</td>\n",
       "      <td>0</td>\n",
       "      <td>0</td>\n",
       "    </tr>\n",
       "    <tr>\n",
       "      <th>2</th>\n",
       "      <td>1433260</td>\n",
       "      <td>0</td>\n",
       "      <td>0</td>\n",
       "      <td>0</td>\n",
       "      <td>0</td>\n",
       "      <td>0</td>\n",
       "      <td>0</td>\n",
       "      <td>0</td>\n",
       "      <td>0</td>\n",
       "      <td>0</td>\n",
       "      <td>...</td>\n",
       "      <td>0</td>\n",
       "      <td>0</td>\n",
       "      <td>0</td>\n",
       "      <td>0</td>\n",
       "      <td>0</td>\n",
       "      <td>0</td>\n",
       "      <td>0</td>\n",
       "      <td>0</td>\n",
       "      <td>0</td>\n",
       "      <td>0</td>\n",
       "    </tr>\n",
       "    <tr>\n",
       "      <th>3</th>\n",
       "      <td>1433310</td>\n",
       "      <td>0</td>\n",
       "      <td>0</td>\n",
       "      <td>0</td>\n",
       "      <td>0</td>\n",
       "      <td>0</td>\n",
       "      <td>0</td>\n",
       "      <td>0</td>\n",
       "      <td>0</td>\n",
       "      <td>0</td>\n",
       "      <td>...</td>\n",
       "      <td>0</td>\n",
       "      <td>0</td>\n",
       "      <td>0</td>\n",
       "      <td>0</td>\n",
       "      <td>0</td>\n",
       "      <td>0</td>\n",
       "      <td>0</td>\n",
       "      <td>0</td>\n",
       "      <td>0</td>\n",
       "      <td>0</td>\n",
       "    </tr>\n",
       "    <tr>\n",
       "      <th>4</th>\n",
       "      <td>1433320</td>\n",
       "      <td>0</td>\n",
       "      <td>0</td>\n",
       "      <td>0</td>\n",
       "      <td>0</td>\n",
       "      <td>0</td>\n",
       "      <td>0</td>\n",
       "      <td>0</td>\n",
       "      <td>110</td>\n",
       "      <td>0</td>\n",
       "      <td>...</td>\n",
       "      <td>0</td>\n",
       "      <td>0</td>\n",
       "      <td>0</td>\n",
       "      <td>0</td>\n",
       "      <td>0</td>\n",
       "      <td>0</td>\n",
       "      <td>0</td>\n",
       "      <td>0</td>\n",
       "      <td>0</td>\n",
       "      <td>0</td>\n",
       "    </tr>\n",
       "  </tbody>\n",
       "</table>\n",
       "<p>5 rows × 451 columns</p>\n",
       "</div>"
      ],
      "text/plain": [
       "     appid  1980s  1990s  2.5d   2d  2d_fighter  2d_platformer  360_video  \\\n",
       "0  1433210    112      0     0  196           0              0          0   \n",
       "1  1433240      0      0     0    0           0              0          0   \n",
       "2  1433260      0      0     0    0           0              0          0   \n",
       "3  1433310      0      0     0    0           0              0          0   \n",
       "4  1433320      0      0     0    0           0              0          0   \n",
       "\n",
       "    3d  3d_fighter  ...  well_written  werewolves  western  wholesome  \\\n",
       "0    0           0  ...             0           0        0          0   \n",
       "1   37           0  ...             0           0        0          0   \n",
       "2    0           0  ...             0           0        0          0   \n",
       "3    0           0  ...             0           0        0          0   \n",
       "4  110           0  ...             0           0        0          0   \n",
       "\n",
       "   word_game  world_war_i  world_war_ii  wrestling  zombies  e_sports  \n",
       "0          0            0             0          0        0         0  \n",
       "1          0            0             0          0        0         0  \n",
       "2          0            0             0          0        0         0  \n",
       "3          0            0             0          0        0         0  \n",
       "4          0            0             0          0        0         0  \n",
       "\n",
       "[5 rows x 451 columns]"
      ]
     },
     "execution_count": 19,
     "metadata": {},
     "output_type": "execute_result"
    }
   ],
   "source": [
    "print(spy_tag.shape)\n",
    "spy_tag.head()"
   ]
  },
  {
   "cell_type": "code",
   "execution_count": 21,
   "metadata": {},
   "outputs": [
    {
     "name": "stdout",
     "output_type": "stream",
     "text": [
      "(61243, 19)\n"
     ]
    },
    {
     "data": {
      "text/html": [
       "<div>\n",
       "<style scoped>\n",
       "    .dataframe tbody tr th:only-of-type {\n",
       "        vertical-align: middle;\n",
       "    }\n",
       "\n",
       "    .dataframe tbody tr th {\n",
       "        vertical-align: top;\n",
       "    }\n",
       "\n",
       "    .dataframe thead th {\n",
       "        text-align: right;\n",
       "    }\n",
       "</style>\n",
       "<table border=\"1\" class=\"dataframe\">\n",
       "  <thead>\n",
       "    <tr style=\"text-align: right;\">\n",
       "      <th></th>\n",
       "      <th>type</th>\n",
       "      <th>name</th>\n",
       "      <th>steam_appid</th>\n",
       "      <th>required_age</th>\n",
       "      <th>is_free</th>\n",
       "      <th>dlc</th>\n",
       "      <th>developers</th>\n",
       "      <th>publishers</th>\n",
       "      <th>categories</th>\n",
       "      <th>release_date</th>\n",
       "      <th>controller_support</th>\n",
       "      <th>windows</th>\n",
       "      <th>mac</th>\n",
       "      <th>linux</th>\n",
       "      <th>metacritic_score</th>\n",
       "      <th>metacritic_url</th>\n",
       "      <th>initial</th>\n",
       "      <th>final</th>\n",
       "      <th>discount_percent</th>\n",
       "    </tr>\n",
       "  </thead>\n",
       "  <tbody>\n",
       "    <tr>\n",
       "      <th>0</th>\n",
       "      <td>game</td>\n",
       "      <td>Dota 2</td>\n",
       "      <td>570</td>\n",
       "      <td>0</td>\n",
       "      <td>True</td>\n",
       "      <td>[1241930, 652720]</td>\n",
       "      <td>['Valve']</td>\n",
       "      <td>['Valve']</td>\n",
       "      <td>['Multi-player', 'Co-op', 'Steam Trading Cards...</td>\n",
       "      <td>2013-07-09</td>\n",
       "      <td>0</td>\n",
       "      <td>1</td>\n",
       "      <td>1</td>\n",
       "      <td>1</td>\n",
       "      <td>90.0</td>\n",
       "      <td>https://www.metacritic.com/game/pc/dota-2?ftag...</td>\n",
       "      <td>NaN</td>\n",
       "      <td>NaN</td>\n",
       "      <td>NaN</td>\n",
       "    </tr>\n",
       "    <tr>\n",
       "      <th>2</th>\n",
       "      <td>game</td>\n",
       "      <td>Apex Legends™</td>\n",
       "      <td>1172470</td>\n",
       "      <td>0</td>\n",
       "      <td>True</td>\n",
       "      <td>[]</td>\n",
       "      <td>['Respawn Entertainment']</td>\n",
       "      <td>['Electronic Arts']</td>\n",
       "      <td>['Multi-player', 'PvP', 'Online PvP', 'Co-op',...</td>\n",
       "      <td>2020-11-04</td>\n",
       "      <td>1</td>\n",
       "      <td>1</td>\n",
       "      <td>0</td>\n",
       "      <td>0</td>\n",
       "      <td>88.0</td>\n",
       "      <td>https://www.metacritic.com/game/pc/apex-legend...</td>\n",
       "      <td>NaN</td>\n",
       "      <td>NaN</td>\n",
       "      <td>NaN</td>\n",
       "    </tr>\n",
       "    <tr>\n",
       "      <th>3</th>\n",
       "      <td>game</td>\n",
       "      <td>PUBG: BATTLEGROUNDS</td>\n",
       "      <td>578080</td>\n",
       "      <td>0</td>\n",
       "      <td>True</td>\n",
       "      <td>[]</td>\n",
       "      <td>['KRAFTON, Inc.']</td>\n",
       "      <td>['KRAFTON, Inc.']</td>\n",
       "      <td>['Multi-player', 'PvP', 'Online PvP', 'Stats',...</td>\n",
       "      <td>2017-12-21</td>\n",
       "      <td>0</td>\n",
       "      <td>1</td>\n",
       "      <td>0</td>\n",
       "      <td>0</td>\n",
       "      <td>NaN</td>\n",
       "      <td>NaN</td>\n",
       "      <td>NaN</td>\n",
       "      <td>NaN</td>\n",
       "      <td>NaN</td>\n",
       "    </tr>\n",
       "    <tr>\n",
       "      <th>4</th>\n",
       "      <td>game</td>\n",
       "      <td>New World</td>\n",
       "      <td>1063730</td>\n",
       "      <td>0</td>\n",
       "      <td>False</td>\n",
       "      <td>[]</td>\n",
       "      <td>['Amazon Games']</td>\n",
       "      <td>['Amazon Games']</td>\n",
       "      <td>['Multi-player', 'MMO', 'PvP', 'Online PvP', '...</td>\n",
       "      <td>2021-09-28</td>\n",
       "      <td>0</td>\n",
       "      <td>1</td>\n",
       "      <td>0</td>\n",
       "      <td>0</td>\n",
       "      <td>70.0</td>\n",
       "      <td>https://www.metacritic.com/game/pc/new-world?f...</td>\n",
       "      <td>2505.692288</td>\n",
       "      <td>1252.846144</td>\n",
       "      <td>50.0</td>\n",
       "    </tr>\n",
       "    <tr>\n",
       "      <th>5</th>\n",
       "      <td>game</td>\n",
       "      <td>Team Fortress 2</td>\n",
       "      <td>440</td>\n",
       "      <td>0</td>\n",
       "      <td>True</td>\n",
       "      <td>[629330]</td>\n",
       "      <td>['Valve']</td>\n",
       "      <td>['Valve']</td>\n",
       "      <td>['Multi-player', 'Cross-Platform Multiplayer',...</td>\n",
       "      <td>2007-10-10</td>\n",
       "      <td>0</td>\n",
       "      <td>1</td>\n",
       "      <td>1</td>\n",
       "      <td>1</td>\n",
       "      <td>92.0</td>\n",
       "      <td>https://www.metacritic.com/game/pc/team-fortre...</td>\n",
       "      <td>NaN</td>\n",
       "      <td>NaN</td>\n",
       "      <td>NaN</td>\n",
       "    </tr>\n",
       "  </tbody>\n",
       "</table>\n",
       "</div>"
      ],
      "text/plain": [
       "   type                 name  steam_appid  required_age  is_free  \\\n",
       "0  game               Dota 2          570             0     True   \n",
       "2  game        Apex Legends™      1172470             0     True   \n",
       "3  game  PUBG: BATTLEGROUNDS       578080             0     True   \n",
       "4  game            New World      1063730             0    False   \n",
       "5  game      Team Fortress 2          440             0     True   \n",
       "\n",
       "                 dlc                 developers           publishers  \\\n",
       "0  [1241930, 652720]                  ['Valve']            ['Valve']   \n",
       "2                 []  ['Respawn Entertainment']  ['Electronic Arts']   \n",
       "3                 []          ['KRAFTON, Inc.']    ['KRAFTON, Inc.']   \n",
       "4                 []           ['Amazon Games']     ['Amazon Games']   \n",
       "5           [629330]                  ['Valve']            ['Valve']   \n",
       "\n",
       "                                          categories release_date  \\\n",
       "0  ['Multi-player', 'Co-op', 'Steam Trading Cards...   2013-07-09   \n",
       "2  ['Multi-player', 'PvP', 'Online PvP', 'Co-op',...   2020-11-04   \n",
       "3  ['Multi-player', 'PvP', 'Online PvP', 'Stats',...   2017-12-21   \n",
       "4  ['Multi-player', 'MMO', 'PvP', 'Online PvP', '...   2021-09-28   \n",
       "5  ['Multi-player', 'Cross-Platform Multiplayer',...   2007-10-10   \n",
       "\n",
       "   controller_support  windows  mac  linux  metacritic_score  \\\n",
       "0                   0        1    1      1              90.0   \n",
       "2                   1        1    0      0              88.0   \n",
       "3                   0        1    0      0               NaN   \n",
       "4                   0        1    0      0              70.0   \n",
       "5                   0        1    1      1              92.0   \n",
       "\n",
       "                                      metacritic_url      initial  \\\n",
       "0  https://www.metacritic.com/game/pc/dota-2?ftag...          NaN   \n",
       "2  https://www.metacritic.com/game/pc/apex-legend...          NaN   \n",
       "3                                                NaN          NaN   \n",
       "4  https://www.metacritic.com/game/pc/new-world?f...  2505.692288   \n",
       "5  https://www.metacritic.com/game/pc/team-fortre...          NaN   \n",
       "\n",
       "         final  discount_percent  \n",
       "0          NaN               NaN  \n",
       "2          NaN               NaN  \n",
       "3          NaN               NaN  \n",
       "4  1252.846144              50.0  \n",
       "5          NaN               NaN  "
      ]
     },
     "execution_count": 21,
     "metadata": {},
     "output_type": "execute_result"
    }
   ],
   "source": [
    "print(store_games.shape)\n",
    "store_games.head()"
   ]
  },
  {
   "cell_type": "code",
   "execution_count": 24,
   "metadata": {},
   "outputs": [
    {
     "data": {
      "text/html": [
       "<div>\n",
       "<style scoped>\n",
       "    .dataframe tbody tr th:only-of-type {\n",
       "        vertical-align: middle;\n",
       "    }\n",
       "\n",
       "    .dataframe tbody tr th {\n",
       "        vertical-align: top;\n",
       "    }\n",
       "\n",
       "    .dataframe thead th {\n",
       "        text-align: right;\n",
       "    }\n",
       "</style>\n",
       "<table border=\"1\" class=\"dataframe\">\n",
       "  <thead>\n",
       "    <tr style=\"text-align: right;\">\n",
       "      <th></th>\n",
       "      <th>type</th>\n",
       "      <th>name</th>\n",
       "      <th>steam_appid</th>\n",
       "      <th>required_age</th>\n",
       "      <th>is_free</th>\n",
       "      <th>dlc</th>\n",
       "      <th>developers</th>\n",
       "      <th>publishers</th>\n",
       "      <th>categories</th>\n",
       "      <th>release_date</th>\n",
       "      <th>controller_support</th>\n",
       "      <th>windows</th>\n",
       "      <th>mac</th>\n",
       "      <th>linux</th>\n",
       "      <th>metacritic_score</th>\n",
       "      <th>metacritic_url</th>\n",
       "      <th>initial</th>\n",
       "      <th>final</th>\n",
       "      <th>discount_percent</th>\n",
       "    </tr>\n",
       "  </thead>\n",
       "  <tbody>\n",
       "    <tr>\n",
       "      <th>0</th>\n",
       "      <td>game</td>\n",
       "      <td>Dota 2</td>\n",
       "      <td>570</td>\n",
       "      <td>0</td>\n",
       "      <td>True</td>\n",
       "      <td>[1241930, 652720]</td>\n",
       "      <td>['Valve']</td>\n",
       "      <td>['Valve']</td>\n",
       "      <td>['Multi-player', 'Co-op', 'Steam Trading Cards...</td>\n",
       "      <td>2013-07-09</td>\n",
       "      <td>0</td>\n",
       "      <td>1</td>\n",
       "      <td>1</td>\n",
       "      <td>1</td>\n",
       "      <td>90.0</td>\n",
       "      <td>https://www.metacritic.com/game/pc/dota-2?ftag...</td>\n",
       "      <td>NaN</td>\n",
       "      <td>NaN</td>\n",
       "      <td>NaN</td>\n",
       "    </tr>\n",
       "    <tr>\n",
       "      <th>2</th>\n",
       "      <td>game</td>\n",
       "      <td>Apex Legends™</td>\n",
       "      <td>1172470</td>\n",
       "      <td>0</td>\n",
       "      <td>True</td>\n",
       "      <td>[]</td>\n",
       "      <td>['Respawn Entertainment']</td>\n",
       "      <td>['Electronic Arts']</td>\n",
       "      <td>['Multi-player', 'PvP', 'Online PvP', 'Co-op',...</td>\n",
       "      <td>2020-11-04</td>\n",
       "      <td>1</td>\n",
       "      <td>1</td>\n",
       "      <td>0</td>\n",
       "      <td>0</td>\n",
       "      <td>88.0</td>\n",
       "      <td>https://www.metacritic.com/game/pc/apex-legend...</td>\n",
       "      <td>NaN</td>\n",
       "      <td>NaN</td>\n",
       "      <td>NaN</td>\n",
       "    </tr>\n",
       "    <tr>\n",
       "      <th>3</th>\n",
       "      <td>game</td>\n",
       "      <td>PUBG: BATTLEGROUNDS</td>\n",
       "      <td>578080</td>\n",
       "      <td>0</td>\n",
       "      <td>True</td>\n",
       "      <td>[]</td>\n",
       "      <td>['KRAFTON, Inc.']</td>\n",
       "      <td>['KRAFTON, Inc.']</td>\n",
       "      <td>['Multi-player', 'PvP', 'Online PvP', 'Stats',...</td>\n",
       "      <td>2017-12-21</td>\n",
       "      <td>0</td>\n",
       "      <td>1</td>\n",
       "      <td>0</td>\n",
       "      <td>0</td>\n",
       "      <td>NaN</td>\n",
       "      <td>NaN</td>\n",
       "      <td>NaN</td>\n",
       "      <td>NaN</td>\n",
       "      <td>NaN</td>\n",
       "    </tr>\n",
       "    <tr>\n",
       "      <th>5</th>\n",
       "      <td>game</td>\n",
       "      <td>Team Fortress 2</td>\n",
       "      <td>440</td>\n",
       "      <td>0</td>\n",
       "      <td>True</td>\n",
       "      <td>[629330]</td>\n",
       "      <td>['Valve']</td>\n",
       "      <td>['Valve']</td>\n",
       "      <td>['Multi-player', 'Cross-Platform Multiplayer',...</td>\n",
       "      <td>2007-10-10</td>\n",
       "      <td>0</td>\n",
       "      <td>1</td>\n",
       "      <td>1</td>\n",
       "      <td>1</td>\n",
       "      <td>92.0</td>\n",
       "      <td>https://www.metacritic.com/game/pc/team-fortre...</td>\n",
       "      <td>NaN</td>\n",
       "      <td>NaN</td>\n",
       "      <td>NaN</td>\n",
       "    </tr>\n",
       "    <tr>\n",
       "      <th>6</th>\n",
       "      <td>game</td>\n",
       "      <td>Grand Theft Auto V</td>\n",
       "      <td>271590</td>\n",
       "      <td>0</td>\n",
       "      <td>False</td>\n",
       "      <td>[771300]</td>\n",
       "      <td>['Rockstar North']</td>\n",
       "      <td>['Rockstar Games']</td>\n",
       "      <td>['Single-player', 'Multi-player', 'PvP', 'Onli...</td>\n",
       "      <td>2015-04-13</td>\n",
       "      <td>1</td>\n",
       "      <td>1</td>\n",
       "      <td>0</td>\n",
       "      <td>0</td>\n",
       "      <td>96.0</td>\n",
       "      <td>https://www.metacritic.com/game/pc/grand-theft...</td>\n",
       "      <td>NaN</td>\n",
       "      <td>NaN</td>\n",
       "      <td>NaN</td>\n",
       "    </tr>\n",
       "    <tr>\n",
       "      <th>...</th>\n",
       "      <td>...</td>\n",
       "      <td>...</td>\n",
       "      <td>...</td>\n",
       "      <td>...</td>\n",
       "      <td>...</td>\n",
       "      <td>...</td>\n",
       "      <td>...</td>\n",
       "      <td>...</td>\n",
       "      <td>...</td>\n",
       "      <td>...</td>\n",
       "      <td>...</td>\n",
       "      <td>...</td>\n",
       "      <td>...</td>\n",
       "      <td>...</td>\n",
       "      <td>...</td>\n",
       "      <td>...</td>\n",
       "      <td>...</td>\n",
       "      <td>...</td>\n",
       "      <td>...</td>\n",
       "    </tr>\n",
       "    <tr>\n",
       "      <th>61617</th>\n",
       "      <td>game</td>\n",
       "      <td>BoyAndLabyrinth</td>\n",
       "      <td>789710</td>\n",
       "      <td>0</td>\n",
       "      <td>False</td>\n",
       "      <td>[]</td>\n",
       "      <td>['WBTgame']</td>\n",
       "      <td>['WBTgame']</td>\n",
       "      <td>['Single-player', 'Steam Achievements', 'Steam...</td>\n",
       "      <td>2018-03-26</td>\n",
       "      <td>0</td>\n",
       "      <td>1</td>\n",
       "      <td>0</td>\n",
       "      <td>0</td>\n",
       "      <td>NaN</td>\n",
       "      <td>NaN</td>\n",
       "      <td>400.379440</td>\n",
       "      <td>400.379440</td>\n",
       "      <td>0.0</td>\n",
       "    </tr>\n",
       "    <tr>\n",
       "      <th>61618</th>\n",
       "      <td>game</td>\n",
       "      <td>Hidden Cubes</td>\n",
       "      <td>729290</td>\n",
       "      <td>0</td>\n",
       "      <td>False</td>\n",
       "      <td>[]</td>\n",
       "      <td>['NixieCraft']</td>\n",
       "      <td>['NixieCraft']</td>\n",
       "      <td>['Single-player', 'Steam Achievements', 'Steam...</td>\n",
       "      <td>2018-02-07</td>\n",
       "      <td>0</td>\n",
       "      <td>1</td>\n",
       "      <td>1</td>\n",
       "      <td>1</td>\n",
       "      <td>NaN</td>\n",
       "      <td>NaN</td>\n",
       "      <td>492.277945</td>\n",
       "      <td>492.277945</td>\n",
       "      <td>0.0</td>\n",
       "    </tr>\n",
       "    <tr>\n",
       "      <th>61621</th>\n",
       "      <td>game</td>\n",
       "      <td>Simian Rising</td>\n",
       "      <td>848400</td>\n",
       "      <td>0</td>\n",
       "      <td>False</td>\n",
       "      <td>[]</td>\n",
       "      <td>['All Caps Industries']</td>\n",
       "      <td>['All Caps Industries']</td>\n",
       "      <td>['Single-player']</td>\n",
       "      <td>2018-06-13</td>\n",
       "      <td>0</td>\n",
       "      <td>1</td>\n",
       "      <td>0</td>\n",
       "      <td>0</td>\n",
       "      <td>NaN</td>\n",
       "      <td>NaN</td>\n",
       "      <td>973.407167</td>\n",
       "      <td>973.407167</td>\n",
       "      <td>0.0</td>\n",
       "    </tr>\n",
       "    <tr>\n",
       "      <th>61638</th>\n",
       "      <td>game</td>\n",
       "      <td>Yoke Light</td>\n",
       "      <td>858730</td>\n",
       "      <td>0</td>\n",
       "      <td>False</td>\n",
       "      <td>[]</td>\n",
       "      <td>['Kotoshiro']</td>\n",
       "      <td>['Kotoshiro']</td>\n",
       "      <td>['Single-player']</td>\n",
       "      <td>2018-06-28</td>\n",
       "      <td>0</td>\n",
       "      <td>1</td>\n",
       "      <td>0</td>\n",
       "      <td>0</td>\n",
       "      <td>NaN</td>\n",
       "      <td>NaN</td>\n",
       "      <td>80.483229</td>\n",
       "      <td>80.483229</td>\n",
       "      <td>0.0</td>\n",
       "    </tr>\n",
       "    <tr>\n",
       "      <th>61639</th>\n",
       "      <td>game</td>\n",
       "      <td>Skeleton Runner</td>\n",
       "      <td>2223470</td>\n",
       "      <td>0</td>\n",
       "      <td>False</td>\n",
       "      <td>[]</td>\n",
       "      <td>['Mixtor', 'Tero Lunkka']</td>\n",
       "      <td>['Tero Lunkka']</td>\n",
       "      <td>['Single-player', 'Steam Achievements']</td>\n",
       "      <td>2022-12-03</td>\n",
       "      <td>0</td>\n",
       "      <td>1</td>\n",
       "      <td>0</td>\n",
       "      <td>0</td>\n",
       "      <td>NaN</td>\n",
       "      <td>NaN</td>\n",
       "      <td>81.519719</td>\n",
       "      <td>41.500948</td>\n",
       "      <td>49.0</td>\n",
       "    </tr>\n",
       "  </tbody>\n",
       "</table>\n",
       "<p>57719 rows × 19 columns</p>\n",
       "</div>"
      ],
      "text/plain": [
       "       type                 name  steam_appid  required_age  is_free  \\\n",
       "0      game               Dota 2          570             0     True   \n",
       "2      game        Apex Legends™      1172470             0     True   \n",
       "3      game  PUBG: BATTLEGROUNDS       578080             0     True   \n",
       "5      game      Team Fortress 2          440             0     True   \n",
       "6      game   Grand Theft Auto V       271590             0    False   \n",
       "...     ...                  ...          ...           ...      ...   \n",
       "61617  game      BoyAndLabyrinth       789710             0    False   \n",
       "61618  game         Hidden Cubes       729290             0    False   \n",
       "61621  game        Simian Rising       848400             0    False   \n",
       "61638  game           Yoke Light       858730             0    False   \n",
       "61639  game      Skeleton Runner      2223470             0    False   \n",
       "\n",
       "                     dlc                 developers               publishers  \\\n",
       "0      [1241930, 652720]                  ['Valve']                ['Valve']   \n",
       "2                     []  ['Respawn Entertainment']      ['Electronic Arts']   \n",
       "3                     []          ['KRAFTON, Inc.']        ['KRAFTON, Inc.']   \n",
       "5               [629330]                  ['Valve']                ['Valve']   \n",
       "6               [771300]         ['Rockstar North']       ['Rockstar Games']   \n",
       "...                  ...                        ...                      ...   \n",
       "61617                 []                ['WBTgame']              ['WBTgame']   \n",
       "61618                 []             ['NixieCraft']           ['NixieCraft']   \n",
       "61621                 []    ['All Caps Industries']  ['All Caps Industries']   \n",
       "61638                 []              ['Kotoshiro']            ['Kotoshiro']   \n",
       "61639                 []  ['Mixtor', 'Tero Lunkka']          ['Tero Lunkka']   \n",
       "\n",
       "                                              categories release_date  \\\n",
       "0      ['Multi-player', 'Co-op', 'Steam Trading Cards...   2013-07-09   \n",
       "2      ['Multi-player', 'PvP', 'Online PvP', 'Co-op',...   2020-11-04   \n",
       "3      ['Multi-player', 'PvP', 'Online PvP', 'Stats',...   2017-12-21   \n",
       "5      ['Multi-player', 'Cross-Platform Multiplayer',...   2007-10-10   \n",
       "6      ['Single-player', 'Multi-player', 'PvP', 'Onli...   2015-04-13   \n",
       "...                                                  ...          ...   \n",
       "61617  ['Single-player', 'Steam Achievements', 'Steam...   2018-03-26   \n",
       "61618  ['Single-player', 'Steam Achievements', 'Steam...   2018-02-07   \n",
       "61621                                  ['Single-player']   2018-06-13   \n",
       "61638                                  ['Single-player']   2018-06-28   \n",
       "61639            ['Single-player', 'Steam Achievements']   2022-12-03   \n",
       "\n",
       "       controller_support  windows  mac  linux  metacritic_score  \\\n",
       "0                       0        1    1      1              90.0   \n",
       "2                       1        1    0      0              88.0   \n",
       "3                       0        1    0      0               NaN   \n",
       "5                       0        1    1      1              92.0   \n",
       "6                       1        1    0      0              96.0   \n",
       "...                   ...      ...  ...    ...               ...   \n",
       "61617                   0        1    0      0               NaN   \n",
       "61618                   0        1    1      1               NaN   \n",
       "61621                   0        1    0      0               NaN   \n",
       "61638                   0        1    0      0               NaN   \n",
       "61639                   0        1    0      0               NaN   \n",
       "\n",
       "                                          metacritic_url     initial  \\\n",
       "0      https://www.metacritic.com/game/pc/dota-2?ftag...         NaN   \n",
       "2      https://www.metacritic.com/game/pc/apex-legend...         NaN   \n",
       "3                                                    NaN         NaN   \n",
       "5      https://www.metacritic.com/game/pc/team-fortre...         NaN   \n",
       "6      https://www.metacritic.com/game/pc/grand-theft...         NaN   \n",
       "...                                                  ...         ...   \n",
       "61617                                                NaN  400.379440   \n",
       "61618                                                NaN  492.277945   \n",
       "61621                                                NaN  973.407167   \n",
       "61638                                                NaN   80.483229   \n",
       "61639                                                NaN   81.519719   \n",
       "\n",
       "            final  discount_percent  \n",
       "0             NaN               NaN  \n",
       "2             NaN               NaN  \n",
       "3             NaN               NaN  \n",
       "5             NaN               NaN  \n",
       "6             NaN               NaN  \n",
       "...           ...               ...  \n",
       "61617  400.379440               0.0  \n",
       "61618  492.277945               0.0  \n",
       "61621  973.407167               0.0  \n",
       "61638   80.483229               0.0  \n",
       "61639   41.500948              49.0  \n",
       "\n",
       "[57719 rows x 19 columns]"
      ]
     },
     "execution_count": 24,
     "metadata": {},
     "output_type": "execute_result"
    }
   ],
   "source": [
    "store_games[store_games.isnull().any(axis = 1)]"
   ]
  },
  {
   "cell_type": "code",
   "execution_count": 29,
   "metadata": {},
   "outputs": [],
   "source": [
    "merged = store_games.merge(spy_clean, how = 'inner', left_on = 'steam_appid', right_on = 'appid')"
   ]
  },
  {
   "cell_type": "code",
   "execution_count": 31,
   "metadata": {},
   "outputs": [],
   "source": [
    "merged.drop(['type', 'name_x', 'name_y', 'dlc'], axis = 1, inplace = True)"
   ]
  },
  {
   "cell_type": "code",
   "execution_count": 34,
   "metadata": {},
   "outputs": [
    {
     "name": "stdout",
     "output_type": "stream",
     "text": [
      "['steam_appid', 'required_age', 'is_free', 'developers', 'publishers', 'categories', 'release_date', 'controller_support', 'windows', 'mac', 'linux', 'metacritic_score', 'metacritic_url', 'initial', 'final', 'discount_percent', 'appid', 'positive', 'negative', 'owners', 'average_forever', 'median_forever', 'price', 'initialprice', 'languages', 'genre', 'tags']\n"
     ]
    }
   ],
   "source": [
    "print(list(merged.columns))"
   ]
  },
  {
   "cell_type": "code",
   "execution_count": 56,
   "metadata": {},
   "outputs": [],
   "source": [
    "subset = merged[['categories', 'positive', 'negative', 'owners', 'average_forever', 'median_forever','genre', 'tags', 'price']].copy()"
   ]
  },
  {
   "cell_type": "code",
   "execution_count": 57,
   "metadata": {},
   "outputs": [],
   "source": [
    "subset['categories'] = subset['categories'].apply(lambda x: len(eval(x)))\n",
    "subset['genre'] = subset['genre'].apply(lambda x: len(eval(x)))\n",
    "subset['tags'] = subset['tags'].apply(lambda x: len(eval(x)))\n",
    "subset['owners'] = subset['owners'].apply(lambda x: int(x.split('-')[0]))"
   ]
  },
  {
   "cell_type": "code",
   "execution_count": 62,
   "metadata": {},
   "outputs": [
    {
     "data": {
      "text/html": [
       "<div>\n",
       "<style scoped>\n",
       "    .dataframe tbody tr th:only-of-type {\n",
       "        vertical-align: middle;\n",
       "    }\n",
       "\n",
       "    .dataframe tbody tr th {\n",
       "        vertical-align: top;\n",
       "    }\n",
       "\n",
       "    .dataframe thead th {\n",
       "        text-align: right;\n",
       "    }\n",
       "</style>\n",
       "<table border=\"1\" class=\"dataframe\">\n",
       "  <thead>\n",
       "    <tr style=\"text-align: right;\">\n",
       "      <th></th>\n",
       "      <th>categories</th>\n",
       "      <th>positive</th>\n",
       "      <th>negative</th>\n",
       "      <th>owners</th>\n",
       "      <th>average_forever</th>\n",
       "      <th>median_forever</th>\n",
       "      <th>genre</th>\n",
       "      <th>tags</th>\n",
       "      <th>price</th>\n",
       "    </tr>\n",
       "  </thead>\n",
       "  <tbody>\n",
       "    <tr>\n",
       "      <th>0</th>\n",
       "      <td>7</td>\n",
       "      <td>1607914</td>\n",
       "      <td>337779</td>\n",
       "      <td>200000000</td>\n",
       "      <td>40686</td>\n",
       "      <td>897</td>\n",
       "      <td>3</td>\n",
       "      <td>3</td>\n",
       "      <td>0.0</td>\n",
       "    </tr>\n",
       "    <tr>\n",
       "      <th>1</th>\n",
       "      <td>9</td>\n",
       "      <td>510084</td>\n",
       "      <td>104286</td>\n",
       "      <td>50000000</td>\n",
       "      <td>7380</td>\n",
       "      <td>743</td>\n",
       "      <td>3</td>\n",
       "      <td>3</td>\n",
       "      <td>0.0</td>\n",
       "    </tr>\n",
       "    <tr>\n",
       "      <th>2</th>\n",
       "      <td>6</td>\n",
       "      <td>1228783</td>\n",
       "      <td>924298</td>\n",
       "      <td>50000000</td>\n",
       "      <td>22786</td>\n",
       "      <td>6637</td>\n",
       "      <td>4</td>\n",
       "      <td>3</td>\n",
       "      <td>0.0</td>\n",
       "    </tr>\n",
       "    <tr>\n",
       "      <th>3</th>\n",
       "      <td>8</td>\n",
       "      <td>176134</td>\n",
       "      <td>75910</td>\n",
       "      <td>50000000</td>\n",
       "      <td>7834</td>\n",
       "      <td>2978</td>\n",
       "      <td>4</td>\n",
       "      <td>3</td>\n",
       "      <td>3999.0</td>\n",
       "    </tr>\n",
       "    <tr>\n",
       "      <th>4</th>\n",
       "      <td>14</td>\n",
       "      <td>881554</td>\n",
       "      <td>58658</td>\n",
       "      <td>50000000</td>\n",
       "      <td>10279</td>\n",
       "      <td>399</td>\n",
       "      <td>2</td>\n",
       "      <td>3</td>\n",
       "      <td>0.0</td>\n",
       "    </tr>\n",
       "  </tbody>\n",
       "</table>\n",
       "</div>"
      ],
      "text/plain": [
       "   categories  positive  negative     owners  average_forever  median_forever  \\\n",
       "0           7   1607914    337779  200000000            40686             897   \n",
       "1           9    510084    104286   50000000             7380             743   \n",
       "2           6   1228783    924298   50000000            22786            6637   \n",
       "3           8    176134     75910   50000000             7834            2978   \n",
       "4          14    881554     58658   50000000            10279             399   \n",
       "\n",
       "   genre  tags   price  \n",
       "0      3     3     0.0  \n",
       "1      3     3     0.0  \n",
       "2      4     3     0.0  \n",
       "3      4     3  3999.0  \n",
       "4      2     3     0.0  "
      ]
     },
     "execution_count": 62,
     "metadata": {},
     "output_type": "execute_result"
    }
   ],
   "source": [
    "subset.head()"
   ]
  },
  {
   "cell_type": "code",
   "execution_count": 80,
   "metadata": {},
   "outputs": [],
   "source": [
    "from sklearn.cluster import KMeans\n",
    "from sklearn.preprocessing import StandardScaler\n",
    "import matplotlib.pyplot as plt\n",
    "import seaborn as sns\n",
    "sns.set_palette(\"tab10\")\n",
    "subset_scaled = StandardScaler().fit_transform(subset)\n"
   ]
  },
  {
   "cell_type": "code",
   "execution_count": 68,
   "metadata": {},
   "outputs": [
    {
     "data": {
      "text/plain": [
       "[<matplotlib.lines.Line2D at 0x19427ebf610>]"
      ]
     },
     "execution_count": 68,
     "metadata": {},
     "output_type": "execute_result"
    },
    {
     "data": {
      "image/png": "[encoded data removed]",
      "text/plain": [
       "<Figure size 432x288 with 1 Axes>"
      ]
     },
     "metadata": {
      "needs_background": "light"
     },
     "output_type": "display_data"
    }
   ],
   "source": [
    "clusters = [i for i in range(2, 30)]\n",
    "errors = []\n",
    "\n",
    "for k in clusters:\n",
    "    kmeans = KMeans(n_clusters=k)\n",
    "    fit_kmeans = kmeans.fit(subset_scaled)\n",
    "    errors.append(fit_kmeans.inertia_)\n",
    "    \n",
    "plt.plot(errors)"
   ]
  },
  {
   "cell_type": "code",
   "execution_count": 97,
   "metadata": {},
   "outputs": [],
   "source": [
    "kmeans = KMeans(n_clusters = 7)\n",
    "fit_kmeans = kmeans.fit(subset_scaled)\n",
    "subset['cluster'] = fit_kmeans.labels_"
   ]
  },
  {
   "cell_type": "code",
   "execution_count": 98,
   "metadata": {},
   "outputs": [
    {
     "data": {
      "text/plain": [
       "<matplotlib.axes._subplots.AxesSubplot at 0x194317ec100>"
      ]
     },
     "execution_count": 98,
     "metadata": {},
     "output_type": "execute_result"
    },
    {
     "data": {
      "image/png": "[encoded data removed]",
      "text/plain": [
       "<Figure size 864x720 with 1 Axes>"
      ]
     },
     "metadata": {
      "needs_background": "light"
     },
     "output_type": "display_data"
    }
   ],
   "source": [
    "plt.figure(figsize = (12, 10))\n",
    "\n",
    "sns.scatterplot(data = subset, x = 'positive', y='negative', hue = 'cluster')"
   ]
  },
  {
   "cell_type": "code",
   "execution_count": 101,
   "metadata": {},
   "outputs": [
    {
     "data": {
      "text/plain": [
       "<matplotlib.axes._subplots.AxesSubplot at 0x19433df1d60>"
      ]
     },
     "execution_count": 101,
     "metadata": {},
     "output_type": "execute_result"
    },
    {
     "data": {
      "image/png": "[encoded data removed]",
      "text/plain": [
       "<Figure size 864x720 with 1 Axes>"
      ]
     },
     "metadata": {
      "needs_background": "light"
     },
     "output_type": "display_data"
    }
   ],
   "source": [
    "plt.figure(figsize = (12, 10))\n",
    "sns.countplot(data = subset, x = 'owners',hue = 'cluster')"
   ]
  },
  {
   "cell_type": "code",
   "execution_count": 103,
   "metadata": {},
   "outputs": [
    {
     "data": {
      "text/plain": [
       "<matplotlib.axes._subplots.AxesSubplot at 0x194342efa00>"
      ]
     },
     "execution_count": 103,
     "metadata": {},
     "output_type": "execute_result"
    },
    {
     "data": {
      "image/png": "[encoded data removed]",
      "text/plain": [
       "<Figure size 864x720 with 1 Axes>"
      ]
     },
     "metadata": {
      "needs_background": "light"
     },
     "output_type": "display_data"
    }
   ],
   "source": [
    "plt.figure(figsize = (12, 10))\n",
    "sns.scatterplot(data = subset, x = 'owners', y = 'positive', hue = 'cluster')"
   ]
  },
  {
   "cell_type": "code",
   "execution_count": 106,
   "metadata": {},
   "outputs": [
    {
     "data": {
      "text/plain": [
       "<matplotlib.axes._subplots.AxesSubplot at 0x194345efc10>"
      ]
     },
     "execution_count": 106,
     "metadata": {},
     "output_type": "execute_result"
    },
    {
     "data": {
      "image/png": "[encoded data removed]",
      "text/plain": [
       "<Figure size 432x288 with 1 Axes>"
      ]
     },
     "metadata": {
      "needs_background": "light"
     },
     "output_type": "display_data"
    }
   ],
   "source": [
    "\n",
    "subset.groupby('cluster')['positive'].mean().plot(kind = 'bar')"
   ]
  },
  {
   "cell_type": "code",
   "execution_count": 107,
   "metadata": {},
   "outputs": [
    {
     "data": {
      "text/plain": [
       "<matplotlib.axes._subplots.AxesSubplot at 0x19434651a60>"
      ]
     },
     "execution_count": 107,
     "metadata": {},
     "output_type": "execute_result"
    },
    {
     "data": {
      "image/png": "[encoded data removed]",
      "text/plain": [
       "<Figure size 432x288 with 1 Axes>"
      ]
     },
     "metadata": {
      "needs_background": "light"
     },
     "output_type": "display_data"
    }
   ],
   "source": [
    "subset.groupby('cluster')['negative'].mean().plot(kind = 'bar')\n"
   ]
  },
  {
   "cell_type": "code",
   "execution_count": 110,
   "metadata": {},
   "outputs": [
    {
     "data": {
      "text/plain": [
       "<matplotlib.axes._subplots.AxesSubplot at 0x19435091f70>"
      ]
     },
     "execution_count": 110,
     "metadata": {},
     "output_type": "execute_result"
    },
    {
     "data": {
      "image/png": "[encoded data removed]",
      "text/plain": [
       "<Figure size 432x288 with 1 Axes>"
      ]
     },
     "metadata": {
      "needs_background": "light"
     },
     "output_type": "display_data"
    }
   ],
   "source": [
    "subset.groupby('cluster')['average_forever'].mean().plot(kind = 'bar')"
   ]
  },
  {
   "cell_type": "code",
   "execution_count": 111,
   "metadata": {},
   "outputs": [
    {
     "data": {
      "text/plain": [
       "<matplotlib.axes._subplots.AxesSubplot at 0x194350f8af0>"
      ]
     },
     "execution_count": 111,
     "metadata": {},
     "output_type": "execute_result"
    },
    {
     "data": {
      "image/png": "[encoded data removed]",
      "text/plain": [
       "<Figure size 432x288 with 1 Axes>"
      ]
     },
     "metadata": {
      "needs_background": "light"
     },
     "output_type": "display_data"
    }
   ],
   "source": [
    "subset.groupby('cluster')['median_forever'].mean().plot(kind = 'bar')"
   ]
  },
  {
   "cell_type": "code",
   "execution_count": 112,
   "metadata": {},
   "outputs": [
    {
     "data": {
      "text/plain": [
       "<matplotlib.axes._subplots.AxesSubplot at 0x1943515b760>"
      ]
     },
     "execution_count": 112,
     "metadata": {},
     "output_type": "execute_result"
    },
    {
     "data": {
      "image/png": "[encoded data removed]",
      "text/plain": [
       "<Figure size 432x288 with 1 Axes>"
      ]
     },
     "metadata": {
      "needs_background": "light"
     },
     "output_type": "display_data"
    }
   ],
   "source": [
    "subset.groupby('cluster')['price'].mean().plot(kind = 'bar')\n"
   ]
  }
 ],
 "metadata": {
  "kernelspec": {
   "display_name": "Python 3",
   "language": "python",
   "name": "python3"
  },
  "language_info": {
   "codemirror_mode": {
    "name": "ipython",
    "version": 3
   },
   "file_extension": ".py",
   "mimetype": "text/x-python",
   "name": "python",
   "nbconvert_exporter": "python",
   "pygments_lexer": "ipython3",
   "version": "3.8.3"
  }
 },
 "nbformat": 4,
 "nbformat_minor": 4
}
